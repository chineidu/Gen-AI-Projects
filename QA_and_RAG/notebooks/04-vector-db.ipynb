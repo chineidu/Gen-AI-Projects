{
 "cells": [
  {
   "cell_type": "markdown",
   "metadata": {},
   "source": [
    "# [Q-DRANT](https://qdrant.tech/documentation/quickstart/)\n",
    "\n",
    "## Setup\n",
    "\n",
    "### Run QDrant Using Docker\n",
    "\n",
    "```sh\n",
    "docker run -p 6333:6333 -p 6334:6334 \\\n",
    "    -v $(pwd)/qdrant_storage:/qdrant/storage:z \\\n",
    "    --name qdrant-db --rm \\\n",
    "    qdrant/qdrant\n",
    "```"
   ]
  },
  {
   "cell_type": "code",
   "execution_count": 1,
   "metadata": {},
   "outputs": [],
   "source": [
    "# Built-in library\n",
    "from pathlib import Path\n",
    "import re\n",
    "import json\n",
    "from typing import Any, Literal, Optional, Union\n",
    "import logging\n",
    "import warnings\n",
    "\n",
    "# Standard imports\n",
    "import numpy as np\n",
    "import numpy.typing as npt\n",
    "from pprint import pprint\n",
    "import pandas as pd\n",
    "import polars as pl\n",
    "from rich.console import Console\n",
    "from rich.theme import Theme\n",
    "\n",
    "custom_theme = Theme(\n",
    "    {\n",
    "        \"white\": \"#FFFFFF\",  # Bright white\n",
    "        \"info\": \"#00FF00\",  # Bright green\n",
    "        \"warning\": \"#FFD700\",  # Bright gold\n",
    "        \"error\": \"#FF1493\",  # Deep pink\n",
    "        \"success\": \"#00FFFF\",  # Cyan\n",
    "        \"highlight\": \"#FF4500\",  # Orange-red\n",
    "    }\n",
    ")\n",
    "console = Console(theme=custom_theme)\n",
    "\n",
    "# Visualization\n",
    "# import matplotlib.pyplot as plt\n",
    "\n",
    "# NumPy settings\n",
    "np.set_printoptions(precision=4)\n",
    "\n",
    "# Pandas settings\n",
    "pd.options.display.max_rows = 1_000\n",
    "pd.options.display.max_columns = 1_000\n",
    "pd.options.display.max_colwidth = 600\n",
    "\n",
    "# Polars settings\n",
    "pl.Config.set_fmt_str_lengths(1_000)\n",
    "pl.Config.set_tbl_cols(n=1_000)\n",
    "pl.Config.set_tbl_rows(n=1_000)\n",
    "\n",
    "warnings.filterwarnings(\"ignore\")\n",
    "\n",
    "# Black code formatter (Optional)\n",
    "%load_ext lab_black\n",
    "\n",
    "# auto reload imports\n",
    "%load_ext autoreload\n",
    "%autoreload 2"
   ]
  },
  {
   "cell_type": "code",
   "execution_count": 2,
   "metadata": {},
   "outputs": [],
   "source": [
    "def go_up_from_current_directory(*, go_up: int = 1) -> None:\n",
    "    \"\"\"This is used to up a number of directories.\n",
    "\n",
    "    Params:\n",
    "    -------\n",
    "    go_up: int, default=1\n",
    "        This indicates the number of times to go back up from the current directory.\n",
    "\n",
    "    Returns:\n",
    "    --------\n",
    "    None\n",
    "    \"\"\"\n",
    "    import os\n",
    "    import sys\n",
    "\n",
    "    CONST: str = \"../\"\n",
    "    NUM: str = CONST * go_up\n",
    "\n",
    "    # Goto the previous directory\n",
    "    prev_directory = os.path.join(os.path.dirname(__name__), NUM)\n",
    "    # Get the 'absolute path' of the previous directory\n",
    "    abs_path_prev_directory = os.path.abspath(prev_directory)\n",
    "\n",
    "    # Add the path to the System paths\n",
    "    sys.path.insert(0, abs_path_prev_directory)\n",
    "    print(abs_path_prev_directory)"
   ]
  },
  {
   "cell_type": "code",
   "execution_count": 3,
   "metadata": {},
   "outputs": [
    {
     "name": "stdout",
     "output_type": "stream",
     "text": [
      "/Users/neidu/Desktop/Projects/Personal/My_Projects/Gen-AI-Projects\n"
     ]
    }
   ],
   "source": [
    "go_up_from_current_directory(go_up=2)\n",
    "\n",
    "from QA_and_RAG import PACKAGE_ROOT_PATH\n",
    "from QA_and_RAG.src.utils.utilities import ProcessFiles\n",
    "from config import config, settings"
   ]
  },
  {
   "cell_type": "code",
   "execution_count": 5,
   "metadata": {},
   "outputs": [],
   "source": [
    "from qdrant_client import QdrantClient, models\n",
    "from sentence_transformers import SentenceTransformer"
   ]
  },
  {
   "cell_type": "code",
   "execution_count": 6,
   "metadata": {},
   "outputs": [
    {
     "data": {
      "text/plain": [
       "384"
      ]
     },
     "execution_count": 6,
     "metadata": {},
     "output_type": "execute_result"
    }
   ],
   "source": [
    "model_name_or_path: str = \"all-MiniLM-L6-v2\"\n",
    "encoder: SentenceTransformer = SentenceTransformer(\n",
    "    model_name_or_path, cache_folder=config.QA_and_RAG.encoder_model.cache_folder\n",
    ")\n",
    "\n",
    "encoder.get_sentence_embedding_dimension()"
   ]
  },
  {
   "cell_type": "markdown",
   "metadata": {},
   "source": [
    "### Add Dataset"
   ]
  },
  {
   "cell_type": "code",
   "execution_count": null,
   "metadata": {},
   "outputs": [],
   "source": [
    "fp: str = \"../data/vector_db_data/music-sample-data.csv\"\n",
    "df: pl.DataFrame = pl.read_csv(fp)\n",
    "# .with_columns(\n",
    "#     metadata=pl.concat_str(\n",
    "#         [\"name\", \"sex\", \"ticket\"],\n",
    "#         separator=\" || \",\n",
    "#     )\n",
    "# )\n",
    "\n",
    "sample_df: pl.DataFrame = df.sample(df.shape[0], seed=1)\n",
    "sample_df.head()"
   ]
  },
  {
   "cell_type": "code",
   "execution_count": null,
   "metadata": {},
   "outputs": [],
   "source": [
    "documents: list[dict[str, Any]] = sample_df.to_dicts()\n",
    "sample_df.to_dicts()[:2]"
   ]
  },
  {
   "cell_type": "markdown",
   "metadata": {},
   "source": [
    "### Create Client And Collection"
   ]
  },
  {
   "cell_type": "code",
   "execution_count": 8,
   "metadata": {},
   "outputs": [],
   "source": [
    "from qdrant_client.http.exceptions import ResponseHandlingException"
   ]
  },
  {
   "cell_type": "code",
   "execution_count": null,
   "metadata": {},
   "outputs": [],
   "source": [
    "# host: str = \"0.0.0.0\"\n",
    "# port: int = 6333\n",
    "# api_key: str | None = None\n",
    "# client = QdrantClient(url=\"http://localhost:6333\")\n",
    "\n",
    "client: QdrantClient = QdrantClient(\n",
    "    host=settings.QDRANT_HOST,\n",
    "    port=settings.QDRANT_PORT,\n",
    "    api_key=settings.QDRANT_API_KEY.get_secret_value(),\n",
    "    https=False,\n",
    ")\n",
    "\n",
    "\n",
    "try:\n",
    "    client.get_collections().collections\n",
    "    print(\"Qdrant server is running.\")\n",
    "except ResponseHandlingException as e:\n",
    "    print(f\"Qdrant server is not running. Error: {e}\")"
   ]
  },
  {
   "cell_type": "code",
   "execution_count": null,
   "metadata": {},
   "outputs": [],
   "source": [
    "# Create collection\n",
    "collection_name: str = \"music_collection\"\n",
    "embedding_size: int = encoder.get_sentence_embedding_dimension()\n",
    "\n",
    "if collection_name in [col.name for col in client.get_collections().collections]:\n",
    "    print(f\"Collection '{collection_name}' already exists.\")\n",
    "\n",
    "else:\n",
    "    print(f\"Creating collection '{collection_name}'.\")\n",
    "    client.create_collection(\n",
    "        collection_name=collection_name,\n",
    "        vectors_config=models.VectorParams(\n",
    "            size=embedding_size, distance=models.Distance.COSINE\n",
    "        ),\n",
    "    )"
   ]
  },
  {
   "cell_type": "code",
   "execution_count": null,
   "metadata": {},
   "outputs": [],
   "source": [
    "if client.collection_exists(collection_name=collection_name):\n",
    "    print(\"Database exists\")\n",
    "else:\n",
    "    print(\"Database does not exist\")"
   ]
  },
  {
   "cell_type": "markdown",
   "metadata": {},
   "source": [
    "### Upload Data to Qdrant"
   ]
  },
  {
   "cell_type": "code",
   "execution_count": null,
   "metadata": {},
   "outputs": [],
   "source": [
    "res = encoder.encode(\"This is a test.\")\n",
    "\n",
    "res.tolist()[:2]"
   ]
  },
  {
   "cell_type": "code",
   "execution_count": null,
   "metadata": {},
   "outputs": [],
   "source": [
    "def embed_document(document: str) -> list[float]:\n",
    "    \"\"\"Embed a document using an embedding model.\"\"\"\n",
    "    return encoder.encode(document).tolist()\n",
    "\n",
    "\n",
    "len(embed_document(\"This is a test.\"))"
   ]
  },
  {
   "cell_type": "code",
   "execution_count": null,
   "metadata": {},
   "outputs": [],
   "source": [
    "client.upsert(\n",
    "    collection_name=collection_name,\n",
    "    points=[\n",
    "        models.PointStruct(\n",
    "            id=idx, vector=embed_document(doc[\"description\"]), payload=doc\n",
    "        )\n",
    "        for idx, doc in enumerate(documents)\n",
    "    ],\n",
    ")"
   ]
  },
  {
   "cell_type": "markdown",
   "metadata": {},
   "source": [
    "### Query The Vector Database"
   ]
  },
  {
   "cell_type": "code",
   "execution_count": null,
   "metadata": {},
   "outputs": [],
   "source": [
    "query: str = \"rap battle\"\n",
    "\n",
    "hits = client.query_points(\n",
    "    collection_name=collection_name, query=embed_document(query), limit=3\n",
    ")\n",
    "hits.points"
   ]
  },
  {
   "cell_type": "code",
   "execution_count": null,
   "metadata": {},
   "outputs": [],
   "source": [
    "print(f\"Query: {query}\")\n",
    "for hit in hits.points:\n",
    "    console.print(hit.payload, \"score: \", hit.score)"
   ]
  },
  {
   "cell_type": "markdown",
   "metadata": {},
   "source": [
    "#### Add Filters\n",
    "\n",
    "- Narrow down the search results by adding filters to the query."
   ]
  },
  {
   "cell_type": "code",
   "execution_count": null,
   "metadata": {},
   "outputs": [],
   "source": [
    "query_filter = models.Filter(\n",
    "    must=[models.FieldCondition(key=\"year\", range=models.Range(gte=2_000))]\n",
    ")\n",
    "# OR\n",
    "query_filter = {\n",
    "    \"must\": [\n",
    "        {\"key\": \"year\", \"range\": {\"gte\": 2_000}},\n",
    "    ]\n",
    "}\n",
    "\n",
    "hits = client.query_points(\n",
    "    collection_name=collection_name,\n",
    "    query=embed_document(query),\n",
    "    query_filter=query_filter,\n",
    "    limit=3,\n",
    ")\n",
    "hits"
   ]
  },
  {
   "cell_type": "code",
   "execution_count": null,
   "metadata": {},
   "outputs": [],
   "source": [
    "print(f\"Query: {query}\")\n",
    "for hit in hits.points:\n",
    "    console.print(hit.payload, \"score: \", hit.score)"
   ]
  },
  {
   "cell_type": "code",
   "execution_count": null,
   "metadata": {},
   "outputs": [],
   "source": []
  },
  {
   "cell_type": "markdown",
   "metadata": {},
   "source": [
    "## Putting It Together"
   ]
  },
  {
   "cell_type": "code",
   "execution_count": 4,
   "metadata": {},
   "outputs": [
    {
     "name": "stdout",
     "output_type": "stream",
     "text": [
      "Processing file: /Users/neidu/Desktop/Projects/Personal/My_Projects/Gen-AI-Projects/QA_and_RAG/data/vector_db_data/music-sample-data.csv\n",
      "Qdrant server is running.\n",
      "Collection 'music-sample-data' already exists.\n"
     ]
    },
    {
     "data": {
      "application/vnd.jupyter.widget-view+json": {
       "model_id": "a766b83e3eab4552ad7bdd688bbcc714",
       "version_major": 2,
       "version_minor": 0
      },
      "text/plain": [
       "modules.json:   0%|          | 0.00/349 [00:00<?, ?B/s]"
      ]
     },
     "metadata": {},
     "output_type": "display_data"
    },
    {
     "data": {
      "application/vnd.jupyter.widget-view+json": {
       "model_id": "baa50e50adad4cd0ae69662976859c29",
       "version_major": 2,
       "version_minor": 0
      },
      "text/plain": [
       "config_sentence_transformers.json:   0%|          | 0.00/116 [00:00<?, ?B/s]"
      ]
     },
     "metadata": {},
     "output_type": "display_data"
    },
    {
     "data": {
      "application/vnd.jupyter.widget-view+json": {
       "model_id": "85ef7208f967481794e8254d9297c872",
       "version_major": 2,
       "version_minor": 0
      },
      "text/plain": [
       "README.md:   0%|          | 0.00/10.7k [00:00<?, ?B/s]"
      ]
     },
     "metadata": {},
     "output_type": "display_data"
    },
    {
     "data": {
      "application/vnd.jupyter.widget-view+json": {
       "model_id": "d6e2c711f7ae4741bb748a42a982ada7",
       "version_major": 2,
       "version_minor": 0
      },
      "text/plain": [
       "sentence_bert_config.json:   0%|          | 0.00/53.0 [00:00<?, ?B/s]"
      ]
     },
     "metadata": {},
     "output_type": "display_data"
    },
    {
     "data": {
      "application/vnd.jupyter.widget-view+json": {
       "model_id": "095300cba3a14d7f88f2aeb76cfe72db",
       "version_major": 2,
       "version_minor": 0
      },
      "text/plain": [
       "config.json:   0%|          | 0.00/612 [00:00<?, ?B/s]"
      ]
     },
     "metadata": {},
     "output_type": "display_data"
    },
    {
     "data": {
      "application/vnd.jupyter.widget-view+json": {
       "model_id": "9b565bd3c90f4e66aaa3a5167d5b3263",
       "version_major": 2,
       "version_minor": 0
      },
      "text/plain": [
       "model.safetensors:   0%|          | 0.00/90.9M [00:00<?, ?B/s]"
      ]
     },
     "metadata": {},
     "output_type": "display_data"
    },
    {
     "data": {
      "application/vnd.jupyter.widget-view+json": {
       "model_id": "27bc964f54d1421ea5edc8246d9ec83f",
       "version_major": 2,
       "version_minor": 0
      },
      "text/plain": [
       "tokenizer_config.json:   0%|          | 0.00/350 [00:00<?, ?B/s]"
      ]
     },
     "metadata": {},
     "output_type": "display_data"
    },
    {
     "data": {
      "application/vnd.jupyter.widget-view+json": {
       "model_id": "535bfe817f0848afb0e85ec515c88dd9",
       "version_major": 2,
       "version_minor": 0
      },
      "text/plain": [
       "vocab.txt:   0%|          | 0.00/232k [00:00<?, ?B/s]"
      ]
     },
     "metadata": {},
     "output_type": "display_data"
    },
    {
     "data": {
      "application/vnd.jupyter.widget-view+json": {
       "model_id": "0262b8b46613463086978940b105f78b",
       "version_major": 2,
       "version_minor": 0
      },
      "text/plain": [
       "tokenizer.json:   0%|          | 0.00/466k [00:00<?, ?B/s]"
      ]
     },
     "metadata": {},
     "output_type": "display_data"
    },
    {
     "data": {
      "application/vnd.jupyter.widget-view+json": {
       "model_id": "5e3b8a26d2c2426b89285eeb1d4dac82",
       "version_major": 2,
       "version_minor": 0
      },
      "text/plain": [
       "special_tokens_map.json:   0%|          | 0.00/112 [00:00<?, ?B/s]"
      ]
     },
     "metadata": {},
     "output_type": "display_data"
    },
    {
     "data": {
      "application/vnd.jupyter.widget-view+json": {
       "model_id": "f99b58bcca5c4fc6a46adbdcd4fb710a",
       "version_major": 2,
       "version_minor": 0
      },
      "text/plain": [
       "1_Pooling/config.json:   0%|          | 0.00/190 [00:00<?, ?B/s]"
      ]
     },
     "metadata": {},
     "output_type": "display_data"
    },
    {
     "name": "stdout",
     "output_type": "stream",
     "text": [
      "Data from 'music-sample-data' is saved into the vector database.\n",
      "==============================\n",
      "All csv/parquet files are saved into the vector database.\n"
     ]
    },
    {
     "data": {
      "text/plain": [
       "('',\n",
       " [{'role': 'assistant',\n",
       "   'content': 'Uploaded files are ready. Please ask your question'}])"
      ]
     },
     "execution_count": 4,
     "metadata": {},
     "output_type": "execute_result"
    }
   ],
   "source": [
    "from QA_and_RAG.src.db_utils import VectorDBManager\n",
    "\n",
    "\n",
    "files_dir: str = f\"{config.QA_and_RAG.path}/data/vector_db_data/\"\n",
    "vector_db_manager: VectorDBManager = VectorDBManager(files_dir=files_dir)\n",
    "vector_db_manager.run()"
   ]
  },
  {
   "cell_type": "code",
   "execution_count": null,
   "metadata": {},
   "outputs": [],
   "source": [
    "# vector_db_manager.encoder\n",
    "\n",
    "vector_db_manager._get_collection_names()"
   ]
  },
  {
   "cell_type": "code",
   "execution_count": null,
   "metadata": {},
   "outputs": [],
   "source": [
    "# To Do\n",
    "# 1. Add chunking to the vector store\n",
    "# 2. Add filters to the vector store\n",
    "# 3. Create the RAG pipeline."
   ]
  },
  {
   "cell_type": "code",
   "execution_count": null,
   "metadata": {},
   "outputs": [],
   "source": []
  },
  {
   "cell_type": "code",
   "execution_count": null,
   "metadata": {},
   "outputs": [],
   "source": []
  },
  {
   "cell_type": "code",
   "execution_count": 125,
   "metadata": {},
   "outputs": [],
   "source": [
    "class Singleton:\n",
    "    _instance = None\n",
    "\n",
    "    def __new__(cls, *args, **kwargs):\n",
    "        if cls._instance is None:\n",
    "            # Create the first and only instance\n",
    "            cls._instance = super().__new__(cls)\n",
    "        return cls._instance\n",
    "\n",
    "    def __init__(self, value):\n",
    "        # This will only truly initialize the first time\n",
    "        # self.value = value\n",
    "\n",
    "        if not hasattr(self, \"value\"):\n",
    "            self.value = value\n",
    "\n",
    "    def __repr__(self):\n",
    "        return f\"{self.__class__.__name__}({self.value})\"\n",
    "\n",
    "\n",
    "# Usage\n",
    "# a = Singleton(\"first\")\n",
    "# b = Singleton(\"second\")\n",
    "# print(a.value)  # Prints: \"first\"\n",
    "# print(b.value)  # Prints: \"first\"\n",
    "# print(a is b)  # Prints: True"
   ]
  },
  {
   "cell_type": "code",
   "execution_count": null,
   "metadata": {},
   "outputs": [],
   "source": [
    "Singleton(\"a\")"
   ]
  },
  {
   "cell_type": "code",
   "execution_count": 162,
   "metadata": {},
   "outputs": [],
   "source": [
    "from typing import ClassVar, Self\n",
    "\n",
    "\n",
    "def owner_info() -> tuple[str, int]:\n",
    "    return (\"Donald\", 0)\n",
    "\n",
    "\n",
    "class Dog:\n",
    "    _instance: None | Self = None\n",
    "    _owner: str | None = None\n",
    "    _num_of_dogs: int | None = None\n",
    "\n",
    "    def __new__(cls, *args, **kwargs) -> Self:\n",
    "        if cls._instance is None:\n",
    "            print(f\"Creating a new {cls.__name__} instance.\")\n",
    "            cls._instance = super().__new__(cls)\n",
    "            cls._instance._get_owner_info()\n",
    "        return cls._instance\n",
    "\n",
    "    def __init__(self, name: str, age: int) -> None:\n",
    "        if not hasattr(self, \"name\"):\n",
    "            self.name = name\n",
    "        if not hasattr(self, \"age\"):\n",
    "            self.age = age\n",
    "\n",
    "        Dog._num_of_dogs += 1\n",
    "\n",
    "    def __repr__(self) -> str:\n",
    "        return f\"{self.__class__.__name__}(name={self.name}, age={self.age})\"\n",
    "\n",
    "    @classmethod\n",
    "    def _get_owner_info(cls) -> str:\n",
    "        cls._owner, cls._num_of_dogs = owner_info()\n",
    "\n",
    "    def talk(self) -> None:\n",
    "        print(\"Dog is making a woof sound!\")\n",
    "\n",
    "    def walk(self) -> None:\n",
    "        print(\"Dog is walking.\")\n",
    "\n",
    "    def get_owner_info(self) -> str:\n",
    "        return f\"The owner is {Dog._owner} and he has {Dog._num_of_dogs} dogs.\"\n",
    "\n",
    "    @property\n",
    "    def owner(self) -> str:\n",
    "        return self._owner\n",
    "\n",
    "    @property\n",
    "    def num_of_dogs(self) -> int:\n",
    "        return self._num_of_dogs\n",
    "\n",
    "\n",
    "class Cat:\n",
    "    _num_of_cats: ClassVar[int] = 0\n",
    "    _owner: str | None = None\n",
    "\n",
    "    def __init__(self, name: str, age: int) -> None:\n",
    "        self.name = name\n",
    "        self.age = age\n",
    "        Cat._num_of_cats += 1\n",
    "\n",
    "    def __repr__(self) -> str:\n",
    "        return f\"{self.__class__.__name__}(name={self.name}, age={self.age})\"\n",
    "\n",
    "    @classmethod\n",
    "    def _get_owner_info(cls) -> str:\n",
    "        cls._owner, cls._num_of_cats = owner_info()\n",
    "\n",
    "    def talk(self) -> None:\n",
    "        print(\"Cat is making a woof sound!\")\n",
    "\n",
    "    def walk(self) -> None:\n",
    "        print(\"Cat is walking.\")\n",
    "\n",
    "    def get_owner_info(self) -> str:\n",
    "        return f\"The owner is {Cat._owner} and he has {Cat._num_of_cats} Cats.\"\n",
    "\n",
    "    @property\n",
    "    def owner(self) -> str:\n",
    "        return self._owner\n",
    "\n",
    "    @property\n",
    "    def num_of_cats(self) -> int:\n",
    "        return self._num_of_cats"
   ]
  },
  {
   "cell_type": "code",
   "execution_count": null,
   "metadata": {},
   "outputs": [],
   "source": [
    "dog_1: Dog = Dog(name=\"a\", age=2)\n",
    "dog_1.talk()\n",
    "print(dog_1)\n",
    "dog_1.get_owner_info()"
   ]
  },
  {
   "cell_type": "code",
   "execution_count": null,
   "metadata": {},
   "outputs": [],
   "source": [
    "dog_2: Dog = Dog(name=\"alk\", age=4)\n",
    "dog_2.talk()\n",
    "print(dog_2)\n",
    "dog_2.get_owner_info()"
   ]
  },
  {
   "cell_type": "code",
   "execution_count": null,
   "metadata": {},
   "outputs": [],
   "source": [
    "dog_1 == dog_2"
   ]
  },
  {
   "cell_type": "code",
   "execution_count": null,
   "metadata": {},
   "outputs": [],
   "source": [
    "print(dog_1, dog_2)"
   ]
  },
  {
   "cell_type": "code",
   "execution_count": null,
   "metadata": {},
   "outputs": [],
   "source": []
  },
  {
   "cell_type": "code",
   "execution_count": null,
   "metadata": {},
   "outputs": [],
   "source": [
    "from typing import ClassVar, Self\n",
    "\n",
    "\n",
    "def owner_info() -> tuple[str, int]:\n",
    "    return (\"Donald\", 0)\n",
    "\n",
    "\n",
    "class Dog:\n",
    "    _instance: None | Self = None\n",
    "    _owner: str | None = None\n",
    "    _num_of_dogs: int | None = None\n",
    "\n",
    "    def __new__(cls, *args, **kwargs) -> Self:\n",
    "        if cls._instance is None:\n",
    "            print(f\"Creating a new {cls.__name__} instance.\")\n",
    "            cls._instance = super().__new__(cls)\n",
    "            cls._instance._get_owner_info()\n",
    "        return cls._instance\n",
    "\n",
    "    def __init__(self, name: str, age: int) -> None:\n",
    "        self.name = name\n",
    "        self.age = age\n",
    "        Dog._num_of_dogs += 1\n",
    "\n",
    "    def __repr__(self) -> str:\n",
    "        return f\"{self.__class__.__name__}(name={self.name}, age={self.age})\"\n",
    "\n",
    "    @classmethod\n",
    "    def _get_owner_info(cls) -> str:\n",
    "        cls._owner, cls._num_of_dogs = owner_info()\n",
    "\n",
    "    def talk(self) -> None:\n",
    "        print(\"Dog is making a woof sound!\")\n",
    "\n",
    "    def walk(self) -> None:\n",
    "        print(\"Dog is walking.\")\n",
    "\n",
    "    def get_owner_info(self) -> str:\n",
    "        return f\"The owner is {Dog._owner} and he has {Dog._num_of_dogs} dogs.\"\n",
    "\n",
    "    @property\n",
    "    def owner(self) -> str:\n",
    "        return self._owner\n",
    "\n",
    "    @property\n",
    "    def num_of_dogs(self) -> int:\n",
    "        return self._num_of_dogs\n",
    "\n",
    "\n",
    "# Usage\n",
    "dog_1: Dog = Dog(name=\"a\", age=2)\n",
    "dog_1.talk()\n",
    "print(dog_1)\n",
    "dog_1.get_owner_info()\n",
    "# Result:\n",
    "# Creating a new Dog instance.\n",
    "# Dog is making a woof sound!\n",
    "# Dog(name=a, age=2)\n",
    "# 'The owner is Donald and he has 1 dogs.'\n",
    "\n",
    "\n",
    "dog_2: Dog = Dog(name=\"alk\", age=4)\n",
    "dog_2.talk()\n",
    "print(dog_2)\n",
    "dog_2.get_owner_info()\n",
    "# Result:\n",
    "# Dog is making a woof sound!\n",
    "# Dog(name=alk, age=4)\n",
    "# 'The owner is Donald and he has 2 dogs.'\n",
    "\n",
    "print(dog_1, dog_2)\n",
    "# Result:\n",
    "# Dog(name=alk, age=4) Dog(name=alk, age=4)"
   ]
  },
  {
   "cell_type": "code",
   "execution_count": null,
   "metadata": {},
   "outputs": [],
   "source": []
  },
  {
   "cell_type": "code",
   "execution_count": null,
   "metadata": {},
   "outputs": [],
   "source": []
  },
  {
   "cell_type": "code",
   "execution_count": null,
   "metadata": {},
   "outputs": [],
   "source": [
    "cat_1: Cat = Cat(name=\"a\", age=2)\n",
    "cat_1.bark()\n",
    "cat_1.get_owner_info()\n",
    "\n",
    "\n",
    "cat_2: Cat = Cat(name=\"b\", age=5)\n",
    "cat_2.bark()\n",
    "cat_2.get_owner_info()\n",
    "\n",
    "\n",
    "cat_1 == cat_2"
   ]
  },
  {
   "cell_type": "code",
   "execution_count": null,
   "metadata": {},
   "outputs": [],
   "source": []
  },
  {
   "cell_type": "code",
   "execution_count": 112,
   "metadata": {},
   "outputs": [],
   "source": [
    "from typing import ClassVar, Self\n",
    "\n",
    "\n",
    "def owner_info() -> tuple[str, int]:\n",
    "    return (\"Donald\", 0)\n",
    "\n",
    "\n",
    "class Dog:\n",
    "    _instance: None | Self = None\n",
    "    _owner: str | None = None\n",
    "    _num_of_dogs: int | None = 0\n",
    "\n",
    "    def __init__(self, name: str, age: int) -> None:\n",
    "        self.name = name\n",
    "        self.age = age\n",
    "        Dog._num_of_dogs += 1\n",
    "\n",
    "    def __new__(cls, *args, **kwargs) -> Self:\n",
    "        if cls._instance is None:\n",
    "            print(f\"Creating a new {cls.__name__} instance.\")\n",
    "            cls._instance = super().__new__(cls)\n",
    "            cls._instance._get_owner_info()\n",
    "        return cls._instance\n",
    "\n",
    "    @classmethod\n",
    "    def _get_owner_info(cls) -> str:\n",
    "        cls._owner, cls._num_of_dogs = owner_info()\n",
    "\n",
    "    def bark(self) -> None:\n",
    "        print(\n",
    "            f\"{self.__class__.__name__}(name: {self.name}, age: {self.age}) is making a woof sound!\"\n",
    "        )\n",
    "\n",
    "    def walk(self) -> None:\n",
    "        print(\n",
    "            f\"{self.__class__.__name__}(name: {self.name},  age: {self.age}) is walking.\"\n",
    "        )\n",
    "\n",
    "    def get_owner_info(self) -> str:\n",
    "        print(\n",
    "            f\"Getting owner info of {self.__class__.__name__}(name: {self.name},  age: {self.age}) ...\"\n",
    "        )\n",
    "        return f\"The owner is {Dog._owner} and he has {Dog.num_of_dogs} dogs.\"\n",
    "\n",
    "    @property\n",
    "    def owner(self) -> str:\n",
    "        return self._owner\n",
    "\n",
    "    @property\n",
    "    def num_of_dogs(self) -> int:\n",
    "        return self._num_of_dogs"
   ]
  },
  {
   "cell_type": "code",
   "execution_count": null,
   "metadata": {},
   "outputs": [],
   "source": [
    "dog_1: Dog = Dog(name=\"Rex\", age=3)\n",
    "dog_1.bark()\n",
    "dog_1.get_owner_info()"
   ]
  },
  {
   "cell_type": "code",
   "execution_count": null,
   "metadata": {},
   "outputs": [],
   "source": [
    "Dog._owner"
   ]
  },
  {
   "cell_type": "code",
   "execution_count": null,
   "metadata": {},
   "outputs": [],
   "source": [
    "# dog_1.get_owner_info()\n",
    "dog_1.owner"
   ]
  },
  {
   "cell_type": "code",
   "execution_count": null,
   "metadata": {},
   "outputs": [],
   "source": [
    "dog_2: Dog = Dog(name=\"Buddy\", age=5)\n",
    "dog_2.bark()\n",
    "dog_2.get_owner_info()"
   ]
  },
  {
   "cell_type": "code",
   "execution_count": null,
   "metadata": {},
   "outputs": [],
   "source": [
    "dog_1.get_owner_info()"
   ]
  },
  {
   "cell_type": "code",
   "execution_count": null,
   "metadata": {},
   "outputs": [],
   "source": []
  },
  {
   "cell_type": "code",
   "execution_count": null,
   "metadata": {},
   "outputs": [],
   "source": []
  },
  {
   "cell_type": "code",
   "execution_count": null,
   "metadata": {},
   "outputs": [],
   "source": []
  }
 ],
 "metadata": {
  "kernelspec": {
   "display_name": ".venv",
   "language": "python",
   "name": "python3"
  },
  "language_info": {
   "codemirror_mode": {
    "name": "ipython",
    "version": 3
   },
   "file_extension": ".py",
   "mimetype": "text/x-python",
   "name": "python",
   "nbconvert_exporter": "python",
   "pygments_lexer": "ipython3",
   "version": "3.12.7"
  }
 },
 "nbformat": 4,
 "nbformat_minor": 2
}
