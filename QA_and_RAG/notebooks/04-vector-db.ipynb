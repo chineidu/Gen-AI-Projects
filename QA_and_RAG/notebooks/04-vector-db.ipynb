{
 "cells": [
  {
   "cell_type": "markdown",
   "metadata": {},
   "source": [
    "# [Q-DRANT](https://qdrant.tech/documentation/quickstart/)\n",
    "\n",
    "## Setup\n",
    "\n",
    "### Run QDrant Using Docker\n",
    "\n",
    "```sh\n",
    "docker run -p 6333:6333 -p 6334:6334 \\\n",
    "    -v $(pwd)/qdrant_storage:/qdrant/storage:z \\\n",
    "    --name qdrant-db --rm \\\n",
    "    qdrant/qdrant\n",
    "```"
   ]
  },
  {
   "cell_type": "code",
   "execution_count": 1,
   "metadata": {},
   "outputs": [],
   "source": [
    "# Built-in library\n",
    "from pathlib import Path\n",
    "import re\n",
    "import json\n",
    "from typing import Any, Literal, Optional, Union\n",
    "import logging\n",
    "import warnings\n",
    "\n",
    "# Standard imports\n",
    "import numpy as np\n",
    "import numpy.typing as npt\n",
    "from pprint import pprint\n",
    "import pandas as pd\n",
    "import polars as pl\n",
    "from rich.console import Console\n",
    "from rich.theme import Theme\n",
    "\n",
    "custom_theme = Theme(\n",
    "    {\n",
    "        \"white\": \"#FFFFFF\",  # Bright white\n",
    "        \"info\": \"#00FF00\",  # Bright green\n",
    "        \"warning\": \"#FFD700\",  # Bright gold\n",
    "        \"error\": \"#FF1493\",  # Deep pink\n",
    "        \"success\": \"#00FFFF\",  # Cyan\n",
    "        \"highlight\": \"#FF4500\",  # Orange-red\n",
    "    }\n",
    ")\n",
    "console = Console(theme=custom_theme)\n",
    "\n",
    "# Visualization\n",
    "# import matplotlib.pyplot as plt\n",
    "\n",
    "# NumPy settings\n",
    "np.set_printoptions(precision=4)\n",
    "\n",
    "# Pandas settings\n",
    "pd.options.display.max_rows = 1_000\n",
    "pd.options.display.max_columns = 1_000\n",
    "pd.options.display.max_colwidth = 600\n",
    "\n",
    "# Polars settings\n",
    "pl.Config.set_fmt_str_lengths(1_000)\n",
    "pl.Config.set_tbl_cols(n=1_000)\n",
    "pl.Config.set_tbl_rows(n=1_000)\n",
    "\n",
    "warnings.filterwarnings(\"ignore\")\n",
    "\n",
    "# Black code formatter (Optional)\n",
    "%load_ext lab_black\n",
    "\n",
    "# auto reload imports\n",
    "%load_ext autoreload\n",
    "%autoreload 2"
   ]
  },
  {
   "cell_type": "code",
   "execution_count": 2,
   "metadata": {},
   "outputs": [],
   "source": [
    "def go_up_from_current_directory(*, go_up: int = 1) -> None:\n",
    "    \"\"\"This is used to up a number of directories.\n",
    "\n",
    "    Params:\n",
    "    -------\n",
    "    go_up: int, default=1\n",
    "        This indicates the number of times to go back up from the current directory.\n",
    "\n",
    "    Returns:\n",
    "    --------\n",
    "    None\n",
    "    \"\"\"\n",
    "    import os\n",
    "    import sys\n",
    "\n",
    "    CONST: str = \"../\"\n",
    "    NUM: str = CONST * go_up\n",
    "\n",
    "    # Goto the previous directory\n",
    "    prev_directory = os.path.join(os.path.dirname(__name__), NUM)\n",
    "    # Get the 'absolute path' of the previous directory\n",
    "    abs_path_prev_directory = os.path.abspath(prev_directory)\n",
    "\n",
    "    # Add the path to the System paths\n",
    "    sys.path.insert(0, abs_path_prev_directory)\n",
    "    print(abs_path_prev_directory)"
   ]
  },
  {
   "cell_type": "code",
   "execution_count": 3,
   "metadata": {},
   "outputs": [
    {
     "name": "stdout",
     "output_type": "stream",
     "text": [
      "/Users/neidu/Desktop/Projects/Personal/My_Projects/Gen-AI-Projects\n"
     ]
    }
   ],
   "source": [
    "go_up_from_current_directory(go_up=2)\n",
    "\n",
    "from QA_and_RAG import PACKAGE_ROOT_PATH\n",
    "from QA_and_RAG.src.utils.utilities import ProcessFiles\n",
    "from config import config, settings"
   ]
  },
  {
   "cell_type": "code",
   "execution_count": 4,
   "metadata": {},
   "outputs": [],
   "source": [
    "from qdrant_client import QdrantClient, models\n",
    "from sentence_transformers import SentenceTransformer"
   ]
  },
  {
   "cell_type": "code",
   "execution_count": 5,
   "metadata": {},
   "outputs": [
    {
     "data": {
      "text/plain": [
       "384"
      ]
     },
     "execution_count": 5,
     "metadata": {},
     "output_type": "execute_result"
    }
   ],
   "source": [
    "model_name_or_path: str = \"all-MiniLM-L6-v2\"\n",
    "encoder: SentenceTransformer = SentenceTransformer(model_name_or_path)\n",
    "\n",
    "encoder.get_sentence_embedding_dimension()"
   ]
  },
  {
   "cell_type": "markdown",
   "metadata": {},
   "source": [
    "### Add Dataset"
   ]
  },
  {
   "cell_type": "code",
   "execution_count": 6,
   "metadata": {},
   "outputs": [
    {
     "data": {
      "text/html": [
       "<div><style>\n",
       ".dataframe > thead > tr,\n",
       ".dataframe > tbody > tr {\n",
       "  text-align: right;\n",
       "  white-space: pre-wrap;\n",
       "}\n",
       "</style>\n",
       "<small>shape: (5, 5)</small><table border=\"1\" class=\"dataframe\"><thead><tr><th>title</th><th>description</th><th>genre</th><th>artist</th><th>year</th></tr><tr><td>str</td><td>str</td><td>str</td><td>str</td><td>i64</td></tr></thead><tbody><tr><td>&quot;&#x27;Imagine&#x27;&quot;</td><td>&quot;&#x27;A peaceful anthem advocating for world peace&#x27;&quot;</td><td>&quot;&#x27;Rock&#x27;&quot;</td><td>&quot;&#x27;John Lennon&#x27;&quot;</td><td>1971</td></tr><tr><td>&quot;&#x27;Billie Jean&#x27;&quot;</td><td>&quot;&#x27;A pop classic with a memorable bassline&#x27;&quot;</td><td>&quot;&#x27;Pop&#x27;&quot;</td><td>&quot;&#x27;Michael Jackson&#x27;&quot;</td><td>1982</td></tr><tr><td>&quot;&#x27;Juicy&#x27;&quot;</td><td>&quot;&#x27;A classic East Coast rap anthem&#x27;&quot;</td><td>&quot;&#x27;Rap&#x27;&quot;</td><td>&quot;&#x27;The Notorious B.I.G.&#x27;&quot;</td><td>1994</td></tr><tr><td>&quot;&#x27;Still D.R.E.&#x27;&quot;</td><td>&quot;&#x27;A comeback rap song with a iconic beat&#x27;&quot;</td><td>&quot;&#x27;Rap&#x27;&quot;</td><td>&quot;&#x27;Dr. Dre&#x27;&quot;</td><td>1999</td></tr><tr><td>&quot;&#x27;Sweet Child O&#x27; Mine&#x27;&quot;</td><td>&quot;&#x27;A hard rock anthem with a distinctive opening riff&#x27;&quot;</td><td>&quot;&#x27;Rock&#x27;&quot;</td><td>&quot;&#x27;Guns N&#x27; Roses&#x27;&quot;</td><td>1987</td></tr></tbody></table></div>"
      ],
      "text/plain": [
       "shape: (5, 5)\n",
       "┌───────────────────────┬─────────────────────────────────┬────────┬────────────────────────┬──────┐\n",
       "│ title                 ┆ description                     ┆ genre  ┆ artist                 ┆ year │\n",
       "│ ---                   ┆ ---                             ┆ ---    ┆ ---                    ┆ ---  │\n",
       "│ str                   ┆ str                             ┆ str    ┆ str                    ┆ i64  │\n",
       "╞═══════════════════════╪═════════════════════════════════╪════════╪════════════════════════╪══════╡\n",
       "│ 'Imagine'             ┆ 'A peaceful anthem advocating   ┆ 'Rock' ┆ 'John Lennon'          ┆ 1971 │\n",
       "│                       ┆ for world peace'                ┆        ┆                        ┆      │\n",
       "│ 'Billie Jean'         ┆ 'A pop classic with a memorable ┆ 'Pop'  ┆ 'Michael Jackson'      ┆ 1982 │\n",
       "│                       ┆ bassline'                       ┆        ┆                        ┆      │\n",
       "│ 'Juicy'               ┆ 'A classic East Coast rap       ┆ 'Rap'  ┆ 'The Notorious B.I.G.' ┆ 1994 │\n",
       "│                       ┆ anthem'                         ┆        ┆                        ┆      │\n",
       "│ 'Still D.R.E.'        ┆ 'A comeback rap song with a     ┆ 'Rap'  ┆ 'Dr. Dre'              ┆ 1999 │\n",
       "│                       ┆ iconic beat'                    ┆        ┆                        ┆      │\n",
       "│ 'Sweet Child O' Mine' ┆ 'A hard rock anthem with a      ┆ 'Rock' ┆ 'Guns N' Roses'        ┆ 1987 │\n",
       "│                       ┆ distinctive opening riff'       ┆        ┆                        ┆      │\n",
       "└───────────────────────┴─────────────────────────────────┴────────┴────────────────────────┴──────┘"
      ]
     },
     "execution_count": 6,
     "metadata": {},
     "output_type": "execute_result"
    }
   ],
   "source": [
    "fp: str = \"../data/vector_db_data/music-sample-data.csv\"\n",
    "df: pl.DataFrame = pl.read_csv(fp)\n",
    "# .with_columns(\n",
    "#     metadata=pl.concat_str(\n",
    "#         [\"name\", \"sex\", \"ticket\"],\n",
    "#         separator=\" || \",\n",
    "#     )\n",
    "# )\n",
    "\n",
    "sample_df: pl.DataFrame = df.sample(df.shape[0], seed=1)\n",
    "sample_df.head()"
   ]
  },
  {
   "cell_type": "code",
   "execution_count": 7,
   "metadata": {},
   "outputs": [
    {
     "data": {
      "text/plain": [
       "[{'title': \"'Imagine'\",\n",
       "  'description': \"'A peaceful anthem advocating for world peace'\",\n",
       "  'genre': \"'Rock'\",\n",
       "  'artist': \"'John Lennon'\",\n",
       "  'year': 1971},\n",
       " {'title': \"'Billie Jean'\",\n",
       "  'description': \"'A pop classic with a memorable bassline'\",\n",
       "  'genre': \"'Pop'\",\n",
       "  'artist': \"'Michael Jackson'\",\n",
       "  'year': 1982}]"
      ]
     },
     "execution_count": 7,
     "metadata": {},
     "output_type": "execute_result"
    }
   ],
   "source": [
    "documents: list[dict[str, Any]] = sample_df.to_dicts()\n",
    "sample_df.to_dicts()[:2]"
   ]
  },
  {
   "cell_type": "markdown",
   "metadata": {},
   "source": [
    "### Create Client And Collection"
   ]
  },
  {
   "cell_type": "code",
   "execution_count": 8,
   "metadata": {},
   "outputs": [],
   "source": [
    "from qdrant_client.http.exceptions import ResponseHandlingException"
   ]
  },
  {
   "cell_type": "code",
   "execution_count": 9,
   "metadata": {},
   "outputs": [
    {
     "name": "stdout",
     "output_type": "stream",
     "text": [
      "Qdrant server is running.\n"
     ]
    }
   ],
   "source": [
    "# host: str = \"0.0.0.0\"\n",
    "# port: int = 6333\n",
    "# api_key: str | None = None\n",
    "# client = QdrantClient(url=\"http://localhost:6333\")\n",
    "\n",
    "client: QdrantClient = QdrantClient(\n",
    "    host=settings.QDRANT_HOST,\n",
    "    port=settings.QDRANT_PORT,\n",
    "    api_key=settings.QDRANT_API_KEY.get_secret_value(),\n",
    "    https=False,\n",
    ")\n",
    "\n",
    "\n",
    "try:\n",
    "    client.get_collections().collections\n",
    "    print(\"Qdrant server is running.\")\n",
    "except ResponseHandlingException as e:\n",
    "    print(f\"Qdrant server is not running. Error: {e}\")"
   ]
  },
  {
   "cell_type": "code",
   "execution_count": 10,
   "metadata": {},
   "outputs": [
    {
     "name": "stdout",
     "output_type": "stream",
     "text": [
      "Collection 'music_collection' already exists.\n"
     ]
    }
   ],
   "source": [
    "# Create collection\n",
    "collection_name: str = \"music_collection\"\n",
    "embedding_size: int = encoder.get_sentence_embedding_dimension()\n",
    "\n",
    "if collection_name in [col.name for col in client.get_collections().collections]:\n",
    "    print(f\"Collection '{collection_name}' already exists.\")\n",
    "\n",
    "else:\n",
    "    print(f\"Creating collection '{collection_name}'.\")\n",
    "    client.create_collection(\n",
    "        collection_name=collection_name,\n",
    "        vectors_config=models.VectorParams(\n",
    "            size=embedding_size, distance=models.Distance.COSINE\n",
    "        ),\n",
    "    )"
   ]
  },
  {
   "cell_type": "code",
   "execution_count": 11,
   "metadata": {},
   "outputs": [
    {
     "name": "stdout",
     "output_type": "stream",
     "text": [
      "Database exists\n"
     ]
    }
   ],
   "source": [
    "if client.collection_exists(collection_name=collection_name):\n",
    "    print(\"Database exists\")\n",
    "else:\n",
    "    print(\"Database does not exist\")"
   ]
  },
  {
   "cell_type": "markdown",
   "metadata": {},
   "source": [
    "### Upload Data to Qdrant"
   ]
  },
  {
   "cell_type": "code",
   "execution_count": 12,
   "metadata": {},
   "outputs": [
    {
     "data": {
      "text/plain": [
       "[0.03359076753258705, 0.010512457229197025]"
      ]
     },
     "execution_count": 12,
     "metadata": {},
     "output_type": "execute_result"
    }
   ],
   "source": [
    "res = encoder.encode(\"This is a test.\")\n",
    "\n",
    "res.tolist()[:2]"
   ]
  },
  {
   "cell_type": "code",
   "execution_count": 13,
   "metadata": {},
   "outputs": [
    {
     "data": {
      "text/plain": [
       "384"
      ]
     },
     "execution_count": 13,
     "metadata": {},
     "output_type": "execute_result"
    }
   ],
   "source": [
    "def embed_document(document: str) -> list[float]:\n",
    "    \"\"\"Embed a document using an embedding model.\"\"\"\n",
    "    return encoder.encode(document).tolist()\n",
    "\n",
    "\n",
    "len(embed_document(\"This is a test.\"))"
   ]
  },
  {
   "cell_type": "code",
   "execution_count": null,
   "metadata": {},
   "outputs": [],
   "source": [
    "client.upsert(\n",
    "    collection_name=collection_name,\n",
    "    points=[\n",
    "        models.PointStruct(\n",
    "            id=idx, vector=embed_document(doc[\"description\"]), payload=doc\n",
    "        )\n",
    "        for idx, doc in enumerate(documents)\n",
    "    ],\n",
    ")"
   ]
  },
  {
   "cell_type": "markdown",
   "metadata": {},
   "source": [
    "### Query The Vector Database"
   ]
  },
  {
   "cell_type": "code",
   "execution_count": 14,
   "metadata": {},
   "outputs": [
    {
     "data": {
      "text/plain": [
       "[ScoredPoint(id=3, version=0, score=0.5759016, payload={'title': \"'Still D.R.E.'\", 'description': \"'A comeback rap song with a iconic beat'\", 'genre': \"'Rap'\", 'artist': \"'Dr. Dre'\", 'year': 1999}, vector=None, shard_key=None, order_value=None),\n",
       " ScoredPoint(id=5, version=0, score=0.56217456, payload={'title': \"'Lose Yourself'\", 'description': \"'An intense rap song with a powerful message'\", 'genre': \"'Rap'\", 'artist': \"'Eminem'\", 'year': 2002}, vector=None, shard_key=None, order_value=None),\n",
       " ScoredPoint(id=27, version=0, score=0.54559654, payload={'title': \"'Old Town Road'\", 'description': \"'A country-rap fusion with a viral appeal'\", 'genre': \"'Country'\", 'artist': \"'Lil Nas X'\", 'year': 2019}, vector=None, shard_key=None, order_value=None)]"
      ]
     },
     "execution_count": 14,
     "metadata": {},
     "output_type": "execute_result"
    }
   ],
   "source": [
    "query: str = \"rap battle\"\n",
    "\n",
    "hits = client.query_points(\n",
    "    collection_name=collection_name, query=embed_document(query), limit=3\n",
    ")\n",
    "hits.points"
   ]
  },
  {
   "cell_type": "code",
   "execution_count": 15,
   "metadata": {},
   "outputs": [
    {
     "name": "stdout",
     "output_type": "stream",
     "text": [
      "Query: rap battle\n"
     ]
    },
    {
     "data": {
      "text/html": [
       "<pre style=\"white-space:pre;overflow-x:auto;line-height:normal;font-family:Menlo,'DejaVu Sans Mono',consolas,'Courier New',monospace\"><span style=\"font-weight: bold\">{</span>\n",
       "    <span style=\"color: #008000; text-decoration-color: #008000\">'title'</span>: <span style=\"color: #008000; text-decoration-color: #008000\">\"'Still D.R.E.'\"</span>,\n",
       "    <span style=\"color: #008000; text-decoration-color: #008000\">'description'</span>: <span style=\"color: #008000; text-decoration-color: #008000\">\"'A comeback rap song with a iconic beat'\"</span>,\n",
       "    <span style=\"color: #008000; text-decoration-color: #008000\">'genre'</span>: <span style=\"color: #008000; text-decoration-color: #008000\">\"'Rap'\"</span>,\n",
       "    <span style=\"color: #008000; text-decoration-color: #008000\">'artist'</span>: <span style=\"color: #008000; text-decoration-color: #008000\">\"'Dr. Dre'\"</span>,\n",
       "    <span style=\"color: #008000; text-decoration-color: #008000\">'year'</span>: <span style=\"color: #008080; text-decoration-color: #008080; font-weight: bold\">1999</span>\n",
       "<span style=\"font-weight: bold\">}</span>\n",
       "score:  <span style=\"color: #008080; text-decoration-color: #008080; font-weight: bold\">0.5759016</span>\n",
       "</pre>\n"
      ],
      "text/plain": [
       "\u001b[1m{\u001b[0m\n",
       "    \u001b[32m'title'\u001b[0m: \u001b[32m\"'Still D.R.E.'\"\u001b[0m,\n",
       "    \u001b[32m'description'\u001b[0m: \u001b[32m\"'A comeback rap song with a iconic beat'\"\u001b[0m,\n",
       "    \u001b[32m'genre'\u001b[0m: \u001b[32m\"'Rap'\"\u001b[0m,\n",
       "    \u001b[32m'artist'\u001b[0m: \u001b[32m\"'Dr. Dre'\"\u001b[0m,\n",
       "    \u001b[32m'year'\u001b[0m: \u001b[1;36m1999\u001b[0m\n",
       "\u001b[1m}\u001b[0m\n",
       "score:  \u001b[1;36m0.5759016\u001b[0m\n"
      ]
     },
     "metadata": {},
     "output_type": "display_data"
    },
    {
     "data": {
      "text/html": [
       "<pre style=\"white-space:pre;overflow-x:auto;line-height:normal;font-family:Menlo,'DejaVu Sans Mono',consolas,'Courier New',monospace\"><span style=\"font-weight: bold\">{</span>\n",
       "    <span style=\"color: #008000; text-decoration-color: #008000\">'title'</span>: <span style=\"color: #008000; text-decoration-color: #008000\">\"'Lose Yourself'\"</span>,\n",
       "    <span style=\"color: #008000; text-decoration-color: #008000\">'description'</span>: <span style=\"color: #008000; text-decoration-color: #008000\">\"'An intense rap song with a powerful message'\"</span>,\n",
       "    <span style=\"color: #008000; text-decoration-color: #008000\">'genre'</span>: <span style=\"color: #008000; text-decoration-color: #008000\">\"'Rap'\"</span>,\n",
       "    <span style=\"color: #008000; text-decoration-color: #008000\">'artist'</span>: <span style=\"color: #008000; text-decoration-color: #008000\">\"'Eminem'\"</span>,\n",
       "    <span style=\"color: #008000; text-decoration-color: #008000\">'year'</span>: <span style=\"color: #008080; text-decoration-color: #008080; font-weight: bold\">2002</span>\n",
       "<span style=\"font-weight: bold\">}</span>\n",
       "score:  <span style=\"color: #008080; text-decoration-color: #008080; font-weight: bold\">0.56217456</span>\n",
       "</pre>\n"
      ],
      "text/plain": [
       "\u001b[1m{\u001b[0m\n",
       "    \u001b[32m'title'\u001b[0m: \u001b[32m\"'Lose Yourself'\"\u001b[0m,\n",
       "    \u001b[32m'description'\u001b[0m: \u001b[32m\"'An intense rap song with a powerful message'\"\u001b[0m,\n",
       "    \u001b[32m'genre'\u001b[0m: \u001b[32m\"'Rap'\"\u001b[0m,\n",
       "    \u001b[32m'artist'\u001b[0m: \u001b[32m\"'Eminem'\"\u001b[0m,\n",
       "    \u001b[32m'year'\u001b[0m: \u001b[1;36m2002\u001b[0m\n",
       "\u001b[1m}\u001b[0m\n",
       "score:  \u001b[1;36m0.56217456\u001b[0m\n"
      ]
     },
     "metadata": {},
     "output_type": "display_data"
    },
    {
     "data": {
      "text/html": [
       "<pre style=\"white-space:pre;overflow-x:auto;line-height:normal;font-family:Menlo,'DejaVu Sans Mono',consolas,'Courier New',monospace\"><span style=\"font-weight: bold\">{</span>\n",
       "    <span style=\"color: #008000; text-decoration-color: #008000\">'title'</span>: <span style=\"color: #008000; text-decoration-color: #008000\">\"'Old Town Road'\"</span>,\n",
       "    <span style=\"color: #008000; text-decoration-color: #008000\">'description'</span>: <span style=\"color: #008000; text-decoration-color: #008000\">\"'A country-rap fusion with a viral appeal'\"</span>,\n",
       "    <span style=\"color: #008000; text-decoration-color: #008000\">'genre'</span>: <span style=\"color: #008000; text-decoration-color: #008000\">\"'Country'\"</span>,\n",
       "    <span style=\"color: #008000; text-decoration-color: #008000\">'artist'</span>: <span style=\"color: #008000; text-decoration-color: #008000\">\"'Lil Nas X'\"</span>,\n",
       "    <span style=\"color: #008000; text-decoration-color: #008000\">'year'</span>: <span style=\"color: #008080; text-decoration-color: #008080; font-weight: bold\">2019</span>\n",
       "<span style=\"font-weight: bold\">}</span>\n",
       "score:  <span style=\"color: #008080; text-decoration-color: #008080; font-weight: bold\">0.54559654</span>\n",
       "</pre>\n"
      ],
      "text/plain": [
       "\u001b[1m{\u001b[0m\n",
       "    \u001b[32m'title'\u001b[0m: \u001b[32m\"'Old Town Road'\"\u001b[0m,\n",
       "    \u001b[32m'description'\u001b[0m: \u001b[32m\"'A country-rap fusion with a viral appeal'\"\u001b[0m,\n",
       "    \u001b[32m'genre'\u001b[0m: \u001b[32m\"'Country'\"\u001b[0m,\n",
       "    \u001b[32m'artist'\u001b[0m: \u001b[32m\"'Lil Nas X'\"\u001b[0m,\n",
       "    \u001b[32m'year'\u001b[0m: \u001b[1;36m2019\u001b[0m\n",
       "\u001b[1m}\u001b[0m\n",
       "score:  \u001b[1;36m0.54559654\u001b[0m\n"
      ]
     },
     "metadata": {},
     "output_type": "display_data"
    }
   ],
   "source": [
    "print(f\"Query: {query}\")\n",
    "for hit in hits.points:\n",
    "    console.print(hit.payload, \"score: \", hit.score)"
   ]
  },
  {
   "cell_type": "markdown",
   "metadata": {},
   "source": [
    "#### Add Filters\n",
    "\n",
    "- Narrow down the search results by adding filters to the query."
   ]
  },
  {
   "cell_type": "code",
   "execution_count": 16,
   "metadata": {},
   "outputs": [
    {
     "data": {
      "text/plain": [
       "QueryResponse(points=[ScoredPoint(id=5, version=0, score=0.56217456, payload={'title': \"'Lose Yourself'\", 'description': \"'An intense rap song with a powerful message'\", 'genre': \"'Rap'\", 'artist': \"'Eminem'\", 'year': 2002}, vector=None, shard_key=None, order_value=None), ScoredPoint(id=27, version=0, score=0.54559654, payload={'title': \"'Old Town Road'\", 'description': \"'A country-rap fusion with a viral appeal'\", 'genre': \"'Country'\", 'artist': \"'Lil Nas X'\", 'year': 2019}, vector=None, shard_key=None, order_value=None), ScoredPoint(id=14, version=0, score=0.45459324, payload={'title': \"'This Is America'\", 'description': \"'A socially conscious rap song with a powerful video'\", 'genre': \"'Rap'\", 'artist': \"'Childish Gambino'\", 'year': 2018}, vector=None, shard_key=None, order_value=None)])"
      ]
     },
     "execution_count": 16,
     "metadata": {},
     "output_type": "execute_result"
    }
   ],
   "source": [
    "query_filter = models.Filter(\n",
    "    must=[models.FieldCondition(key=\"year\", range=models.Range(gte=2_000))]\n",
    ")\n",
    "# OR\n",
    "query_filter = {\n",
    "    \"must\": [\n",
    "        {\"key\": \"year\", \"range\": {\"gte\": 2_000}},\n",
    "    ]\n",
    "}\n",
    "\n",
    "hits = client.query_points(\n",
    "    collection_name=collection_name,\n",
    "    query=embed_document(query),\n",
    "    query_filter=query_filter,\n",
    "    limit=3,\n",
    ")\n",
    "hits"
   ]
  },
  {
   "cell_type": "code",
   "execution_count": 17,
   "metadata": {},
   "outputs": [
    {
     "name": "stdout",
     "output_type": "stream",
     "text": [
      "Query: rap battle\n"
     ]
    },
    {
     "data": {
      "text/html": [
       "<pre style=\"white-space:pre;overflow-x:auto;line-height:normal;font-family:Menlo,'DejaVu Sans Mono',consolas,'Courier New',monospace\"><span style=\"font-weight: bold\">{</span>\n",
       "    <span style=\"color: #008000; text-decoration-color: #008000\">'title'</span>: <span style=\"color: #008000; text-decoration-color: #008000\">\"'Lose Yourself'\"</span>,\n",
       "    <span style=\"color: #008000; text-decoration-color: #008000\">'description'</span>: <span style=\"color: #008000; text-decoration-color: #008000\">\"'An intense rap song with a powerful message'\"</span>,\n",
       "    <span style=\"color: #008000; text-decoration-color: #008000\">'genre'</span>: <span style=\"color: #008000; text-decoration-color: #008000\">\"'Rap'\"</span>,\n",
       "    <span style=\"color: #008000; text-decoration-color: #008000\">'artist'</span>: <span style=\"color: #008000; text-decoration-color: #008000\">\"'Eminem'\"</span>,\n",
       "    <span style=\"color: #008000; text-decoration-color: #008000\">'year'</span>: <span style=\"color: #008080; text-decoration-color: #008080; font-weight: bold\">2002</span>\n",
       "<span style=\"font-weight: bold\">}</span>\n",
       "score:  <span style=\"color: #008080; text-decoration-color: #008080; font-weight: bold\">0.56217456</span>\n",
       "</pre>\n"
      ],
      "text/plain": [
       "\u001b[1m{\u001b[0m\n",
       "    \u001b[32m'title'\u001b[0m: \u001b[32m\"'Lose Yourself'\"\u001b[0m,\n",
       "    \u001b[32m'description'\u001b[0m: \u001b[32m\"'An intense rap song with a powerful message'\"\u001b[0m,\n",
       "    \u001b[32m'genre'\u001b[0m: \u001b[32m\"'Rap'\"\u001b[0m,\n",
       "    \u001b[32m'artist'\u001b[0m: \u001b[32m\"'Eminem'\"\u001b[0m,\n",
       "    \u001b[32m'year'\u001b[0m: \u001b[1;36m2002\u001b[0m\n",
       "\u001b[1m}\u001b[0m\n",
       "score:  \u001b[1;36m0.56217456\u001b[0m\n"
      ]
     },
     "metadata": {},
     "output_type": "display_data"
    },
    {
     "data": {
      "text/html": [
       "<pre style=\"white-space:pre;overflow-x:auto;line-height:normal;font-family:Menlo,'DejaVu Sans Mono',consolas,'Courier New',monospace\"><span style=\"font-weight: bold\">{</span>\n",
       "    <span style=\"color: #008000; text-decoration-color: #008000\">'title'</span>: <span style=\"color: #008000; text-decoration-color: #008000\">\"'Old Town Road'\"</span>,\n",
       "    <span style=\"color: #008000; text-decoration-color: #008000\">'description'</span>: <span style=\"color: #008000; text-decoration-color: #008000\">\"'A country-rap fusion with a viral appeal'\"</span>,\n",
       "    <span style=\"color: #008000; text-decoration-color: #008000\">'genre'</span>: <span style=\"color: #008000; text-decoration-color: #008000\">\"'Country'\"</span>,\n",
       "    <span style=\"color: #008000; text-decoration-color: #008000\">'artist'</span>: <span style=\"color: #008000; text-decoration-color: #008000\">\"'Lil Nas X'\"</span>,\n",
       "    <span style=\"color: #008000; text-decoration-color: #008000\">'year'</span>: <span style=\"color: #008080; text-decoration-color: #008080; font-weight: bold\">2019</span>\n",
       "<span style=\"font-weight: bold\">}</span>\n",
       "score:  <span style=\"color: #008080; text-decoration-color: #008080; font-weight: bold\">0.54559654</span>\n",
       "</pre>\n"
      ],
      "text/plain": [
       "\u001b[1m{\u001b[0m\n",
       "    \u001b[32m'title'\u001b[0m: \u001b[32m\"'Old Town Road'\"\u001b[0m,\n",
       "    \u001b[32m'description'\u001b[0m: \u001b[32m\"'A country-rap fusion with a viral appeal'\"\u001b[0m,\n",
       "    \u001b[32m'genre'\u001b[0m: \u001b[32m\"'Country'\"\u001b[0m,\n",
       "    \u001b[32m'artist'\u001b[0m: \u001b[32m\"'Lil Nas X'\"\u001b[0m,\n",
       "    \u001b[32m'year'\u001b[0m: \u001b[1;36m2019\u001b[0m\n",
       "\u001b[1m}\u001b[0m\n",
       "score:  \u001b[1;36m0.54559654\u001b[0m\n"
      ]
     },
     "metadata": {},
     "output_type": "display_data"
    },
    {
     "data": {
      "text/html": [
       "<pre style=\"white-space:pre;overflow-x:auto;line-height:normal;font-family:Menlo,'DejaVu Sans Mono',consolas,'Courier New',monospace\"><span style=\"font-weight: bold\">{</span>\n",
       "    <span style=\"color: #008000; text-decoration-color: #008000\">'title'</span>: <span style=\"color: #008000; text-decoration-color: #008000\">\"'This Is America'\"</span>,\n",
       "    <span style=\"color: #008000; text-decoration-color: #008000\">'description'</span>: <span style=\"color: #008000; text-decoration-color: #008000\">\"'A socially conscious rap song with a powerful video'\"</span>,\n",
       "    <span style=\"color: #008000; text-decoration-color: #008000\">'genre'</span>: <span style=\"color: #008000; text-decoration-color: #008000\">\"'Rap'\"</span>,\n",
       "    <span style=\"color: #008000; text-decoration-color: #008000\">'artist'</span>: <span style=\"color: #008000; text-decoration-color: #008000\">\"'Childish Gambino'\"</span>,\n",
       "    <span style=\"color: #008000; text-decoration-color: #008000\">'year'</span>: <span style=\"color: #008080; text-decoration-color: #008080; font-weight: bold\">2018</span>\n",
       "<span style=\"font-weight: bold\">}</span>\n",
       "score:  <span style=\"color: #008080; text-decoration-color: #008080; font-weight: bold\">0.45459324</span>\n",
       "</pre>\n"
      ],
      "text/plain": [
       "\u001b[1m{\u001b[0m\n",
       "    \u001b[32m'title'\u001b[0m: \u001b[32m\"'This Is America'\"\u001b[0m,\n",
       "    \u001b[32m'description'\u001b[0m: \u001b[32m\"'A socially conscious rap song with a powerful video'\"\u001b[0m,\n",
       "    \u001b[32m'genre'\u001b[0m: \u001b[32m\"'Rap'\"\u001b[0m,\n",
       "    \u001b[32m'artist'\u001b[0m: \u001b[32m\"'Childish Gambino'\"\u001b[0m,\n",
       "    \u001b[32m'year'\u001b[0m: \u001b[1;36m2018\u001b[0m\n",
       "\u001b[1m}\u001b[0m\n",
       "score:  \u001b[1;36m0.45459324\u001b[0m\n"
      ]
     },
     "metadata": {},
     "output_type": "display_data"
    }
   ],
   "source": [
    "print(f\"Query: {query}\")\n",
    "for hit in hits.points:\n",
    "    console.print(hit.payload, \"score: \", hit.score)"
   ]
  },
  {
   "cell_type": "code",
   "execution_count": null,
   "metadata": {},
   "outputs": [],
   "source": []
  },
  {
   "cell_type": "markdown",
   "metadata": {},
   "source": [
    "## Putting It Together"
   ]
  },
  {
   "cell_type": "code",
   "execution_count": 41,
   "metadata": {},
   "outputs": [
    {
     "name": "stdout",
     "output_type": "stream",
     "text": [
      "Processing file: /Users/neidu/Desktop/Projects/Personal/My_Projects/Gen-AI-Projects/QA_and_RAG/data/vector_db_data/music-sample-data.csv\n",
      "Qdrant server is running.\n",
      "Collection 'music-sample-data' already exists.\n",
      "Data from 'music-sample-data' is saved into the vector database.\n",
      "==============================\n",
      "All csv/parquet files are saved into the vector database.\n"
     ]
    },
    {
     "data": {
      "text/plain": [
       "('',\n",
       " [{'role': 'assistant',\n",
       "   'content': 'Uploaded files are ready. Please ask your question'}])"
      ]
     },
     "execution_count": 41,
     "metadata": {},
     "output_type": "execute_result"
    }
   ],
   "source": [
    "from QA_and_RAG.src.db_utils import VectorDBManager\n",
    "\n",
    "\n",
    "files_dir: str = f\"{config.QA_and_RAG.path}/data/vector_db_data/\"\n",
    "vector_db_manager: VectorDBManager = VectorDBManager(files_dir=files_dir)\n",
    "vector_db_manager.run()"
   ]
  },
  {
   "cell_type": "code",
   "execution_count": 42,
   "metadata": {},
   "outputs": [
    {
     "data": {
      "text/plain": [
       "['titanic', 'music-sample-data', 'music_collection']"
      ]
     },
     "execution_count": 42,
     "metadata": {},
     "output_type": "execute_result"
    }
   ],
   "source": [
    "# vector_db_manager.encoder\n",
    "\n",
    "vector_db_manager._get_collection_names()"
   ]
  },
  {
   "cell_type": "code",
   "execution_count": null,
   "metadata": {},
   "outputs": [
    {
     "name": "stdout",
     "output_type": "stream",
     "text": [
      "Creating collection 'neidu_collection'.\n"
     ]
    }
   ],
   "source": [
    "# To Do\n",
    "# 1. Add chunking to the vector store\n",
    "# 2. Add filters to the vector store\n",
    "# 3. Create the RAG pipeline."
   ]
  },
  {
   "cell_type": "code",
   "execution_count": null,
   "metadata": {},
   "outputs": [],
   "source": []
  },
  {
   "cell_type": "code",
   "execution_count": null,
   "metadata": {},
   "outputs": [],
   "source": []
  },
  {
   "cell_type": "code",
   "execution_count": null,
   "metadata": {},
   "outputs": [],
   "source": []
  }
 ],
 "metadata": {
  "kernelspec": {
   "display_name": ".venv",
   "language": "python",
   "name": "python3"
  },
  "language_info": {
   "codemirror_mode": {
    "name": "ipython",
    "version": 3
   },
   "file_extension": ".py",
   "mimetype": "text/x-python",
   "name": "python",
   "nbconvert_exporter": "python",
   "pygments_lexer": "ipython3",
   "version": "3.12.7"
  }
 },
 "nbformat": 4,
 "nbformat_minor": 2
}
