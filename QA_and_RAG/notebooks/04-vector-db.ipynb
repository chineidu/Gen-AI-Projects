{
 "cells": [
  {
   "cell_type": "markdown",
   "metadata": {},
   "source": [
    "# [Q-DRANT](https://qdrant.tech/documentation/quickstart/)"
   ]
  },
  {
   "cell_type": "code",
   "execution_count": 1,
   "metadata": {},
   "outputs": [],
   "source": [
    "# Built-in library\n",
    "from pathlib import Path\n",
    "import re\n",
    "import json\n",
    "from typing import Any, Literal, Optional, Union\n",
    "import logging\n",
    "import warnings\n",
    "\n",
    "# Standard imports\n",
    "import numpy as np\n",
    "import numpy.typing as npt\n",
    "from pprint import pprint\n",
    "import pandas as pd\n",
    "import polars as pl\n",
    "from rich.console import Console\n",
    "from rich.theme import Theme\n",
    "\n",
    "custom_theme = Theme(\n",
    "    {\n",
    "        \"white\": \"#FFFFFF\",  # Bright white\n",
    "        \"info\": \"#00FF00\",  # Bright green\n",
    "        \"warning\": \"#FFD700\",  # Bright gold\n",
    "        \"error\": \"#FF1493\",  # Deep pink\n",
    "        \"success\": \"#00FFFF\",  # Cyan\n",
    "        \"highlight\": \"#FF4500\",  # Orange-red\n",
    "    }\n",
    ")\n",
    "console = Console(theme=custom_theme)\n",
    "\n",
    "# Visualization\n",
    "# import matplotlib.pyplot as plt\n",
    "\n",
    "# NumPy settings\n",
    "np.set_printoptions(precision=4)\n",
    "\n",
    "# Pandas settings\n",
    "pd.options.display.max_rows = 1_000\n",
    "pd.options.display.max_columns = 1_000\n",
    "pd.options.display.max_colwidth = 600\n",
    "\n",
    "# Polars settings\n",
    "pl.Config.set_fmt_str_lengths(1_000)\n",
    "pl.Config.set_tbl_cols(n=1_000)\n",
    "pl.Config.set_tbl_rows(n=1_000)\n",
    "\n",
    "warnings.filterwarnings(\"ignore\")\n",
    "\n",
    "# Black code formatter (Optional)\n",
    "%load_ext lab_black\n",
    "\n",
    "# auto reload imports\n",
    "%load_ext autoreload\n",
    "%autoreload 2"
   ]
  },
  {
   "cell_type": "code",
   "execution_count": 2,
   "metadata": {},
   "outputs": [],
   "source": [
    "def go_up_from_current_directory(*, go_up: int = 1) -> None:\n",
    "    \"\"\"This is used to up a number of directories.\n",
    "\n",
    "    Params:\n",
    "    -------\n",
    "    go_up: int, default=1\n",
    "        This indicates the number of times to go back up from the current directory.\n",
    "\n",
    "    Returns:\n",
    "    --------\n",
    "    None\n",
    "    \"\"\"\n",
    "    import os\n",
    "    import sys\n",
    "\n",
    "    CONST: str = \"../\"\n",
    "    NUM: str = CONST * go_up\n",
    "\n",
    "    # Goto the previous directory\n",
    "    prev_directory = os.path.join(os.path.dirname(__name__), NUM)\n",
    "    # Get the 'absolute path' of the previous directory\n",
    "    abs_path_prev_directory = os.path.abspath(prev_directory)\n",
    "\n",
    "    # Add the path to the System paths\n",
    "    sys.path.insert(0, abs_path_prev_directory)\n",
    "    print(abs_path_prev_directory)"
   ]
  },
  {
   "cell_type": "code",
   "execution_count": 3,
   "metadata": {},
   "outputs": [
    {
     "name": "stdout",
     "output_type": "stream",
     "text": [
      "/Users/neidu/Desktop/Projects/Personal/My_Projects/Gen-AI-Projects\n"
     ]
    }
   ],
   "source": [
    "go_up_from_current_directory(go_up=2)\n",
    "\n",
    "from QA_and_RAG import PACKAGE_ROOT_PATH\n",
    "from QA_and_RAG.src.utils.utilities import ProcessFiles\n",
    "from config import config, settings"
   ]
  },
  {
   "cell_type": "code",
   "execution_count": 4,
   "metadata": {},
   "outputs": [],
   "source": [
    "from qdrant_client import QdrantClient, models\n",
    "from sentence_transformers import SentenceTransformer"
   ]
  },
  {
   "cell_type": "code",
   "execution_count": 13,
   "metadata": {},
   "outputs": [
    {
     "data": {
      "text/plain": [
       "384"
      ]
     },
     "execution_count": 13,
     "metadata": {},
     "output_type": "execute_result"
    }
   ],
   "source": [
    "model_name_or_path: str = \"all-MiniLM-L6-v2\"\n",
    "encoder: SentenceTransformer = SentenceTransformer(model_name_or_path)\n",
    "\n",
    "encoder.get_sentence_embedding_dimension()"
   ]
  },
  {
   "cell_type": "markdown",
   "metadata": {},
   "source": [
    "### Add Dataset"
   ]
  },
  {
   "cell_type": "code",
   "execution_count": 18,
   "metadata": {},
   "outputs": [
    {
     "data": {
      "text/html": [
       "<div><style>\n",
       ".dataframe > thead > tr,\n",
       ".dataframe > tbody > tr {\n",
       "  text-align: right;\n",
       "  white-space: pre-wrap;\n",
       "}\n",
       "</style>\n",
       "<small>shape: (20, 15)</small><table border=\"1\" class=\"dataframe\"><thead><tr><th>pclass</th><th>survived</th><th>name</th><th>sex</th><th>age</th><th>sibsp</th><th>parch</th><th>ticket</th><th>fare</th><th>cabin</th><th>embarked</th><th>boat</th><th>body</th><th>home.dest</th><th>metadata</th></tr><tr><td>i64</td><td>i64</td><td>str</td><td>str</td><td>f64</td><td>i64</td><td>i64</td><td>str</td><td>f64</td><td>str</td><td>str</td><td>str</td><td>i64</td><td>str</td><td>str</td></tr></thead><tbody><tr><td>3</td><td>0</td><td>&quot;Keane, Mr. Andrew &quot;Andy&quot;&quot;</td><td>&quot;male&quot;</td><td>null</td><td>0</td><td>0</td><td>&quot;12460&quot;</td><td>7.75</td><td>null</td><td>&quot;Q&quot;</td><td>null</td><td>null</td><td>null</td><td>&quot;Keane, Mr. Andrew &quot;Andy&quot; || male || 12460&quot;</td></tr><tr><td>2</td><td>0</td><td>&quot;Hickman, Mr. Lewis&quot;</td><td>&quot;male&quot;</td><td>32.0</td><td>2</td><td>0</td><td>&quot;S.O.C. 14879&quot;</td><td>73.5</td><td>null</td><td>&quot;S&quot;</td><td>null</td><td>256</td><td>&quot;West Hampstead, London / Neepawa, MB&quot;</td><td>&quot;Hickman, Mr. Lewis || male || S.O.C. 14879&quot;</td></tr><tr><td>3</td><td>1</td><td>&quot;Tenglin, Mr. Gunnar Isidor&quot;</td><td>&quot;male&quot;</td><td>25.0</td><td>0</td><td>0</td><td>&quot;350033&quot;</td><td>7.7958</td><td>null</td><td>&quot;S&quot;</td><td>&quot;13 15&quot;</td><td>null</td><td>null</td><td>&quot;Tenglin, Mr. Gunnar Isidor || male || 350033&quot;</td></tr><tr><td>2</td><td>0</td><td>&quot;Pernot, Mr. Rene&quot;</td><td>&quot;male&quot;</td><td>null</td><td>0</td><td>0</td><td>&quot;SC/PARIS 2131&quot;</td><td>15.05</td><td>null</td><td>&quot;C&quot;</td><td>null</td><td>null</td><td>null</td><td>&quot;Pernot, Mr. Rene || male || SC/PARIS 2131&quot;</td></tr><tr><td>3</td><td>0</td><td>&quot;Kelly, Mr. James&quot;</td><td>&quot;male&quot;</td><td>34.5</td><td>0</td><td>0</td><td>&quot;330911&quot;</td><td>7.8292</td><td>null</td><td>&quot;Q&quot;</td><td>null</td><td>70</td><td>null</td><td>&quot;Kelly, Mr. James || male || 330911&quot;</td></tr><tr><td>3</td><td>0</td><td>&quot;Davison, Mr. Thomas Henry&quot;</td><td>&quot;male&quot;</td><td>null</td><td>1</td><td>0</td><td>&quot;386525&quot;</td><td>16.1</td><td>null</td><td>&quot;S&quot;</td><td>null</td><td>null</td><td>&quot;Liverpool, England Bedford, OH&quot;</td><td>&quot;Davison, Mr. Thomas Henry || male || 386525&quot;</td></tr><tr><td>3</td><td>1</td><td>&quot;de Messemaeker, Mrs. Guillaume Joseph (Emma)&quot;</td><td>&quot;female&quot;</td><td>36.0</td><td>1</td><td>0</td><td>&quot;345572&quot;</td><td>17.4</td><td>null</td><td>&quot;S&quot;</td><td>&quot;13&quot;</td><td>null</td><td>&quot;Tampico, MT&quot;</td><td>&quot;de Messemaeker, Mrs. Guillaume Joseph (Emma) || female || 345572&quot;</td></tr><tr><td>1</td><td>0</td><td>&quot;Robbins, Mr. Victor&quot;</td><td>&quot;male&quot;</td><td>null</td><td>0</td><td>0</td><td>&quot;PC 17757&quot;</td><td>227.525</td><td>null</td><td>&quot;C&quot;</td><td>null</td><td>null</td><td>null</td><td>&quot;Robbins, Mr. Victor || male || PC 17757&quot;</td></tr><tr><td>1</td><td>1</td><td>&quot;Peuchen, Major. Arthur Godfrey&quot;</td><td>&quot;male&quot;</td><td>52.0</td><td>0</td><td>0</td><td>&quot;113786&quot;</td><td>30.5</td><td>&quot;C104&quot;</td><td>&quot;S&quot;</td><td>&quot;6&quot;</td><td>null</td><td>&quot;Toronto, ON&quot;</td><td>&quot;Peuchen, Major. Arthur Godfrey || male || 113786&quot;</td></tr><tr><td>3</td><td>0</td><td>&quot;Gallagher, Mr. Martin&quot;</td><td>&quot;male&quot;</td><td>25.0</td><td>0</td><td>0</td><td>&quot;36864&quot;</td><td>7.7417</td><td>null</td><td>&quot;Q&quot;</td><td>null</td><td>null</td><td>&quot;New York, NY&quot;</td><td>&quot;Gallagher, Mr. Martin || male || 36864&quot;</td></tr><tr><td>3</td><td>0</td><td>&quot;Asplund, Mr. Carl Oscar Vilhelm Gustafsson&quot;</td><td>&quot;male&quot;</td><td>40.0</td><td>1</td><td>5</td><td>&quot;347077&quot;</td><td>31.3875</td><td>null</td><td>&quot;S&quot;</td><td>null</td><td>142</td><td>&quot;Sweden&nbsp;&nbsp;Worcester, MA&quot;</td><td>&quot;Asplund, Mr. Carl Oscar Vilhelm Gustafsson || male || 347077&quot;</td></tr><tr><td>3</td><td>1</td><td>&quot;Nilsson, Miss. Helmina Josefina&quot;</td><td>&quot;female&quot;</td><td>26.0</td><td>0</td><td>0</td><td>&quot;347470&quot;</td><td>7.8542</td><td>null</td><td>&quot;S&quot;</td><td>&quot;13&quot;</td><td>null</td><td>null</td><td>&quot;Nilsson, Miss. Helmina Josefina || female || 347470&quot;</td></tr><tr><td>3</td><td>0</td><td>&quot;Jussila, Miss. Mari Aina&quot;</td><td>&quot;female&quot;</td><td>21.0</td><td>1</td><td>0</td><td>&quot;4137&quot;</td><td>9.825</td><td>null</td><td>&quot;S&quot;</td><td>null</td><td>null</td><td>null</td><td>&quot;Jussila, Miss. Mari Aina || female || 4137&quot;</td></tr><tr><td>1</td><td>0</td><td>&quot;Newell, Mr. Arthur Webster&quot;</td><td>&quot;male&quot;</td><td>58.0</td><td>0</td><td>2</td><td>&quot;35273&quot;</td><td>113.275</td><td>&quot;D48&quot;</td><td>&quot;C&quot;</td><td>null</td><td>122</td><td>&quot;Lexington, MA&quot;</td><td>&quot;Newell, Mr. Arthur Webster || male || 35273&quot;</td></tr><tr><td>3</td><td>0</td><td>&quot;Johnston, Miss. Catherine Helen &quot;Carrie&quot;&quot;</td><td>&quot;female&quot;</td><td>null</td><td>1</td><td>2</td><td>&quot;W./C. 6607&quot;</td><td>23.45</td><td>null</td><td>&quot;S&quot;</td><td>null</td><td>null</td><td>null</td><td>&quot;Johnston, Miss. Catherine Helen &quot;Carrie&quot; || female || W./C. 6607&quot;</td></tr><tr><td>1</td><td>0</td><td>&quot;Fry, Mr. Richard&quot;</td><td>&quot;male&quot;</td><td>null</td><td>0</td><td>0</td><td>&quot;112058&quot;</td><td>0.0</td><td>&quot;B102&quot;</td><td>&quot;S&quot;</td><td>null</td><td>null</td><td>null</td><td>&quot;Fry, Mr. Richard || male || 112058&quot;</td></tr><tr><td>3</td><td>0</td><td>&quot;Andersson, Miss. Sigrid Elisabeth&quot;</td><td>&quot;female&quot;</td><td>11.0</td><td>4</td><td>2</td><td>&quot;347082&quot;</td><td>31.275</td><td>null</td><td>&quot;S&quot;</td><td>null</td><td>null</td><td>&quot;Sweden Winnipeg, MN&quot;</td><td>&quot;Andersson, Miss. Sigrid Elisabeth || female || 347082&quot;</td></tr><tr><td>3</td><td>0</td><td>&quot;Somerton, Mr. Francis William&quot;</td><td>&quot;male&quot;</td><td>30.0</td><td>0</td><td>0</td><td>&quot;A.5. 18509&quot;</td><td>8.05</td><td>null</td><td>&quot;S&quot;</td><td>null</td><td>null</td><td>null</td><td>&quot;Somerton, Mr. Francis William || male || A.5. 18509&quot;</td></tr><tr><td>3</td><td>1</td><td>&quot;Landergren, Miss. Aurora Adelia&quot;</td><td>&quot;female&quot;</td><td>22.0</td><td>0</td><td>0</td><td>&quot;C 7077&quot;</td><td>7.25</td><td>null</td><td>&quot;S&quot;</td><td>&quot;13&quot;</td><td>null</td><td>null</td><td>&quot;Landergren, Miss. Aurora Adelia || female || C 7077&quot;</td></tr><tr><td>1</td><td>1</td><td>&quot;Chambers, Mr. Norman Campbell&quot;</td><td>&quot;male&quot;</td><td>27.0</td><td>1</td><td>0</td><td>&quot;113806&quot;</td><td>53.1</td><td>&quot;E8&quot;</td><td>&quot;S&quot;</td><td>&quot;5&quot;</td><td>null</td><td>&quot;New York, NY / Ithaca, NY&quot;</td><td>&quot;Chambers, Mr. Norman Campbell || male || 113806&quot;</td></tr></tbody></table></div>"
      ],
      "text/plain": [
       "shape: (20, 15)\n",
       "┌─────┬─────┬─────┬─────┬─────┬─────┬─────┬─────┬─────┬─────┬─────┬───────┬──────┬────────┬────────┐\n",
       "│ pcl ┆ sur ┆ nam ┆ sex ┆ age ┆ sib ┆ par ┆ tic ┆ far ┆ cab ┆ emb ┆ boat  ┆ body ┆ home.d ┆ metada │\n",
       "│ ass ┆ viv ┆ e   ┆ --- ┆ --- ┆ sp  ┆ ch  ┆ ket ┆ e   ┆ in  ┆ ark ┆ ---   ┆ ---  ┆ est    ┆ ta     │\n",
       "│ --- ┆ ed  ┆ --- ┆ str ┆ f64 ┆ --- ┆ --- ┆ --- ┆ --- ┆ --- ┆ ed  ┆ str   ┆ i64  ┆ ---    ┆ ---    │\n",
       "│ i64 ┆ --- ┆ str ┆     ┆     ┆ i64 ┆ i64 ┆ str ┆ f64 ┆ str ┆ --- ┆       ┆      ┆ str    ┆ str    │\n",
       "│     ┆ i64 ┆     ┆     ┆     ┆     ┆     ┆     ┆     ┆     ┆ str ┆       ┆      ┆        ┆        │\n",
       "╞═════╪═════╪═════╪═════╪═════╪═════╪═════╪═════╪═════╪═════╪═════╪═══════╪══════╪════════╪════════╡\n",
       "│ 3   ┆ 0   ┆ Kea ┆ mal ┆ nul ┆ 0   ┆ 0   ┆ 124 ┆ 7.7 ┆ nul ┆ Q   ┆ null  ┆ null ┆ null   ┆ Keane, │\n",
       "│     ┆     ┆ ne, ┆ e   ┆ l   ┆     ┆     ┆ 60  ┆ 5   ┆ l   ┆     ┆       ┆      ┆        ┆ Mr.    │\n",
       "│     ┆     ┆ Mr. ┆     ┆     ┆     ┆     ┆     ┆     ┆     ┆     ┆       ┆      ┆        ┆ Andrew │\n",
       "│     ┆     ┆ And ┆     ┆     ┆     ┆     ┆     ┆     ┆     ┆     ┆       ┆      ┆        ┆ \"Andy\" │\n",
       "│     ┆     ┆ rew ┆     ┆     ┆     ┆     ┆     ┆     ┆     ┆     ┆       ┆      ┆        ┆ ||     │\n",
       "│     ┆     ┆ \"An ┆     ┆     ┆     ┆     ┆     ┆     ┆     ┆     ┆       ┆      ┆        ┆ male   │\n",
       "│     ┆     ┆ dy\" ┆     ┆     ┆     ┆     ┆     ┆     ┆     ┆     ┆       ┆      ┆        ┆ ||     │\n",
       "│     ┆     ┆     ┆     ┆     ┆     ┆     ┆     ┆     ┆     ┆     ┆       ┆      ┆        ┆ 12460  │\n",
       "│ 2   ┆ 0   ┆ Hic ┆ mal ┆ 32. ┆ 2   ┆ 0   ┆ S.O ┆ 73. ┆ nul ┆ S   ┆ null  ┆ 256  ┆ West   ┆ Hickma │\n",
       "│     ┆     ┆ kma ┆ e   ┆ 0   ┆     ┆     ┆ .C. ┆ 5   ┆ l   ┆     ┆       ┆      ┆ Hampst ┆ n, Mr. │\n",
       "│     ┆     ┆ n,  ┆     ┆     ┆     ┆     ┆ 148 ┆     ┆     ┆     ┆       ┆      ┆ ead,   ┆ Lewis  │\n",
       "│     ┆     ┆ Mr. ┆     ┆     ┆     ┆     ┆ 79  ┆     ┆     ┆     ┆       ┆      ┆ London ┆ ||     │\n",
       "│     ┆     ┆ Lew ┆     ┆     ┆     ┆     ┆     ┆     ┆     ┆     ┆       ┆      ┆ / Neep ┆ male   │\n",
       "│     ┆     ┆ is  ┆     ┆     ┆     ┆     ┆     ┆     ┆     ┆     ┆       ┆      ┆ awa,   ┆ ||     │\n",
       "│     ┆     ┆     ┆     ┆     ┆     ┆     ┆     ┆     ┆     ┆     ┆       ┆      ┆ MB     ┆ S.O.C. │\n",
       "│     ┆     ┆     ┆     ┆     ┆     ┆     ┆     ┆     ┆     ┆     ┆       ┆      ┆        ┆ 14879  │\n",
       "│ 3   ┆ 1   ┆ Ten ┆ mal ┆ 25. ┆ 0   ┆ 0   ┆ 350 ┆ 7.7 ┆ nul ┆ S   ┆ 13 15 ┆ null ┆ null   ┆ Tengli │\n",
       "│     ┆     ┆ gli ┆ e   ┆ 0   ┆     ┆     ┆ 033 ┆ 958 ┆ l   ┆     ┆       ┆      ┆        ┆ n, Mr. │\n",
       "│     ┆     ┆ n,  ┆     ┆     ┆     ┆     ┆     ┆     ┆     ┆     ┆       ┆      ┆        ┆ Gunnar │\n",
       "│     ┆     ┆ Mr. ┆     ┆     ┆     ┆     ┆     ┆     ┆     ┆     ┆       ┆      ┆        ┆ Isidor │\n",
       "│     ┆     ┆ Gun ┆     ┆     ┆     ┆     ┆     ┆     ┆     ┆     ┆       ┆      ┆        ┆ ||     │\n",
       "│     ┆     ┆ nar ┆     ┆     ┆     ┆     ┆     ┆     ┆     ┆     ┆       ┆      ┆        ┆ male   │\n",
       "│     ┆     ┆ Isi ┆     ┆     ┆     ┆     ┆     ┆     ┆     ┆     ┆       ┆      ┆        ┆ ||     │\n",
       "│     ┆     ┆ dor ┆     ┆     ┆     ┆     ┆     ┆     ┆     ┆     ┆       ┆      ┆        ┆ 350033 │\n",
       "│ 2   ┆ 0   ┆ Per ┆ mal ┆ nul ┆ 0   ┆ 0   ┆ SC/ ┆ 15. ┆ nul ┆ C   ┆ null  ┆ null ┆ null   ┆ Pernot │\n",
       "│     ┆     ┆ not ┆ e   ┆ l   ┆     ┆     ┆ PAR ┆ 05  ┆ l   ┆     ┆       ┆      ┆        ┆ , Mr.  │\n",
       "│     ┆     ┆ ,   ┆     ┆     ┆     ┆     ┆ IS  ┆     ┆     ┆     ┆       ┆      ┆        ┆ Rene   │\n",
       "│     ┆     ┆ Mr. ┆     ┆     ┆     ┆     ┆ 213 ┆     ┆     ┆     ┆       ┆      ┆        ┆ ||     │\n",
       "│     ┆     ┆ Ren ┆     ┆     ┆     ┆     ┆ 1   ┆     ┆     ┆     ┆       ┆      ┆        ┆ male   │\n",
       "│     ┆     ┆ e   ┆     ┆     ┆     ┆     ┆     ┆     ┆     ┆     ┆       ┆      ┆        ┆ || SC/ │\n",
       "│     ┆     ┆     ┆     ┆     ┆     ┆     ┆     ┆     ┆     ┆     ┆       ┆      ┆        ┆ PARIS  │\n",
       "│     ┆     ┆     ┆     ┆     ┆     ┆     ┆     ┆     ┆     ┆     ┆       ┆      ┆        ┆ 2131   │\n",
       "│ 3   ┆ 0   ┆ Kel ┆ mal ┆ 34. ┆ 0   ┆ 0   ┆ 330 ┆ 7.8 ┆ nul ┆ Q   ┆ null  ┆ 70   ┆ null   ┆ Kelly, │\n",
       "│     ┆     ┆ ly, ┆ e   ┆ 5   ┆     ┆     ┆ 911 ┆ 292 ┆ l   ┆     ┆       ┆      ┆        ┆ Mr.    │\n",
       "│     ┆     ┆ Mr. ┆     ┆     ┆     ┆     ┆     ┆     ┆     ┆     ┆       ┆      ┆        ┆ James  │\n",
       "│     ┆     ┆ Jam ┆     ┆     ┆     ┆     ┆     ┆     ┆     ┆     ┆       ┆      ┆        ┆ ||     │\n",
       "│     ┆     ┆ es  ┆     ┆     ┆     ┆     ┆     ┆     ┆     ┆     ┆       ┆      ┆        ┆ male   │\n",
       "│     ┆     ┆     ┆     ┆     ┆     ┆     ┆     ┆     ┆     ┆     ┆       ┆      ┆        ┆ ||     │\n",
       "│     ┆     ┆     ┆     ┆     ┆     ┆     ┆     ┆     ┆     ┆     ┆       ┆      ┆        ┆ 330911 │\n",
       "│ 3   ┆ 0   ┆ Dav ┆ mal ┆ nul ┆ 1   ┆ 0   ┆ 386 ┆ 16. ┆ nul ┆ S   ┆ null  ┆ null ┆ Liverp ┆ Daviso │\n",
       "│     ┆     ┆ iso ┆ e   ┆ l   ┆     ┆     ┆ 525 ┆ 1   ┆ l   ┆     ┆       ┆      ┆ ool,   ┆ n, Mr. │\n",
       "│     ┆     ┆ n,  ┆     ┆     ┆     ┆     ┆     ┆     ┆     ┆     ┆       ┆      ┆ Englan ┆ Thomas │\n",
       "│     ┆     ┆ Mr. ┆     ┆     ┆     ┆     ┆     ┆     ┆     ┆     ┆       ┆      ┆ d Bedf ┆ Henry  │\n",
       "│     ┆     ┆ Tho ┆     ┆     ┆     ┆     ┆     ┆     ┆     ┆     ┆       ┆      ┆ ord,   ┆ ||     │\n",
       "│     ┆     ┆ mas ┆     ┆     ┆     ┆     ┆     ┆     ┆     ┆     ┆       ┆      ┆ OH     ┆ male   │\n",
       "│     ┆     ┆ Hen ┆     ┆     ┆     ┆     ┆     ┆     ┆     ┆     ┆       ┆      ┆        ┆ ||     │\n",
       "│     ┆     ┆ ry  ┆     ┆     ┆     ┆     ┆     ┆     ┆     ┆     ┆       ┆      ┆        ┆ 386525 │\n",
       "│ 3   ┆ 1   ┆ de  ┆ fem ┆ 36. ┆ 1   ┆ 0   ┆ 345 ┆ 17. ┆ nul ┆ S   ┆ 13    ┆ null ┆ Tampic ┆ de Mes │\n",
       "│     ┆     ┆ Mes ┆ ale ┆ 0   ┆     ┆     ┆ 572 ┆ 4   ┆ l   ┆     ┆       ┆      ┆ o, MT  ┆ semaek │\n",
       "│     ┆     ┆ sem ┆     ┆     ┆     ┆     ┆     ┆     ┆     ┆     ┆       ┆      ┆        ┆ er,    │\n",
       "│     ┆     ┆ aek ┆     ┆     ┆     ┆     ┆     ┆     ┆     ┆     ┆       ┆      ┆        ┆ Mrs.   │\n",
       "│     ┆     ┆ er, ┆     ┆     ┆     ┆     ┆     ┆     ┆     ┆     ┆       ┆      ┆        ┆ Guilla │\n",
       "│     ┆     ┆ Mrs ┆     ┆     ┆     ┆     ┆     ┆     ┆     ┆     ┆       ┆      ┆        ┆ ume    │\n",
       "│     ┆     ┆ .   ┆     ┆     ┆     ┆     ┆     ┆     ┆     ┆     ┆       ┆      ┆        ┆ Joseph │\n",
       "│     ┆     ┆ Gui ┆     ┆     ┆     ┆     ┆     ┆     ┆     ┆     ┆       ┆      ┆        ┆ (Emma) │\n",
       "│     ┆     ┆ lla ┆     ┆     ┆     ┆     ┆     ┆     ┆     ┆     ┆       ┆      ┆        ┆ ||     │\n",
       "│     ┆     ┆ ume ┆     ┆     ┆     ┆     ┆     ┆     ┆     ┆     ┆       ┆      ┆        ┆ female │\n",
       "│     ┆     ┆ Jos ┆     ┆     ┆     ┆     ┆     ┆     ┆     ┆     ┆       ┆      ┆        ┆ ||     │\n",
       "│     ┆     ┆ eph ┆     ┆     ┆     ┆     ┆     ┆     ┆     ┆     ┆       ┆      ┆        ┆ 345572 │\n",
       "│     ┆     ┆ (Em ┆     ┆     ┆     ┆     ┆     ┆     ┆     ┆     ┆       ┆      ┆        ┆        │\n",
       "│     ┆     ┆ ma) ┆     ┆     ┆     ┆     ┆     ┆     ┆     ┆     ┆       ┆      ┆        ┆        │\n",
       "│ 1   ┆ 0   ┆ Rob ┆ mal ┆ nul ┆ 0   ┆ 0   ┆ PC  ┆ 227 ┆ nul ┆ C   ┆ null  ┆ null ┆ null   ┆ Robbin │\n",
       "│     ┆     ┆ bin ┆ e   ┆ l   ┆     ┆     ┆ 177 ┆ .52 ┆ l   ┆     ┆       ┆      ┆        ┆ s, Mr. │\n",
       "│     ┆     ┆ s,  ┆     ┆     ┆     ┆     ┆ 57  ┆ 5   ┆     ┆     ┆       ┆      ┆        ┆ Victor │\n",
       "│     ┆     ┆ Mr. ┆     ┆     ┆     ┆     ┆     ┆     ┆     ┆     ┆       ┆      ┆        ┆ ||     │\n",
       "│     ┆     ┆ Vic ┆     ┆     ┆     ┆     ┆     ┆     ┆     ┆     ┆       ┆      ┆        ┆ male   │\n",
       "│     ┆     ┆ tor ┆     ┆     ┆     ┆     ┆     ┆     ┆     ┆     ┆       ┆      ┆        ┆ || PC  │\n",
       "│     ┆     ┆     ┆     ┆     ┆     ┆     ┆     ┆     ┆     ┆     ┆       ┆      ┆        ┆ 17757  │\n",
       "│ 1   ┆ 1   ┆ Peu ┆ mal ┆ 52. ┆ 0   ┆ 0   ┆ 113 ┆ 30. ┆ C10 ┆ S   ┆ 6     ┆ null ┆ Toront ┆ Peuche │\n",
       "│     ┆     ┆ che ┆ e   ┆ 0   ┆     ┆     ┆ 786 ┆ 5   ┆ 4   ┆     ┆       ┆      ┆ o, ON  ┆ n,     │\n",
       "│     ┆     ┆ n,  ┆     ┆     ┆     ┆     ┆     ┆     ┆     ┆     ┆       ┆      ┆        ┆ Major. │\n",
       "│     ┆     ┆ Maj ┆     ┆     ┆     ┆     ┆     ┆     ┆     ┆     ┆       ┆      ┆        ┆ Arthur │\n",
       "│     ┆     ┆ or. ┆     ┆     ┆     ┆     ┆     ┆     ┆     ┆     ┆       ┆      ┆        ┆ Godfre │\n",
       "│     ┆     ┆ Art ┆     ┆     ┆     ┆     ┆     ┆     ┆     ┆     ┆       ┆      ┆        ┆ y ||   │\n",
       "│     ┆     ┆ hur ┆     ┆     ┆     ┆     ┆     ┆     ┆     ┆     ┆       ┆      ┆        ┆ male   │\n",
       "│     ┆     ┆ God ┆     ┆     ┆     ┆     ┆     ┆     ┆     ┆     ┆       ┆      ┆        ┆ ||     │\n",
       "│     ┆     ┆ fre ┆     ┆     ┆     ┆     ┆     ┆     ┆     ┆     ┆       ┆      ┆        ┆ 113786 │\n",
       "│     ┆     ┆ y   ┆     ┆     ┆     ┆     ┆     ┆     ┆     ┆     ┆       ┆      ┆        ┆        │\n",
       "│ 3   ┆ 0   ┆ Gal ┆ mal ┆ 25. ┆ 0   ┆ 0   ┆ 368 ┆ 7.7 ┆ nul ┆ Q   ┆ null  ┆ null ┆ New    ┆ Gallag │\n",
       "│     ┆     ┆ lag ┆ e   ┆ 0   ┆     ┆     ┆ 64  ┆ 417 ┆ l   ┆     ┆       ┆      ┆ York,  ┆ her,   │\n",
       "│     ┆     ┆ her ┆     ┆     ┆     ┆     ┆     ┆     ┆     ┆     ┆       ┆      ┆ NY     ┆ Mr.    │\n",
       "│     ┆     ┆ ,   ┆     ┆     ┆     ┆     ┆     ┆     ┆     ┆     ┆       ┆      ┆        ┆ Martin │\n",
       "│     ┆     ┆ Mr. ┆     ┆     ┆     ┆     ┆     ┆     ┆     ┆     ┆       ┆      ┆        ┆ ||     │\n",
       "│     ┆     ┆ Mar ┆     ┆     ┆     ┆     ┆     ┆     ┆     ┆     ┆       ┆      ┆        ┆ male   │\n",
       "│     ┆     ┆ tin ┆     ┆     ┆     ┆     ┆     ┆     ┆     ┆     ┆       ┆      ┆        ┆ ||     │\n",
       "│     ┆     ┆     ┆     ┆     ┆     ┆     ┆     ┆     ┆     ┆     ┆       ┆      ┆        ┆ 36864  │\n",
       "│ 3   ┆ 0   ┆ Asp ┆ mal ┆ 40. ┆ 1   ┆ 5   ┆ 347 ┆ 31. ┆ nul ┆ S   ┆ null  ┆ 142  ┆ Sweden ┆ Asplun │\n",
       "│     ┆     ┆ lun ┆ e   ┆ 0   ┆     ┆     ┆ 077 ┆ 387 ┆ l   ┆     ┆       ┆      ┆ Worces ┆ d, Mr. │\n",
       "│     ┆     ┆ d,  ┆     ┆     ┆     ┆     ┆     ┆ 5   ┆     ┆     ┆       ┆      ┆ ter,   ┆ Carl   │\n",
       "│     ┆     ┆ Mr. ┆     ┆     ┆     ┆     ┆     ┆     ┆     ┆     ┆       ┆      ┆ MA     ┆ Oscar  │\n",
       "│     ┆     ┆ Car ┆     ┆     ┆     ┆     ┆     ┆     ┆     ┆     ┆       ┆      ┆        ┆ Vilhel │\n",
       "│     ┆     ┆ l   ┆     ┆     ┆     ┆     ┆     ┆     ┆     ┆     ┆       ┆      ┆        ┆ m Gust │\n",
       "│     ┆     ┆ Osc ┆     ┆     ┆     ┆     ┆     ┆     ┆     ┆     ┆       ┆      ┆        ┆ afsson │\n",
       "│     ┆     ┆ ar  ┆     ┆     ┆     ┆     ┆     ┆     ┆     ┆     ┆       ┆      ┆        ┆ ||     │\n",
       "│     ┆     ┆ Vil ┆     ┆     ┆     ┆     ┆     ┆     ┆     ┆     ┆       ┆      ┆        ┆ male   │\n",
       "│     ┆     ┆ hel ┆     ┆     ┆     ┆     ┆     ┆     ┆     ┆     ┆       ┆      ┆        ┆ ||     │\n",
       "│     ┆     ┆ m   ┆     ┆     ┆     ┆     ┆     ┆     ┆     ┆     ┆       ┆      ┆        ┆ 347077 │\n",
       "│     ┆     ┆ Gus ┆     ┆     ┆     ┆     ┆     ┆     ┆     ┆     ┆       ┆      ┆        ┆        │\n",
       "│     ┆     ┆ taf ┆     ┆     ┆     ┆     ┆     ┆     ┆     ┆     ┆       ┆      ┆        ┆        │\n",
       "│     ┆     ┆ sso ┆     ┆     ┆     ┆     ┆     ┆     ┆     ┆     ┆       ┆      ┆        ┆        │\n",
       "│     ┆     ┆ n   ┆     ┆     ┆     ┆     ┆     ┆     ┆     ┆     ┆       ┆      ┆        ┆        │\n",
       "│ 3   ┆ 1   ┆ Nil ┆ fem ┆ 26. ┆ 0   ┆ 0   ┆ 347 ┆ 7.8 ┆ nul ┆ S   ┆ 13    ┆ null ┆ null   ┆ Nilsso │\n",
       "│     ┆     ┆ sso ┆ ale ┆ 0   ┆     ┆     ┆ 470 ┆ 542 ┆ l   ┆     ┆       ┆      ┆        ┆ n,     │\n",
       "│     ┆     ┆ n,  ┆     ┆     ┆     ┆     ┆     ┆     ┆     ┆     ┆       ┆      ┆        ┆ Miss.  │\n",
       "│     ┆     ┆ Mis ┆     ┆     ┆     ┆     ┆     ┆     ┆     ┆     ┆       ┆      ┆        ┆ Helmin │\n",
       "│     ┆     ┆ s.  ┆     ┆     ┆     ┆     ┆     ┆     ┆     ┆     ┆       ┆      ┆        ┆ a Jose │\n",
       "│     ┆     ┆ Hel ┆     ┆     ┆     ┆     ┆     ┆     ┆     ┆     ┆       ┆      ┆        ┆ fina   │\n",
       "│     ┆     ┆ min ┆     ┆     ┆     ┆     ┆     ┆     ┆     ┆     ┆       ┆      ┆        ┆ ||     │\n",
       "│     ┆     ┆ a   ┆     ┆     ┆     ┆     ┆     ┆     ┆     ┆     ┆       ┆      ┆        ┆ female │\n",
       "│     ┆     ┆ Jos ┆     ┆     ┆     ┆     ┆     ┆     ┆     ┆     ┆       ┆      ┆        ┆ ||     │\n",
       "│     ┆     ┆ efi ┆     ┆     ┆     ┆     ┆     ┆     ┆     ┆     ┆       ┆      ┆        ┆ 347470 │\n",
       "│     ┆     ┆ na  ┆     ┆     ┆     ┆     ┆     ┆     ┆     ┆     ┆       ┆      ┆        ┆        │\n",
       "│ 3   ┆ 0   ┆ Jus ┆ fem ┆ 21. ┆ 1   ┆ 0   ┆ 413 ┆ 9.8 ┆ nul ┆ S   ┆ null  ┆ null ┆ null   ┆ Jussil │\n",
       "│     ┆     ┆ sil ┆ ale ┆ 0   ┆     ┆     ┆ 7   ┆ 25  ┆ l   ┆     ┆       ┆      ┆        ┆ a,     │\n",
       "│     ┆     ┆ a,  ┆     ┆     ┆     ┆     ┆     ┆     ┆     ┆     ┆       ┆      ┆        ┆ Miss.  │\n",
       "│     ┆     ┆ Mis ┆     ┆     ┆     ┆     ┆     ┆     ┆     ┆     ┆       ┆      ┆        ┆ Mari   │\n",
       "│     ┆     ┆ s.  ┆     ┆     ┆     ┆     ┆     ┆     ┆     ┆     ┆       ┆      ┆        ┆ Aina   │\n",
       "│     ┆     ┆ Mar ┆     ┆     ┆     ┆     ┆     ┆     ┆     ┆     ┆       ┆      ┆        ┆ ||     │\n",
       "│     ┆     ┆ i   ┆     ┆     ┆     ┆     ┆     ┆     ┆     ┆     ┆       ┆      ┆        ┆ female │\n",
       "│     ┆     ┆ Ain ┆     ┆     ┆     ┆     ┆     ┆     ┆     ┆     ┆       ┆      ┆        ┆ ||     │\n",
       "│     ┆     ┆ a   ┆     ┆     ┆     ┆     ┆     ┆     ┆     ┆     ┆       ┆      ┆        ┆ 4137   │\n",
       "│ 1   ┆ 0   ┆ New ┆ mal ┆ 58. ┆ 0   ┆ 2   ┆ 352 ┆ 113 ┆ D48 ┆ C   ┆ null  ┆ 122  ┆ Lexing ┆ Newell │\n",
       "│     ┆     ┆ ell ┆ e   ┆ 0   ┆     ┆     ┆ 73  ┆ .27 ┆     ┆     ┆       ┆      ┆ ton,   ┆ , Mr.  │\n",
       "│     ┆     ┆ ,   ┆     ┆     ┆     ┆     ┆     ┆ 5   ┆     ┆     ┆       ┆      ┆ MA     ┆ Arthur │\n",
       "│     ┆     ┆ Mr. ┆     ┆     ┆     ┆     ┆     ┆     ┆     ┆     ┆       ┆      ┆        ┆ Webste │\n",
       "│     ┆     ┆ Art ┆     ┆     ┆     ┆     ┆     ┆     ┆     ┆     ┆       ┆      ┆        ┆ r ||   │\n",
       "│     ┆     ┆ hur ┆     ┆     ┆     ┆     ┆     ┆     ┆     ┆     ┆       ┆      ┆        ┆ male   │\n",
       "│     ┆     ┆ Web ┆     ┆     ┆     ┆     ┆     ┆     ┆     ┆     ┆       ┆      ┆        ┆ ||     │\n",
       "│     ┆     ┆ ste ┆     ┆     ┆     ┆     ┆     ┆     ┆     ┆     ┆       ┆      ┆        ┆ 35273  │\n",
       "│     ┆     ┆ r   ┆     ┆     ┆     ┆     ┆     ┆     ┆     ┆     ┆       ┆      ┆        ┆        │\n",
       "│ 3   ┆ 0   ┆ Joh ┆ fem ┆ nul ┆ 1   ┆ 2   ┆ W./ ┆ 23. ┆ nul ┆ S   ┆ null  ┆ null ┆ null   ┆ Johnst │\n",
       "│     ┆     ┆ nst ┆ ale ┆ l   ┆     ┆     ┆ C.  ┆ 45  ┆ l   ┆     ┆       ┆      ┆        ┆ on,    │\n",
       "│     ┆     ┆ on, ┆     ┆     ┆     ┆     ┆ 660 ┆     ┆     ┆     ┆       ┆      ┆        ┆ Miss.  │\n",
       "│     ┆     ┆ Mis ┆     ┆     ┆     ┆     ┆ 7   ┆     ┆     ┆     ┆       ┆      ┆        ┆ Cather │\n",
       "│     ┆     ┆ s.  ┆     ┆     ┆     ┆     ┆     ┆     ┆     ┆     ┆       ┆      ┆        ┆ ine    │\n",
       "│     ┆     ┆ Cat ┆     ┆     ┆     ┆     ┆     ┆     ┆     ┆     ┆       ┆      ┆        ┆ Helen  │\n",
       "│     ┆     ┆ her ┆     ┆     ┆     ┆     ┆     ┆     ┆     ┆     ┆       ┆      ┆        ┆ \"Carri │\n",
       "│     ┆     ┆ ine ┆     ┆     ┆     ┆     ┆     ┆     ┆     ┆     ┆       ┆      ┆        ┆ e\" ||  │\n",
       "│     ┆     ┆ Hel ┆     ┆     ┆     ┆     ┆     ┆     ┆     ┆     ┆       ┆      ┆        ┆ female │\n",
       "│     ┆     ┆ en  ┆     ┆     ┆     ┆     ┆     ┆     ┆     ┆     ┆       ┆      ┆        ┆ ||     │\n",
       "│     ┆     ┆ \"Ca ┆     ┆     ┆     ┆     ┆     ┆     ┆     ┆     ┆       ┆      ┆        ┆ W./C.  │\n",
       "│     ┆     ┆ rri ┆     ┆     ┆     ┆     ┆     ┆     ┆     ┆     ┆       ┆      ┆        ┆ 6607   │\n",
       "│     ┆     ┆ e\"  ┆     ┆     ┆     ┆     ┆     ┆     ┆     ┆     ┆       ┆      ┆        ┆        │\n",
       "│ 1   ┆ 0   ┆ Fry ┆ mal ┆ nul ┆ 0   ┆ 0   ┆ 112 ┆ 0.0 ┆ B10 ┆ S   ┆ null  ┆ null ┆ null   ┆ Fry,   │\n",
       "│     ┆     ┆ ,   ┆ e   ┆ l   ┆     ┆     ┆ 058 ┆     ┆ 2   ┆     ┆       ┆      ┆        ┆ Mr.    │\n",
       "│     ┆     ┆ Mr. ┆     ┆     ┆     ┆     ┆     ┆     ┆     ┆     ┆       ┆      ┆        ┆ Richar │\n",
       "│     ┆     ┆ Ric ┆     ┆     ┆     ┆     ┆     ┆     ┆     ┆     ┆       ┆      ┆        ┆ d ||   │\n",
       "│     ┆     ┆ har ┆     ┆     ┆     ┆     ┆     ┆     ┆     ┆     ┆       ┆      ┆        ┆ male   │\n",
       "│     ┆     ┆ d   ┆     ┆     ┆     ┆     ┆     ┆     ┆     ┆     ┆       ┆      ┆        ┆ ||     │\n",
       "│     ┆     ┆     ┆     ┆     ┆     ┆     ┆     ┆     ┆     ┆     ┆       ┆      ┆        ┆ 112058 │\n",
       "│ 3   ┆ 0   ┆ And ┆ fem ┆ 11. ┆ 4   ┆ 2   ┆ 347 ┆ 31. ┆ nul ┆ S   ┆ null  ┆ null ┆ Sweden ┆ Anders │\n",
       "│     ┆     ┆ ers ┆ ale ┆ 0   ┆     ┆     ┆ 082 ┆ 275 ┆ l   ┆     ┆       ┆      ┆ Winnip ┆ son,   │\n",
       "│     ┆     ┆ son ┆     ┆     ┆     ┆     ┆     ┆     ┆     ┆     ┆       ┆      ┆ eg, MN ┆ Miss.  │\n",
       "│     ┆     ┆ ,   ┆     ┆     ┆     ┆     ┆     ┆     ┆     ┆     ┆       ┆      ┆        ┆ Sigrid │\n",
       "│     ┆     ┆ Mis ┆     ┆     ┆     ┆     ┆     ┆     ┆     ┆     ┆       ┆      ┆        ┆ Elisab │\n",
       "│     ┆     ┆ s.  ┆     ┆     ┆     ┆     ┆     ┆     ┆     ┆     ┆       ┆      ┆        ┆ eth || │\n",
       "│     ┆     ┆ Sig ┆     ┆     ┆     ┆     ┆     ┆     ┆     ┆     ┆       ┆      ┆        ┆ female │\n",
       "│     ┆     ┆ rid ┆     ┆     ┆     ┆     ┆     ┆     ┆     ┆     ┆       ┆      ┆        ┆ ||     │\n",
       "│     ┆     ┆ Eli ┆     ┆     ┆     ┆     ┆     ┆     ┆     ┆     ┆       ┆      ┆        ┆ 347082 │\n",
       "│     ┆     ┆ sab ┆     ┆     ┆     ┆     ┆     ┆     ┆     ┆     ┆       ┆      ┆        ┆        │\n",
       "│     ┆     ┆ eth ┆     ┆     ┆     ┆     ┆     ┆     ┆     ┆     ┆       ┆      ┆        ┆        │\n",
       "│ 3   ┆ 0   ┆ Som ┆ mal ┆ 30. ┆ 0   ┆ 0   ┆ A.5 ┆ 8.0 ┆ nul ┆ S   ┆ null  ┆ null ┆ null   ┆ Somert │\n",
       "│     ┆     ┆ ert ┆ e   ┆ 0   ┆     ┆     ┆ .   ┆ 5   ┆ l   ┆     ┆       ┆      ┆        ┆ on,    │\n",
       "│     ┆     ┆ on, ┆     ┆     ┆     ┆     ┆ 185 ┆     ┆     ┆     ┆       ┆      ┆        ┆ Mr.    │\n",
       "│     ┆     ┆ Mr. ┆     ┆     ┆     ┆     ┆ 09  ┆     ┆     ┆     ┆       ┆      ┆        ┆ Franci │\n",
       "│     ┆     ┆ Fra ┆     ┆     ┆     ┆     ┆     ┆     ┆     ┆     ┆       ┆      ┆        ┆ s Will │\n",
       "│     ┆     ┆ nci ┆     ┆     ┆     ┆     ┆     ┆     ┆     ┆     ┆       ┆      ┆        ┆ iam || │\n",
       "│     ┆     ┆ s   ┆     ┆     ┆     ┆     ┆     ┆     ┆     ┆     ┆       ┆      ┆        ┆ male   │\n",
       "│     ┆     ┆ Wil ┆     ┆     ┆     ┆     ┆     ┆     ┆     ┆     ┆       ┆      ┆        ┆ ||     │\n",
       "│     ┆     ┆ lia ┆     ┆     ┆     ┆     ┆     ┆     ┆     ┆     ┆       ┆      ┆        ┆ A.5.   │\n",
       "│     ┆     ┆ m   ┆     ┆     ┆     ┆     ┆     ┆     ┆     ┆     ┆       ┆      ┆        ┆ 18509  │\n",
       "│ 3   ┆ 1   ┆ Lan ┆ fem ┆ 22. ┆ 0   ┆ 0   ┆ C   ┆ 7.2 ┆ nul ┆ S   ┆ 13    ┆ null ┆ null   ┆ Lander │\n",
       "│     ┆     ┆ der ┆ ale ┆ 0   ┆     ┆     ┆ 707 ┆ 5   ┆ l   ┆     ┆       ┆      ┆        ┆ gren,  │\n",
       "│     ┆     ┆ gre ┆     ┆     ┆     ┆     ┆ 7   ┆     ┆     ┆     ┆       ┆      ┆        ┆ Miss.  │\n",
       "│     ┆     ┆ n,  ┆     ┆     ┆     ┆     ┆     ┆     ┆     ┆     ┆       ┆      ┆        ┆ Aurora │\n",
       "│     ┆     ┆ Mis ┆     ┆     ┆     ┆     ┆     ┆     ┆     ┆     ┆       ┆      ┆        ┆ Adelia │\n",
       "│     ┆     ┆ s.  ┆     ┆     ┆     ┆     ┆     ┆     ┆     ┆     ┆       ┆      ┆        ┆ ||     │\n",
       "│     ┆     ┆ Aur ┆     ┆     ┆     ┆     ┆     ┆     ┆     ┆     ┆       ┆      ┆        ┆ female │\n",
       "│     ┆     ┆ ora ┆     ┆     ┆     ┆     ┆     ┆     ┆     ┆     ┆       ┆      ┆        ┆ || C   │\n",
       "│     ┆     ┆ Ade ┆     ┆     ┆     ┆     ┆     ┆     ┆     ┆     ┆       ┆      ┆        ┆ 7077   │\n",
       "│     ┆     ┆ lia ┆     ┆     ┆     ┆     ┆     ┆     ┆     ┆     ┆       ┆      ┆        ┆        │\n",
       "│ 1   ┆ 1   ┆ Cha ┆ mal ┆ 27. ┆ 1   ┆ 0   ┆ 113 ┆ 53. ┆ E8  ┆ S   ┆ 5     ┆ null ┆ New    ┆ Chambe │\n",
       "│     ┆     ┆ mbe ┆ e   ┆ 0   ┆     ┆     ┆ 806 ┆ 1   ┆     ┆     ┆       ┆      ┆ York,  ┆ rs,    │\n",
       "│     ┆     ┆ rs, ┆     ┆     ┆     ┆     ┆     ┆     ┆     ┆     ┆       ┆      ┆ NY /   ┆ Mr.    │\n",
       "│     ┆     ┆ Mr. ┆     ┆     ┆     ┆     ┆     ┆     ┆     ┆     ┆       ┆      ┆ Ithaca ┆ Norman │\n",
       "│     ┆     ┆ Nor ┆     ┆     ┆     ┆     ┆     ┆     ┆     ┆     ┆       ┆      ┆ , NY   ┆ Campbe │\n",
       "│     ┆     ┆ man ┆     ┆     ┆     ┆     ┆     ┆     ┆     ┆     ┆       ┆      ┆        ┆ ll ||  │\n",
       "│     ┆     ┆ Cam ┆     ┆     ┆     ┆     ┆     ┆     ┆     ┆     ┆       ┆      ┆        ┆ male   │\n",
       "│     ┆     ┆ pbe ┆     ┆     ┆     ┆     ┆     ┆     ┆     ┆     ┆       ┆      ┆        ┆ ||     │\n",
       "│     ┆     ┆ ll  ┆     ┆     ┆     ┆     ┆     ┆     ┆     ┆     ┆       ┆      ┆        ┆ 113806 │\n",
       "└─────┴─────┴─────┴─────┴─────┴─────┴─────┴─────┴─────┴─────┴─────┴───────┴──────┴────────┴────────┘"
      ]
     },
     "execution_count": 18,
     "metadata": {},
     "output_type": "execute_result"
    }
   ],
   "source": [
    "fp: str = \"../data/flat_files/titanic-data.csv\"\n",
    "df: pl.DataFrame = pl.read_csv(fp).with_columns(\n",
    "    metadata=pl.concat_str(\n",
    "        [\"name\", \"sex\", \"ticket\"],\n",
    "        separator=\" || \",\n",
    "    )\n",
    ")\n",
    "\n",
    "sample_df: pl.DataFrame = df.sample(20, seed=1)\n",
    "sample_df"
   ]
  },
  {
   "cell_type": "code",
   "execution_count": 19,
   "metadata": {},
   "outputs": [
    {
     "data": {
      "text/plain": [
       "[{'pclass': 3,\n",
       "  'survived': 0,\n",
       "  'name': 'Keane, Mr. Andrew \"Andy\"',\n",
       "  'sex': 'male',\n",
       "  'age': None,\n",
       "  'sibsp': 0,\n",
       "  'parch': 0,\n",
       "  'ticket': '12460',\n",
       "  'fare': 7.75,\n",
       "  'cabin': None,\n",
       "  'embarked': 'Q',\n",
       "  'boat': None,\n",
       "  'body': None,\n",
       "  'home.dest': None,\n",
       "  'metadata': 'Keane, Mr. Andrew \"Andy\" || male || 12460'},\n",
       " {'pclass': 2,\n",
       "  'survived': 0,\n",
       "  'name': 'Hickman, Mr. Lewis',\n",
       "  'sex': 'male',\n",
       "  'age': 32.0,\n",
       "  'sibsp': 2,\n",
       "  'parch': 0,\n",
       "  'ticket': 'S.O.C. 14879',\n",
       "  'fare': 73.5,\n",
       "  'cabin': None,\n",
       "  'embarked': 'S',\n",
       "  'boat': None,\n",
       "  'body': 256,\n",
       "  'home.dest': 'West Hampstead, London / Neepawa, MB',\n",
       "  'metadata': 'Hickman, Mr. Lewis || male || S.O.C. 14879'}]"
      ]
     },
     "execution_count": 19,
     "metadata": {},
     "output_type": "execute_result"
    }
   ],
   "source": [
    "documents: list[dict[str, Any]] = sample_df.to_dicts()\n",
    "sample_df.to_dicts()[:2]"
   ]
  },
  {
   "cell_type": "markdown",
   "metadata": {},
   "source": [
    "### Create Client And Collection"
   ]
  },
  {
   "cell_type": "code",
   "execution_count": 32,
   "metadata": {},
   "outputs": [
    {
     "data": {
      "text/plain": [
       "True"
      ]
     },
     "execution_count": 32,
     "metadata": {},
     "output_type": "execute_result"
    }
   ],
   "source": [
    "client = QdrantClient(url=\"http://localhost:6333\")\n",
    "\n",
    "# Create collection\n",
    "collection_name: str = \"titanic\"\n",
    "embedding_size: int = encoder.get_sentence_embedding_dimension()\n",
    "\n",
    "client.recreate_collection(\n",
    "    collection_name=collection_name,\n",
    "    vectors_config=models.VectorParams(\n",
    "        size=embedding_size, distance=models.Distance.COSINE\n",
    "    ),\n",
    ")"
   ]
  },
  {
   "cell_type": "markdown",
   "metadata": {},
   "source": [
    "### Upload Data to Qdrant"
   ]
  },
  {
   "cell_type": "code",
   "execution_count": 25,
   "metadata": {},
   "outputs": [],
   "source": [
    "res = encoder.encode(\"This is a test.\")"
   ]
  },
  {
   "cell_type": "code",
   "execution_count": 35,
   "metadata": {},
   "outputs": [
    {
     "data": {
      "text/plain": [
       "[0.03359076753258705, 0.010512457229197025]"
      ]
     },
     "execution_count": 35,
     "metadata": {},
     "output_type": "execute_result"
    }
   ],
   "source": [
    "res.tolist()[:2]"
   ]
  },
  {
   "cell_type": "code",
   "execution_count": 37,
   "metadata": {},
   "outputs": [
    {
     "data": {
      "text/plain": [
       "384"
      ]
     },
     "execution_count": 37,
     "metadata": {},
     "output_type": "execute_result"
    }
   ],
   "source": [
    "def embed_document(document: str) -> list[float]:\n",
    "    \"\"\"Embed a document using an embedding model.\"\"\"\n",
    "    return encoder.encode(document).tolist()\n",
    "\n",
    "\n",
    "len(embed_document(\"This is a test.\"))"
   ]
  },
  {
   "cell_type": "code",
   "execution_count": 36,
   "metadata": {},
   "outputs": [
    {
     "data": {
      "text/plain": [
       "UpdateResult(operation_id=0, status=<UpdateStatus.COMPLETED: 'completed'>)"
      ]
     },
     "execution_count": 36,
     "metadata": {},
     "output_type": "execute_result"
    }
   ],
   "source": [
    "client.upsert(\n",
    "    collection_name=collection_name,\n",
    "    points=[\n",
    "        models.PointStruct(id=idx, vector=embed_document(doc[\"metadata\"]), payload=doc)\n",
    "        for idx, doc in enumerate(documents)\n",
    "    ],\n",
    ")"
   ]
  },
  {
   "cell_type": "code",
   "execution_count": null,
   "metadata": {},
   "outputs": [],
   "source": [
    "### Query "
   ]
  },
  {
   "cell_type": "code",
   "execution_count": null,
   "metadata": {},
   "outputs": [],
   "source": []
  },
  {
   "cell_type": "code",
   "execution_count": null,
   "metadata": {},
   "outputs": [],
   "source": []
  }
 ],
 "metadata": {
  "kernelspec": {
   "display_name": ".venv",
   "language": "python",
   "name": "python3"
  },
  "language_info": {
   "codemirror_mode": {
    "name": "ipython",
    "version": 3
   },
   "file_extension": ".py",
   "mimetype": "text/x-python",
   "name": "python",
   "nbconvert_exporter": "python",
   "pygments_lexer": "ipython3",
   "version": "3.12.7"
  }
 },
 "nbformat": 4,
 "nbformat_minor": 2
}
