{
 "cells": [
  {
   "cell_type": "markdown",
   "metadata": {},
   "source": [
    "<!-- # Data Exploration -->\n"
   ]
  },
  {
   "cell_type": "code",
   "execution_count": 1,
   "metadata": {},
   "outputs": [],
   "source": [
    "# Built-in library\n",
    "from pathlib import Path\n",
    "import re\n",
    "import json\n",
    "from typing import Any, Literal, Optional, Union\n",
    "import logging\n",
    "import warnings\n",
    "\n",
    "# Standard imports\n",
    "import numpy as np\n",
    "import numpy.typing as npt\n",
    "from pprint import pprint\n",
    "import pandas as pd\n",
    "import polars as pl\n",
    "from rich.console import Console\n",
    "from rich.theme import Theme\n",
    "\n",
    "custom_theme = Theme(\n",
    "    {\n",
    "        \"white\": \"#FFFFFF\",  # Bright white\n",
    "        \"info\": \"#00FF00\",  # Bright green\n",
    "        \"warning\": \"#FFD700\",  # Bright gold\n",
    "        \"error\": \"#FF1493\",  # Deep pink\n",
    "        \"success\": \"#00FFFF\",  # Cyan\n",
    "        \"highlight\": \"#FF4500\",  # Orange-red\n",
    "    }\n",
    ")\n",
    "console = Console(theme=custom_theme)\n",
    "\n",
    "# Visualization\n",
    "# import matplotlib.pyplot as plt\n",
    "\n",
    "# NumPy settings\n",
    "np.set_printoptions(precision=4)\n",
    "\n",
    "# Pandas settings\n",
    "pd.options.display.max_rows = 1_000\n",
    "pd.options.display.max_columns = 1_000\n",
    "pd.options.display.max_colwidth = 600\n",
    "\n",
    "# Polars settings\n",
    "pl.Config.set_fmt_str_lengths(1_000)\n",
    "pl.Config.set_tbl_cols(n=1_000)\n",
    "\n",
    "warnings.filterwarnings(\"ignore\")\n",
    "\n",
    "# Black code formatter (Optional)\n",
    "%load_ext lab_black\n",
    "\n",
    "# auto reload imports\n",
    "%load_ext autoreload\n",
    "%autoreload 2"
   ]
  },
  {
   "cell_type": "code",
   "execution_count": 2,
   "metadata": {},
   "outputs": [],
   "source": [
    "def go_up_from_current_directory(*, go_up: int = 1) -> None:\n",
    "    \"\"\"This is used to up a number of directories.\n",
    "\n",
    "    Params:\n",
    "    -------\n",
    "    go_up: int, default=1\n",
    "        This indicates the number of times to go back up from the current directory.\n",
    "\n",
    "    Returns:\n",
    "    --------\n",
    "    None\n",
    "    \"\"\"\n",
    "    import os\n",
    "    import sys\n",
    "\n",
    "    CONST: str = \"../\"\n",
    "    NUM: str = CONST * go_up\n",
    "\n",
    "    # Goto the previous directory\n",
    "    prev_directory = os.path.join(os.path.dirname(__name__), NUM)\n",
    "    # Get the 'absolute path' of the previous directory\n",
    "    abs_path_prev_directory = os.path.abspath(prev_directory)\n",
    "\n",
    "    # Add the path to the System paths\n",
    "    sys.path.insert(0, abs_path_prev_directory)\n",
    "    print(abs_path_prev_directory)"
   ]
  },
  {
   "cell_type": "code",
   "execution_count": 4,
   "metadata": {},
   "outputs": [
    {
     "name": "stdout",
     "output_type": "stream",
     "text": [
      "/Users/neidu/Desktop/Projects/Personal/My_Projects/Gen-AI-Projects\n"
     ]
    }
   ],
   "source": [
    "go_up_from_current_directory(go_up=2)\n",
    "\n",
    "from QA_and_RAG import PACKAGE_ROOT_PATH\n",
    "from QA_and_RAG.src.utils.utilities import ProcessFiles\n",
    "from config import config, settings"
   ]
  },
  {
   "cell_type": "markdown",
   "metadata": {},
   "source": [
    "<!-- ### SQL Database(s) -->"
   ]
  },
  {
   "cell_type": "code",
   "execution_count": 5,
   "metadata": {},
   "outputs": [
    {
     "name": "stdout",
     "output_type": "stream",
     "text": [
      "/Users/neidu/Desktop/Projects/Personal/My_Projects/Gen-AI-Projects/QA_and_RAG\n"
     ]
    }
   ],
   "source": [
    "go_up_from_current_directory(go_up=1)\n",
    "\n",
    "\n",
    "from src.db_utils import SQLFromTabularData\n",
    "from src.chatbot import Chatbot"
   ]
  },
  {
   "cell_type": "code",
   "execution_count": 6,
   "metadata": {},
   "outputs": [
    {
     "name": "stdout",
     "output_type": "stream",
     "text": [
      "Error creating/updating the DB: Table 'titanic' already exists.\n",
      "DB Path: sqlite:///../data/flat_files/stored_data.db\n",
      "================================\n",
      "Available table Names: ['breast_cancer', 'diabetes', 'titanic']\n",
      "================================\n"
     ]
    }
   ],
   "source": [
    "create_db: SQLFromTabularData = SQLFromTabularData(\n",
    "    file_path=\"../data/flat_files/titanic-data.csv\",\n",
    "    db_path=\"../data/flat_files/stored_data.db\",\n",
    "    table_name=\"titanic\",\n",
    ")\n",
    "\n",
    "\n",
    "# create_db: SQLFromTabularData = SQLFromTabularData(\n",
    "#     file_path=\"../data/flat_files/titanic-data.csv\",\n",
    "#     db_path=\"../data/flat_files/stored_data.db\",\n",
    "#     table_name=\"titanic\",\n",
    "# )\n",
    "\n",
    "\n",
    "create_db.run()"
   ]
  },
  {
   "cell_type": "code",
   "execution_count": null,
   "metadata": {},
   "outputs": [],
   "source": []
  },
  {
   "cell_type": "code",
   "execution_count": 7,
   "metadata": {},
   "outputs": [
    {
     "data": {
      "text/html": [
       "<div><style>\n",
       ".dataframe > thead > tr,\n",
       ".dataframe > tbody > tr {\n",
       "  text-align: right;\n",
       "  white-space: pre-wrap;\n",
       "}\n",
       "</style>\n",
       "<small>shape: (5, 14)</small><table border=\"1\" class=\"dataframe\"><thead><tr><th>pclass</th><th>survived</th><th>name</th><th>sex</th><th>age</th><th>sibsp</th><th>parch</th><th>ticket</th><th>fare</th><th>cabin</th><th>embarked</th><th>boat</th><th>body</th><th>home.dest</th></tr><tr><td>i64</td><td>i64</td><td>str</td><td>str</td><td>f64</td><td>i64</td><td>i64</td><td>str</td><td>f64</td><td>str</td><td>str</td><td>str</td><td>i64</td><td>str</td></tr></thead><tbody><tr><td>1</td><td>1</td><td>&quot;Allen, Miss. Elisabeth Walton&quot;</td><td>&quot;female&quot;</td><td>29.0</td><td>0</td><td>0</td><td>&quot;24160&quot;</td><td>211.3375</td><td>&quot;B5&quot;</td><td>&quot;S&quot;</td><td>&quot;2&quot;</td><td>null</td><td>&quot;St Louis, MO&quot;</td></tr><tr><td>1</td><td>1</td><td>&quot;Allison, Master. Hudson Trevor&quot;</td><td>&quot;male&quot;</td><td>0.9167</td><td>1</td><td>2</td><td>&quot;113781&quot;</td><td>151.55</td><td>&quot;C22 C26&quot;</td><td>&quot;S&quot;</td><td>&quot;11&quot;</td><td>null</td><td>&quot;Montreal, PQ / Chesterville, ON&quot;</td></tr><tr><td>1</td><td>0</td><td>&quot;Allison, Miss. Helen Loraine&quot;</td><td>&quot;female&quot;</td><td>2.0</td><td>1</td><td>2</td><td>&quot;113781&quot;</td><td>151.55</td><td>&quot;C22 C26&quot;</td><td>&quot;S&quot;</td><td>null</td><td>null</td><td>&quot;Montreal, PQ / Chesterville, ON&quot;</td></tr><tr><td>1</td><td>0</td><td>&quot;Allison, Mr. Hudson Joshua Creighton&quot;</td><td>&quot;male&quot;</td><td>30.0</td><td>1</td><td>2</td><td>&quot;113781&quot;</td><td>151.55</td><td>&quot;C22 C26&quot;</td><td>&quot;S&quot;</td><td>null</td><td>135</td><td>&quot;Montreal, PQ / Chesterville, ON&quot;</td></tr><tr><td>1</td><td>0</td><td>&quot;Allison, Mrs. Hudson J C (Bessie Waldo Daniels)&quot;</td><td>&quot;female&quot;</td><td>25.0</td><td>1</td><td>2</td><td>&quot;113781&quot;</td><td>151.55</td><td>&quot;C22 C26&quot;</td><td>&quot;S&quot;</td><td>null</td><td>null</td><td>&quot;Montreal, PQ / Chesterville, ON&quot;</td></tr></tbody></table></div>"
      ],
      "text/plain": [
       "shape: (5, 14)\n",
       "┌─────┬─────┬─────┬─────┬─────┬─────┬─────┬────────┬────────┬────────┬───────┬──────┬──────┬───────┐\n",
       "│ pcl ┆ sur ┆ nam ┆ sex ┆ age ┆ sib ┆ par ┆ ticket ┆ fare   ┆ cabin  ┆ embar ┆ boat ┆ body ┆ home. │\n",
       "│ ass ┆ viv ┆ e   ┆ --- ┆ --- ┆ sp  ┆ ch  ┆ ---    ┆ ---    ┆ ---    ┆ ked   ┆ ---  ┆ ---  ┆ dest  │\n",
       "│ --- ┆ ed  ┆ --- ┆ str ┆ f64 ┆ --- ┆ --- ┆ str    ┆ f64    ┆ str    ┆ ---   ┆ str  ┆ i64  ┆ ---   │\n",
       "│ i64 ┆ --- ┆ str ┆     ┆     ┆ i64 ┆ i64 ┆        ┆        ┆        ┆ str   ┆      ┆      ┆ str   │\n",
       "│     ┆ i64 ┆     ┆     ┆     ┆     ┆     ┆        ┆        ┆        ┆       ┆      ┆      ┆       │\n",
       "╞═════╪═════╪═════╪═════╪═════╪═════╪═════╪════════╪════════╪════════╪═══════╪══════╪══════╪═══════╡\n",
       "│ 1   ┆ 1   ┆ All ┆ fem ┆ 29. ┆ 0   ┆ 0   ┆ 24160  ┆ 211.33 ┆ B5     ┆ S     ┆ 2    ┆ null ┆ St    │\n",
       "│     ┆     ┆ en, ┆ ale ┆ 0   ┆     ┆     ┆        ┆ 75     ┆        ┆       ┆      ┆      ┆ Louis │\n",
       "│     ┆     ┆ Mis ┆     ┆     ┆     ┆     ┆        ┆        ┆        ┆       ┆      ┆      ┆ , MO  │\n",
       "│     ┆     ┆ s.  ┆     ┆     ┆     ┆     ┆        ┆        ┆        ┆       ┆      ┆      ┆       │\n",
       "│     ┆     ┆ Eli ┆     ┆     ┆     ┆     ┆        ┆        ┆        ┆       ┆      ┆      ┆       │\n",
       "│     ┆     ┆ sab ┆     ┆     ┆     ┆     ┆        ┆        ┆        ┆       ┆      ┆      ┆       │\n",
       "│     ┆     ┆ eth ┆     ┆     ┆     ┆     ┆        ┆        ┆        ┆       ┆      ┆      ┆       │\n",
       "│     ┆     ┆ Wal ┆     ┆     ┆     ┆     ┆        ┆        ┆        ┆       ┆      ┆      ┆       │\n",
       "│     ┆     ┆ ton ┆     ┆     ┆     ┆     ┆        ┆        ┆        ┆       ┆      ┆      ┆       │\n",
       "│ 1   ┆ 1   ┆ All ┆ mal ┆ 0.9 ┆ 1   ┆ 2   ┆ 113781 ┆ 151.55 ┆ C22    ┆ S     ┆ 11   ┆ null ┆ Montr │\n",
       "│     ┆     ┆ iso ┆ e   ┆ 167 ┆     ┆     ┆        ┆        ┆ C26    ┆       ┆      ┆      ┆ eal,  │\n",
       "│     ┆     ┆ n,  ┆     ┆     ┆     ┆     ┆        ┆        ┆        ┆       ┆      ┆      ┆ PQ /  │\n",
       "│     ┆     ┆ Mas ┆     ┆     ┆     ┆     ┆        ┆        ┆        ┆       ┆      ┆      ┆ Chest │\n",
       "│     ┆     ┆ ter ┆     ┆     ┆     ┆     ┆        ┆        ┆        ┆       ┆      ┆      ┆ ervil │\n",
       "│     ┆     ┆ .   ┆     ┆     ┆     ┆     ┆        ┆        ┆        ┆       ┆      ┆      ┆ le,   │\n",
       "│     ┆     ┆ Hud ┆     ┆     ┆     ┆     ┆        ┆        ┆        ┆       ┆      ┆      ┆ ON    │\n",
       "│     ┆     ┆ son ┆     ┆     ┆     ┆     ┆        ┆        ┆        ┆       ┆      ┆      ┆       │\n",
       "│     ┆     ┆ Tre ┆     ┆     ┆     ┆     ┆        ┆        ┆        ┆       ┆      ┆      ┆       │\n",
       "│     ┆     ┆ vor ┆     ┆     ┆     ┆     ┆        ┆        ┆        ┆       ┆      ┆      ┆       │\n",
       "│ 1   ┆ 0   ┆ All ┆ fem ┆ 2.0 ┆ 1   ┆ 2   ┆ 113781 ┆ 151.55 ┆ C22    ┆ S     ┆ null ┆ null ┆ Montr │\n",
       "│     ┆     ┆ iso ┆ ale ┆     ┆     ┆     ┆        ┆        ┆ C26    ┆       ┆      ┆      ┆ eal,  │\n",
       "│     ┆     ┆ n,  ┆     ┆     ┆     ┆     ┆        ┆        ┆        ┆       ┆      ┆      ┆ PQ /  │\n",
       "│     ┆     ┆ Mis ┆     ┆     ┆     ┆     ┆        ┆        ┆        ┆       ┆      ┆      ┆ Chest │\n",
       "│     ┆     ┆ s.  ┆     ┆     ┆     ┆     ┆        ┆        ┆        ┆       ┆      ┆      ┆ ervil │\n",
       "│     ┆     ┆ Hel ┆     ┆     ┆     ┆     ┆        ┆        ┆        ┆       ┆      ┆      ┆ le,   │\n",
       "│     ┆     ┆ en  ┆     ┆     ┆     ┆     ┆        ┆        ┆        ┆       ┆      ┆      ┆ ON    │\n",
       "│     ┆     ┆ Lor ┆     ┆     ┆     ┆     ┆        ┆        ┆        ┆       ┆      ┆      ┆       │\n",
       "│     ┆     ┆ ain ┆     ┆     ┆     ┆     ┆        ┆        ┆        ┆       ┆      ┆      ┆       │\n",
       "│     ┆     ┆ e   ┆     ┆     ┆     ┆     ┆        ┆        ┆        ┆       ┆      ┆      ┆       │\n",
       "│ 1   ┆ 0   ┆ All ┆ mal ┆ 30. ┆ 1   ┆ 2   ┆ 113781 ┆ 151.55 ┆ C22    ┆ S     ┆ null ┆ 135  ┆ Montr │\n",
       "│     ┆     ┆ iso ┆ e   ┆ 0   ┆     ┆     ┆        ┆        ┆ C26    ┆       ┆      ┆      ┆ eal,  │\n",
       "│     ┆     ┆ n,  ┆     ┆     ┆     ┆     ┆        ┆        ┆        ┆       ┆      ┆      ┆ PQ /  │\n",
       "│     ┆     ┆ Mr. ┆     ┆     ┆     ┆     ┆        ┆        ┆        ┆       ┆      ┆      ┆ Chest │\n",
       "│     ┆     ┆ Hud ┆     ┆     ┆     ┆     ┆        ┆        ┆        ┆       ┆      ┆      ┆ ervil │\n",
       "│     ┆     ┆ son ┆     ┆     ┆     ┆     ┆        ┆        ┆        ┆       ┆      ┆      ┆ le,   │\n",
       "│     ┆     ┆ Jos ┆     ┆     ┆     ┆     ┆        ┆        ┆        ┆       ┆      ┆      ┆ ON    │\n",
       "│     ┆     ┆ hua ┆     ┆     ┆     ┆     ┆        ┆        ┆        ┆       ┆      ┆      ┆       │\n",
       "│     ┆     ┆ Cre ┆     ┆     ┆     ┆     ┆        ┆        ┆        ┆       ┆      ┆      ┆       │\n",
       "│     ┆     ┆ igh ┆     ┆     ┆     ┆     ┆        ┆        ┆        ┆       ┆      ┆      ┆       │\n",
       "│     ┆     ┆ ton ┆     ┆     ┆     ┆     ┆        ┆        ┆        ┆       ┆      ┆      ┆       │\n",
       "│ 1   ┆ 0   ┆ All ┆ fem ┆ 25. ┆ 1   ┆ 2   ┆ 113781 ┆ 151.55 ┆ C22    ┆ S     ┆ null ┆ null ┆ Montr │\n",
       "│     ┆     ┆ iso ┆ ale ┆ 0   ┆     ┆     ┆        ┆        ┆ C26    ┆       ┆      ┆      ┆ eal,  │\n",
       "│     ┆     ┆ n,  ┆     ┆     ┆     ┆     ┆        ┆        ┆        ┆       ┆      ┆      ┆ PQ /  │\n",
       "│     ┆     ┆ Mrs ┆     ┆     ┆     ┆     ┆        ┆        ┆        ┆       ┆      ┆      ┆ Chest │\n",
       "│     ┆     ┆ .   ┆     ┆     ┆     ┆     ┆        ┆        ┆        ┆       ┆      ┆      ┆ ervil │\n",
       "│     ┆     ┆ Hud ┆     ┆     ┆     ┆     ┆        ┆        ┆        ┆       ┆      ┆      ┆ le,   │\n",
       "│     ┆     ┆ son ┆     ┆     ┆     ┆     ┆        ┆        ┆        ┆       ┆      ┆      ┆ ON    │\n",
       "│     ┆     ┆ J C ┆     ┆     ┆     ┆     ┆        ┆        ┆        ┆       ┆      ┆      ┆       │\n",
       "│     ┆     ┆ (Be ┆     ┆     ┆     ┆     ┆        ┆        ┆        ┆       ┆      ┆      ┆       │\n",
       "│     ┆     ┆ ssi ┆     ┆     ┆     ┆     ┆        ┆        ┆        ┆       ┆      ┆      ┆       │\n",
       "│     ┆     ┆ e   ┆     ┆     ┆     ┆     ┆        ┆        ┆        ┆       ┆      ┆      ┆       │\n",
       "│     ┆     ┆ Wal ┆     ┆     ┆     ┆     ┆        ┆        ┆        ┆       ┆      ┆      ┆       │\n",
       "│     ┆     ┆ do  ┆     ┆     ┆     ┆     ┆        ┆        ┆        ┆       ┆      ┆      ┆       │\n",
       "│     ┆     ┆ Dan ┆     ┆     ┆     ┆     ┆        ┆        ┆        ┆       ┆      ┆      ┆       │\n",
       "│     ┆     ┆ iel ┆     ┆     ┆     ┆     ┆        ┆        ┆        ┆       ┆      ┆      ┆       │\n",
       "│     ┆     ┆ s)  ┆     ┆     ┆     ┆     ┆        ┆        ┆        ┆       ┆      ┆      ┆       │\n",
       "└─────┴─────┴─────┴─────┴─────┴─────┴─────┴────────┴────────┴────────┴───────┴──────┴──────┴───────┘"
      ]
     },
     "execution_count": 7,
     "metadata": {},
     "output_type": "execute_result"
    }
   ],
   "source": [
    "titanic_data: pl.DataFrame = pl.read_csv(\"../data/flat_files/titanic-data.csv\")\n",
    "titanic_data.head()"
   ]
  },
  {
   "cell_type": "code",
   "execution_count": 12,
   "metadata": {},
   "outputs": [
    {
     "data": {
      "text/plain": [
       "843"
      ]
     },
     "execution_count": 12,
     "metadata": {},
     "output_type": "execute_result"
    }
   ],
   "source": [
    "query: str = \"How many men were in the Titanic?\"\n",
    "\n",
    "titanic_data.filter(pl.col(\"sex\").eq(\"male\")).select([\"name\"]).shape[0]"
   ]
  },
  {
   "cell_type": "code",
   "execution_count": 13,
   "metadata": {},
   "outputs": [
    {
     "data": {
      "text/plain": [
       "339"
      ]
     },
     "execution_count": 13,
     "metadata": {},
     "output_type": "execute_result"
    }
   ],
   "source": [
    "query: str = \"How many women survived the Titanic?\"\n",
    "\n",
    "titanic_data.filter(((pl.col(\"sex\").eq(\"female\")) & (pl.col(\"survived\").eq(1)))).select(\n",
    "    [\"name\"]\n",
    ").shape[0]"
   ]
  },
  {
   "cell_type": "markdown",
   "metadata": {},
   "source": [
    "### Diabetes Dataset"
   ]
  },
  {
   "cell_type": "code",
   "execution_count": 14,
   "metadata": {},
   "outputs": [
    {
     "data": {
      "text/html": [
       "<div><style>\n",
       ".dataframe > thead > tr,\n",
       ".dataframe > tbody > tr {\n",
       "  text-align: right;\n",
       "  white-space: pre-wrap;\n",
       "}\n",
       "</style>\n",
       "<small>shape: (5, 9)</small><table border=\"1\" class=\"dataframe\"><thead><tr><th>Pregnancies</th><th>Glucose</th><th>BloodPressure</th><th>SkinThickness</th><th>Insulin</th><th>BMI</th><th>DiabetesPedigreeFunction</th><th>Age</th><th>Outcome</th></tr><tr><td>i64</td><td>i64</td><td>i64</td><td>i64</td><td>i64</td><td>f64</td><td>f64</td><td>i64</td><td>i64</td></tr></thead><tbody><tr><td>6</td><td>148</td><td>72</td><td>35</td><td>0</td><td>33.6</td><td>0.627</td><td>50</td><td>1</td></tr><tr><td>1</td><td>85</td><td>66</td><td>29</td><td>0</td><td>26.6</td><td>0.351</td><td>31</td><td>0</td></tr><tr><td>8</td><td>183</td><td>64</td><td>0</td><td>0</td><td>23.3</td><td>0.672</td><td>32</td><td>1</td></tr><tr><td>1</td><td>89</td><td>66</td><td>23</td><td>94</td><td>28.1</td><td>0.167</td><td>21</td><td>0</td></tr><tr><td>0</td><td>137</td><td>40</td><td>35</td><td>168</td><td>43.1</td><td>2.288</td><td>33</td><td>1</td></tr></tbody></table></div>"
      ],
      "text/plain": [
       "shape: (5, 9)\n",
       "┌─────────────┬─────────┬─────────────┬─────────────┬─────────┬──────┬─────────────┬─────┬─────────┐\n",
       "│ Pregnancies ┆ Glucose ┆ BloodPressu ┆ SkinThickne ┆ Insulin ┆ BMI  ┆ DiabetesPed ┆ Age ┆ Outcome │\n",
       "│ ---         ┆ ---     ┆ re          ┆ ss          ┆ ---     ┆ ---  ┆ igreeFuncti ┆ --- ┆ ---     │\n",
       "│ i64         ┆ i64     ┆ ---         ┆ ---         ┆ i64     ┆ f64  ┆ on          ┆ i64 ┆ i64     │\n",
       "│             ┆         ┆ i64         ┆ i64         ┆         ┆      ┆ ---         ┆     ┆         │\n",
       "│             ┆         ┆             ┆             ┆         ┆      ┆ f64         ┆     ┆         │\n",
       "╞═════════════╪═════════╪═════════════╪═════════════╪═════════╪══════╪═════════════╪═════╪═════════╡\n",
       "│ 6           ┆ 148     ┆ 72          ┆ 35          ┆ 0       ┆ 33.6 ┆ 0.627       ┆ 50  ┆ 1       │\n",
       "│ 1           ┆ 85      ┆ 66          ┆ 29          ┆ 0       ┆ 26.6 ┆ 0.351       ┆ 31  ┆ 0       │\n",
       "│ 8           ┆ 183     ┆ 64          ┆ 0           ┆ 0       ┆ 23.3 ┆ 0.672       ┆ 32  ┆ 1       │\n",
       "│ 1           ┆ 89      ┆ 66          ┆ 23          ┆ 94      ┆ 28.1 ┆ 0.167       ┆ 21  ┆ 0       │\n",
       "│ 0           ┆ 137     ┆ 40          ┆ 35          ┆ 168     ┆ 43.1 ┆ 2.288       ┆ 33  ┆ 1       │\n",
       "└─────────────┴─────────┴─────────────┴─────────────┴─────────┴──────┴─────────────┴─────┴─────────┘"
      ]
     },
     "execution_count": 14,
     "metadata": {},
     "output_type": "execute_result"
    }
   ],
   "source": [
    "diabetes_data: pl.DataFrame = pl.read_csv(\"../data/flat_files/diabetes.csv\")\n",
    "diabetes_data.head()"
   ]
  },
  {
   "cell_type": "code",
   "execution_count": 17,
   "metadata": {},
   "outputs": [
    {
     "data": {
      "text/plain": [
       "37.06716417910448"
      ]
     },
     "execution_count": 17,
     "metadata": {},
     "output_type": "execute_result"
    }
   ],
   "source": [
    "query: str = \"What is the average age of people with diabetes?\"\n",
    "\n",
    "diabetes_data.filter(pl.col(\"Outcome\").eq(1)).select(\n",
    "    [\"Age\"]\n",
    ").mean().to_series().to_list()[0]"
   ]
  },
  {
   "cell_type": "code",
   "execution_count": null,
   "metadata": {},
   "outputs": [
    {
     "name": "stdout",
     "output_type": "stream",
     "text": [
      "[0, 1, 2, 3, 4, 5, 6, 7, 8, 9, 10, 11, 12, 13, 14, 15, 17]\n"
     ]
    },
    {
     "data": {
      "text/plain": [
       "69.43531202435312"
      ]
     },
     "execution_count": 21,
     "metadata": {},
     "output_type": "execute_result"
    }
   ],
   "source": [
    "print(diabetes_data[\"Pregnancies\"].unique().to_list())\n",
    "\n",
    "query: str = \"What is the average blood pressure of pregnant people?\"\n",
    "diabetes_data.filter(pl.col(\"Pregnancies\").ge(1)).select(\n",
    "    [\"BloodPressure\"]\n",
    ").mean().to_series().to_list()[0]"
   ]
  },
  {
   "cell_type": "code",
   "execution_count": null,
   "metadata": {},
   "outputs": [],
   "source": []
  },
  {
   "cell_type": "code",
   "execution_count": null,
   "metadata": {},
   "outputs": [],
   "source": []
  },
  {
   "cell_type": "code",
   "execution_count": null,
   "metadata": {},
   "outputs": [],
   "source": [
    "from sqlalchemy import create_engine\n",
    "\n",
    "\n",
    "db_path: str = \"../data/sql/chinook.db\"\n",
    "conn = create_engine(f\"sqlite:///{db_path}\")\n",
    "query: str = \"SELECT name FROM sqlite_master WHERE type='table';\"\n",
    "pl.read_database(query=query, connection=conn.connect()).to_series().to_list()"
   ]
  },
  {
   "cell_type": "code",
   "execution_count": null,
   "metadata": {},
   "outputs": [],
   "source": [
    "query = \"SELECT * FROM Track LIMIT 10\"\n",
    "\n",
    "pl.read_database(query=query, connection=conn.connect())"
   ]
  },
  {
   "cell_type": "code",
   "execution_count": null,
   "metadata": {},
   "outputs": [],
   "source": [
    "query = \"SELECT * FROM Artist LIMIT 10\"\n",
    "\n",
    "pl.read_database(query=query, connection=conn.connect())"
   ]
  },
  {
   "cell_type": "code",
   "execution_count": null,
   "metadata": {},
   "outputs": [],
   "source": []
  },
  {
   "cell_type": "code",
   "execution_count": null,
   "metadata": {},
   "outputs": [],
   "source": [
    "fp: str = \"../data/flat_files/breast-cancer.csv\"\n",
    "df: pl.DataFrame = pl.read_csv(fp)\n",
    "\n",
    "df.head()"
   ]
  },
  {
   "cell_type": "code",
   "execution_count": null,
   "metadata": {},
   "outputs": [],
   "source": []
  },
  {
   "cell_type": "code",
   "execution_count": null,
   "metadata": {},
   "outputs": [],
   "source": []
  },
  {
   "cell_type": "code",
   "execution_count": null,
   "metadata": {},
   "outputs": [],
   "source": []
  },
  {
   "cell_type": "code",
   "execution_count": null,
   "metadata": {},
   "outputs": [],
   "source": []
  }
 ],
 "metadata": {
  "kernelspec": {
   "display_name": ".venv",
   "language": "python",
   "name": "python3"
  },
  "language_info": {
   "codemirror_mode": {
    "name": "ipython",
    "version": 3
   },
   "file_extension": ".py",
   "mimetype": "text/x-python",
   "name": "python",
   "nbconvert_exporter": "python",
   "pygments_lexer": "ipython3",
   "version": "3.12.7"
  }
 },
 "nbformat": 4,
 "nbformat_minor": 2
}
