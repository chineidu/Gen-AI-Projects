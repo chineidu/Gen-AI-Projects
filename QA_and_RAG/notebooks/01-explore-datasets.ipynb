{
 "cells": [
  {
   "cell_type": "markdown",
   "metadata": {},
   "source": [
    "<!-- # Data Exploration -->\n"
   ]
  },
  {
   "cell_type": "code",
   "execution_count": 1,
   "metadata": {},
   "outputs": [],
   "source": [
    "# Built-in library\n",
    "from pathlib import Path\n",
    "import re\n",
    "import json\n",
    "from typing import Any, Literal, Optional, Union\n",
    "import logging\n",
    "import warnings\n",
    "\n",
    "# Standard imports\n",
    "import numpy as np\n",
    "import numpy.typing as npt\n",
    "from pprint import pprint\n",
    "import pandas as pd\n",
    "import polars as pl\n",
    "from rich.console import Console\n",
    "from rich.theme import Theme\n",
    "\n",
    "custom_theme = Theme(\n",
    "    {\n",
    "        \"white\": \"#FFFFFF\",  # Bright white\n",
    "        \"info\": \"#00FF00\",  # Bright green\n",
    "        \"warning\": \"#FFD700\",  # Bright gold\n",
    "        \"error\": \"#FF1493\",  # Deep pink\n",
    "        \"success\": \"#00FFFF\",  # Cyan\n",
    "        \"highlight\": \"#FF4500\",  # Orange-red\n",
    "    }\n",
    ")\n",
    "console = Console(theme=custom_theme)\n",
    "\n",
    "# Visualization\n",
    "# import matplotlib.pyplot as plt\n",
    "\n",
    "# NumPy settings\n",
    "np.set_printoptions(precision=4)\n",
    "\n",
    "# Pandas settings\n",
    "pd.options.display.max_rows = 1_000\n",
    "pd.options.display.max_columns = 1_000\n",
    "pd.options.display.max_colwidth = 600\n",
    "\n",
    "# Polars settings\n",
    "pl.Config.set_fmt_str_lengths(1_000)\n",
    "pl.Config.set_tbl_cols(n=1_000)\n",
    "\n",
    "warnings.filterwarnings(\"ignore\")\n",
    "\n",
    "# Black code formatter (Optional)\n",
    "%load_ext lab_black\n",
    "\n",
    "# auto reload imports\n",
    "%load_ext autoreload\n",
    "%autoreload 2"
   ]
  },
  {
   "cell_type": "code",
   "execution_count": 2,
   "metadata": {},
   "outputs": [],
   "source": [
    "def go_up_from_current_directory(*, go_up: int = 1) -> None:\n",
    "    \"\"\"This is used to up a number of directories.\n",
    "\n",
    "    Params:\n",
    "    -------\n",
    "    go_up: int, default=1\n",
    "        This indicates the number of times to go back up from the current directory.\n",
    "\n",
    "    Returns:\n",
    "    --------\n",
    "    None\n",
    "    \"\"\"\n",
    "    import os\n",
    "    import sys\n",
    "\n",
    "    CONST: str = \"../\"\n",
    "    NUM: str = CONST * go_up\n",
    "\n",
    "    # Goto the previous directory\n",
    "    prev_directory = os.path.join(os.path.dirname(__name__), NUM)\n",
    "    # Get the 'absolute path' of the previous directory\n",
    "    abs_path_prev_directory = os.path.abspath(prev_directory)\n",
    "\n",
    "    # Add the path to the System paths\n",
    "    sys.path.insert(0, abs_path_prev_directory)\n",
    "    print(abs_path_prev_directory)"
   ]
  },
  {
   "cell_type": "code",
   "execution_count": 3,
   "metadata": {},
   "outputs": [
    {
     "name": "stdout",
     "output_type": "stream",
     "text": [
      "/Users/neidu/Desktop/Projects/Personal/My_Projects/Gen-AI-Projects\n"
     ]
    }
   ],
   "source": [
    "go_up_from_current_directory(go_up=2)\n",
    "\n",
    "from QA_and_RAG import PACKAGE_ROOT_PATH\n",
    "from QA_and_RAG.src.utils.utilities import ProcessFiles\n",
    "from config import config, settings"
   ]
  },
  {
   "cell_type": "markdown",
   "metadata": {},
   "source": [
    "<!-- ### SQL Database(s) -->"
   ]
  },
  {
   "cell_type": "code",
   "execution_count": 4,
   "metadata": {},
   "outputs": [
    {
     "name": "stdout",
     "output_type": "stream",
     "text": [
      "/Users/neidu/Desktop/Projects/Personal/My_Projects/Gen-AI-Projects/QA_and_RAG\n"
     ]
    }
   ],
   "source": [
    "go_up_from_current_directory(go_up=1)\n",
    "\n",
    "\n",
    "from src.db_utils import SQLFromTabularData\n",
    "from src.chatbot import Chatbot"
   ]
  },
  {
   "cell_type": "code",
   "execution_count": 5,
   "metadata": {},
   "outputs": [
    {
     "name": "stdout",
     "output_type": "stream",
     "text": [
      "Error creating/updating the DB: Table 'titanic' already exists.\n",
      "DB Path: sqlite:///../data/flat_files/stored_data.db\n",
      "================================\n",
      "Available table Names: ['breast_cancer', 'diabetes', 'titanic']\n",
      "================================\n"
     ]
    }
   ],
   "source": [
    "create_db: SQLFromTabularData = SQLFromTabularData(\n",
    "    file_path=\"../data/flat_files/titanic-data.csv\",\n",
    "    db_path=\"../data/flat_files/stored_data.db\",\n",
    "    table_name=\"titanic\",\n",
    ")\n",
    "\n",
    "\n",
    "# create_db: SQLFromTabularData = SQLFromTabularData(\n",
    "#     file_path=\"../data/flat_files/titanic-data.csv\",\n",
    "#     db_path=\"../data/flat_files/stored_data.db\",\n",
    "#     table_name=\"titanic\",\n",
    "# )\n",
    "\n",
    "\n",
    "create_db.run()"
   ]
  },
  {
   "cell_type": "code",
   "execution_count": null,
   "metadata": {},
   "outputs": [],
   "source": []
  },
  {
   "cell_type": "code",
   "execution_count": 6,
   "metadata": {},
   "outputs": [
    {
     "data": {
      "text/html": [
       "<div><style>\n",
       ".dataframe > thead > tr,\n",
       ".dataframe > tbody > tr {\n",
       "  text-align: right;\n",
       "  white-space: pre-wrap;\n",
       "}\n",
       "</style>\n",
       "<small>shape: (5, 14)</small><table border=\"1\" class=\"dataframe\"><thead><tr><th>pclass</th><th>survived</th><th>name</th><th>sex</th><th>age</th><th>sibsp</th><th>parch</th><th>ticket</th><th>fare</th><th>cabin</th><th>embarked</th><th>boat</th><th>body</th><th>home.dest</th></tr><tr><td>i64</td><td>i64</td><td>str</td><td>str</td><td>f64</td><td>i64</td><td>i64</td><td>str</td><td>f64</td><td>str</td><td>str</td><td>str</td><td>i64</td><td>str</td></tr></thead><tbody><tr><td>1</td><td>1</td><td>&quot;Allen, Miss. Elisabeth Walton&quot;</td><td>&quot;female&quot;</td><td>29.0</td><td>0</td><td>0</td><td>&quot;24160&quot;</td><td>211.3375</td><td>&quot;B5&quot;</td><td>&quot;S&quot;</td><td>&quot;2&quot;</td><td>null</td><td>&quot;St Louis, MO&quot;</td></tr><tr><td>1</td><td>1</td><td>&quot;Allison, Master. Hudson Trevor&quot;</td><td>&quot;male&quot;</td><td>0.9167</td><td>1</td><td>2</td><td>&quot;113781&quot;</td><td>151.55</td><td>&quot;C22 C26&quot;</td><td>&quot;S&quot;</td><td>&quot;11&quot;</td><td>null</td><td>&quot;Montreal, PQ / Chesterville, ON&quot;</td></tr><tr><td>1</td><td>0</td><td>&quot;Allison, Miss. Helen Loraine&quot;</td><td>&quot;female&quot;</td><td>2.0</td><td>1</td><td>2</td><td>&quot;113781&quot;</td><td>151.55</td><td>&quot;C22 C26&quot;</td><td>&quot;S&quot;</td><td>null</td><td>null</td><td>&quot;Montreal, PQ / Chesterville, ON&quot;</td></tr><tr><td>1</td><td>0</td><td>&quot;Allison, Mr. Hudson Joshua Creighton&quot;</td><td>&quot;male&quot;</td><td>30.0</td><td>1</td><td>2</td><td>&quot;113781&quot;</td><td>151.55</td><td>&quot;C22 C26&quot;</td><td>&quot;S&quot;</td><td>null</td><td>135</td><td>&quot;Montreal, PQ / Chesterville, ON&quot;</td></tr><tr><td>1</td><td>0</td><td>&quot;Allison, Mrs. Hudson J C (Bessie Waldo Daniels)&quot;</td><td>&quot;female&quot;</td><td>25.0</td><td>1</td><td>2</td><td>&quot;113781&quot;</td><td>151.55</td><td>&quot;C22 C26&quot;</td><td>&quot;S&quot;</td><td>null</td><td>null</td><td>&quot;Montreal, PQ / Chesterville, ON&quot;</td></tr></tbody></table></div>"
      ],
      "text/plain": [
       "shape: (5, 14)\n",
       "┌─────┬─────┬─────┬─────┬─────┬─────┬─────┬────────┬────────┬────────┬───────┬──────┬──────┬───────┐\n",
       "│ pcl ┆ sur ┆ nam ┆ sex ┆ age ┆ sib ┆ par ┆ ticket ┆ fare   ┆ cabin  ┆ embar ┆ boat ┆ body ┆ home. │\n",
       "│ ass ┆ viv ┆ e   ┆ --- ┆ --- ┆ sp  ┆ ch  ┆ ---    ┆ ---    ┆ ---    ┆ ked   ┆ ---  ┆ ---  ┆ dest  │\n",
       "│ --- ┆ ed  ┆ --- ┆ str ┆ f64 ┆ --- ┆ --- ┆ str    ┆ f64    ┆ str    ┆ ---   ┆ str  ┆ i64  ┆ ---   │\n",
       "│ i64 ┆ --- ┆ str ┆     ┆     ┆ i64 ┆ i64 ┆        ┆        ┆        ┆ str   ┆      ┆      ┆ str   │\n",
       "│     ┆ i64 ┆     ┆     ┆     ┆     ┆     ┆        ┆        ┆        ┆       ┆      ┆      ┆       │\n",
       "╞═════╪═════╪═════╪═════╪═════╪═════╪═════╪════════╪════════╪════════╪═══════╪══════╪══════╪═══════╡\n",
       "│ 1   ┆ 1   ┆ All ┆ fem ┆ 29. ┆ 0   ┆ 0   ┆ 24160  ┆ 211.33 ┆ B5     ┆ S     ┆ 2    ┆ null ┆ St    │\n",
       "│     ┆     ┆ en, ┆ ale ┆ 0   ┆     ┆     ┆        ┆ 75     ┆        ┆       ┆      ┆      ┆ Louis │\n",
       "│     ┆     ┆ Mis ┆     ┆     ┆     ┆     ┆        ┆        ┆        ┆       ┆      ┆      ┆ , MO  │\n",
       "│     ┆     ┆ s.  ┆     ┆     ┆     ┆     ┆        ┆        ┆        ┆       ┆      ┆      ┆       │\n",
       "│     ┆     ┆ Eli ┆     ┆     ┆     ┆     ┆        ┆        ┆        ┆       ┆      ┆      ┆       │\n",
       "│     ┆     ┆ sab ┆     ┆     ┆     ┆     ┆        ┆        ┆        ┆       ┆      ┆      ┆       │\n",
       "│     ┆     ┆ eth ┆     ┆     ┆     ┆     ┆        ┆        ┆        ┆       ┆      ┆      ┆       │\n",
       "│     ┆     ┆ Wal ┆     ┆     ┆     ┆     ┆        ┆        ┆        ┆       ┆      ┆      ┆       │\n",
       "│     ┆     ┆ ton ┆     ┆     ┆     ┆     ┆        ┆        ┆        ┆       ┆      ┆      ┆       │\n",
       "│ 1   ┆ 1   ┆ All ┆ mal ┆ 0.9 ┆ 1   ┆ 2   ┆ 113781 ┆ 151.55 ┆ C22    ┆ S     ┆ 11   ┆ null ┆ Montr │\n",
       "│     ┆     ┆ iso ┆ e   ┆ 167 ┆     ┆     ┆        ┆        ┆ C26    ┆       ┆      ┆      ┆ eal,  │\n",
       "│     ┆     ┆ n,  ┆     ┆     ┆     ┆     ┆        ┆        ┆        ┆       ┆      ┆      ┆ PQ /  │\n",
       "│     ┆     ┆ Mas ┆     ┆     ┆     ┆     ┆        ┆        ┆        ┆       ┆      ┆      ┆ Chest │\n",
       "│     ┆     ┆ ter ┆     ┆     ┆     ┆     ┆        ┆        ┆        ┆       ┆      ┆      ┆ ervil │\n",
       "│     ┆     ┆ .   ┆     ┆     ┆     ┆     ┆        ┆        ┆        ┆       ┆      ┆      ┆ le,   │\n",
       "│     ┆     ┆ Hud ┆     ┆     ┆     ┆     ┆        ┆        ┆        ┆       ┆      ┆      ┆ ON    │\n",
       "│     ┆     ┆ son ┆     ┆     ┆     ┆     ┆        ┆        ┆        ┆       ┆      ┆      ┆       │\n",
       "│     ┆     ┆ Tre ┆     ┆     ┆     ┆     ┆        ┆        ┆        ┆       ┆      ┆      ┆       │\n",
       "│     ┆     ┆ vor ┆     ┆     ┆     ┆     ┆        ┆        ┆        ┆       ┆      ┆      ┆       │\n",
       "│ 1   ┆ 0   ┆ All ┆ fem ┆ 2.0 ┆ 1   ┆ 2   ┆ 113781 ┆ 151.55 ┆ C22    ┆ S     ┆ null ┆ null ┆ Montr │\n",
       "│     ┆     ┆ iso ┆ ale ┆     ┆     ┆     ┆        ┆        ┆ C26    ┆       ┆      ┆      ┆ eal,  │\n",
       "│     ┆     ┆ n,  ┆     ┆     ┆     ┆     ┆        ┆        ┆        ┆       ┆      ┆      ┆ PQ /  │\n",
       "│     ┆     ┆ Mis ┆     ┆     ┆     ┆     ┆        ┆        ┆        ┆       ┆      ┆      ┆ Chest │\n",
       "│     ┆     ┆ s.  ┆     ┆     ┆     ┆     ┆        ┆        ┆        ┆       ┆      ┆      ┆ ervil │\n",
       "│     ┆     ┆ Hel ┆     ┆     ┆     ┆     ┆        ┆        ┆        ┆       ┆      ┆      ┆ le,   │\n",
       "│     ┆     ┆ en  ┆     ┆     ┆     ┆     ┆        ┆        ┆        ┆       ┆      ┆      ┆ ON    │\n",
       "│     ┆     ┆ Lor ┆     ┆     ┆     ┆     ┆        ┆        ┆        ┆       ┆      ┆      ┆       │\n",
       "│     ┆     ┆ ain ┆     ┆     ┆     ┆     ┆        ┆        ┆        ┆       ┆      ┆      ┆       │\n",
       "│     ┆     ┆ e   ┆     ┆     ┆     ┆     ┆        ┆        ┆        ┆       ┆      ┆      ┆       │\n",
       "│ 1   ┆ 0   ┆ All ┆ mal ┆ 30. ┆ 1   ┆ 2   ┆ 113781 ┆ 151.55 ┆ C22    ┆ S     ┆ null ┆ 135  ┆ Montr │\n",
       "│     ┆     ┆ iso ┆ e   ┆ 0   ┆     ┆     ┆        ┆        ┆ C26    ┆       ┆      ┆      ┆ eal,  │\n",
       "│     ┆     ┆ n,  ┆     ┆     ┆     ┆     ┆        ┆        ┆        ┆       ┆      ┆      ┆ PQ /  │\n",
       "│     ┆     ┆ Mr. ┆     ┆     ┆     ┆     ┆        ┆        ┆        ┆       ┆      ┆      ┆ Chest │\n",
       "│     ┆     ┆ Hud ┆     ┆     ┆     ┆     ┆        ┆        ┆        ┆       ┆      ┆      ┆ ervil │\n",
       "│     ┆     ┆ son ┆     ┆     ┆     ┆     ┆        ┆        ┆        ┆       ┆      ┆      ┆ le,   │\n",
       "│     ┆     ┆ Jos ┆     ┆     ┆     ┆     ┆        ┆        ┆        ┆       ┆      ┆      ┆ ON    │\n",
       "│     ┆     ┆ hua ┆     ┆     ┆     ┆     ┆        ┆        ┆        ┆       ┆      ┆      ┆       │\n",
       "│     ┆     ┆ Cre ┆     ┆     ┆     ┆     ┆        ┆        ┆        ┆       ┆      ┆      ┆       │\n",
       "│     ┆     ┆ igh ┆     ┆     ┆     ┆     ┆        ┆        ┆        ┆       ┆      ┆      ┆       │\n",
       "│     ┆     ┆ ton ┆     ┆     ┆     ┆     ┆        ┆        ┆        ┆       ┆      ┆      ┆       │\n",
       "│ 1   ┆ 0   ┆ All ┆ fem ┆ 25. ┆ 1   ┆ 2   ┆ 113781 ┆ 151.55 ┆ C22    ┆ S     ┆ null ┆ null ┆ Montr │\n",
       "│     ┆     ┆ iso ┆ ale ┆ 0   ┆     ┆     ┆        ┆        ┆ C26    ┆       ┆      ┆      ┆ eal,  │\n",
       "│     ┆     ┆ n,  ┆     ┆     ┆     ┆     ┆        ┆        ┆        ┆       ┆      ┆      ┆ PQ /  │\n",
       "│     ┆     ┆ Mrs ┆     ┆     ┆     ┆     ┆        ┆        ┆        ┆       ┆      ┆      ┆ Chest │\n",
       "│     ┆     ┆ .   ┆     ┆     ┆     ┆     ┆        ┆        ┆        ┆       ┆      ┆      ┆ ervil │\n",
       "│     ┆     ┆ Hud ┆     ┆     ┆     ┆     ┆        ┆        ┆        ┆       ┆      ┆      ┆ le,   │\n",
       "│     ┆     ┆ son ┆     ┆     ┆     ┆     ┆        ┆        ┆        ┆       ┆      ┆      ┆ ON    │\n",
       "│     ┆     ┆ J C ┆     ┆     ┆     ┆     ┆        ┆        ┆        ┆       ┆      ┆      ┆       │\n",
       "│     ┆     ┆ (Be ┆     ┆     ┆     ┆     ┆        ┆        ┆        ┆       ┆      ┆      ┆       │\n",
       "│     ┆     ┆ ssi ┆     ┆     ┆     ┆     ┆        ┆        ┆        ┆       ┆      ┆      ┆       │\n",
       "│     ┆     ┆ e   ┆     ┆     ┆     ┆     ┆        ┆        ┆        ┆       ┆      ┆      ┆       │\n",
       "│     ┆     ┆ Wal ┆     ┆     ┆     ┆     ┆        ┆        ┆        ┆       ┆      ┆      ┆       │\n",
       "│     ┆     ┆ do  ┆     ┆     ┆     ┆     ┆        ┆        ┆        ┆       ┆      ┆      ┆       │\n",
       "│     ┆     ┆ Dan ┆     ┆     ┆     ┆     ┆        ┆        ┆        ┆       ┆      ┆      ┆       │\n",
       "│     ┆     ┆ iel ┆     ┆     ┆     ┆     ┆        ┆        ┆        ┆       ┆      ┆      ┆       │\n",
       "│     ┆     ┆ s)  ┆     ┆     ┆     ┆     ┆        ┆        ┆        ┆       ┆      ┆      ┆       │\n",
       "└─────┴─────┴─────┴─────┴─────┴─────┴─────┴────────┴────────┴────────┴───────┴──────┴──────┴───────┘"
      ]
     },
     "execution_count": 6,
     "metadata": {},
     "output_type": "execute_result"
    }
   ],
   "source": [
    "titanic_data: pl.DataFrame = pl.read_csv(\"../data/flat_files/titanic-data.csv\")\n",
    "titanic_data.head()"
   ]
  },
  {
   "cell_type": "code",
   "execution_count": 7,
   "metadata": {},
   "outputs": [
    {
     "data": {
      "text/plain": [
       "843"
      ]
     },
     "execution_count": 7,
     "metadata": {},
     "output_type": "execute_result"
    }
   ],
   "source": [
    "query: str = \"How many men were in the Titanic?\"\n",
    "\n",
    "titanic_data.filter(pl.col(\"sex\").eq(\"male\")).select([\"name\"]).shape[0]"
   ]
  },
  {
   "cell_type": "code",
   "execution_count": 8,
   "metadata": {},
   "outputs": [
    {
     "data": {
      "text/plain": [
       "339"
      ]
     },
     "execution_count": 8,
     "metadata": {},
     "output_type": "execute_result"
    }
   ],
   "source": [
    "query: str = \"How many women survived the Titanic?\"\n",
    "\n",
    "titanic_data.filter(((pl.col(\"sex\").eq(\"female\")) & (pl.col(\"survived\").eq(1)))).select(\n",
    "    [\"name\"]\n",
    ").shape[0]"
   ]
  },
  {
   "cell_type": "markdown",
   "metadata": {},
   "source": [
    "### Diabetes Dataset"
   ]
  },
  {
   "cell_type": "code",
   "execution_count": 9,
   "metadata": {},
   "outputs": [
    {
     "data": {
      "text/html": [
       "<div><style>\n",
       ".dataframe > thead > tr,\n",
       ".dataframe > tbody > tr {\n",
       "  text-align: right;\n",
       "  white-space: pre-wrap;\n",
       "}\n",
       "</style>\n",
       "<small>shape: (5, 9)</small><table border=\"1\" class=\"dataframe\"><thead><tr><th>Pregnancies</th><th>Glucose</th><th>BloodPressure</th><th>SkinThickness</th><th>Insulin</th><th>BMI</th><th>DiabetesPedigreeFunction</th><th>Age</th><th>Outcome</th></tr><tr><td>i64</td><td>i64</td><td>i64</td><td>i64</td><td>i64</td><td>f64</td><td>f64</td><td>i64</td><td>i64</td></tr></thead><tbody><tr><td>6</td><td>148</td><td>72</td><td>35</td><td>0</td><td>33.6</td><td>0.627</td><td>50</td><td>1</td></tr><tr><td>1</td><td>85</td><td>66</td><td>29</td><td>0</td><td>26.6</td><td>0.351</td><td>31</td><td>0</td></tr><tr><td>8</td><td>183</td><td>64</td><td>0</td><td>0</td><td>23.3</td><td>0.672</td><td>32</td><td>1</td></tr><tr><td>1</td><td>89</td><td>66</td><td>23</td><td>94</td><td>28.1</td><td>0.167</td><td>21</td><td>0</td></tr><tr><td>0</td><td>137</td><td>40</td><td>35</td><td>168</td><td>43.1</td><td>2.288</td><td>33</td><td>1</td></tr></tbody></table></div>"
      ],
      "text/plain": [
       "shape: (5, 9)\n",
       "┌─────────────┬─────────┬─────────────┬─────────────┬─────────┬──────┬─────────────┬─────┬─────────┐\n",
       "│ Pregnancies ┆ Glucose ┆ BloodPressu ┆ SkinThickne ┆ Insulin ┆ BMI  ┆ DiabetesPed ┆ Age ┆ Outcome │\n",
       "│ ---         ┆ ---     ┆ re          ┆ ss          ┆ ---     ┆ ---  ┆ igreeFuncti ┆ --- ┆ ---     │\n",
       "│ i64         ┆ i64     ┆ ---         ┆ ---         ┆ i64     ┆ f64  ┆ on          ┆ i64 ┆ i64     │\n",
       "│             ┆         ┆ i64         ┆ i64         ┆         ┆      ┆ ---         ┆     ┆         │\n",
       "│             ┆         ┆             ┆             ┆         ┆      ┆ f64         ┆     ┆         │\n",
       "╞═════════════╪═════════╪═════════════╪═════════════╪═════════╪══════╪═════════════╪═════╪═════════╡\n",
       "│ 6           ┆ 148     ┆ 72          ┆ 35          ┆ 0       ┆ 33.6 ┆ 0.627       ┆ 50  ┆ 1       │\n",
       "│ 1           ┆ 85      ┆ 66          ┆ 29          ┆ 0       ┆ 26.6 ┆ 0.351       ┆ 31  ┆ 0       │\n",
       "│ 8           ┆ 183     ┆ 64          ┆ 0           ┆ 0       ┆ 23.3 ┆ 0.672       ┆ 32  ┆ 1       │\n",
       "│ 1           ┆ 89      ┆ 66          ┆ 23          ┆ 94      ┆ 28.1 ┆ 0.167       ┆ 21  ┆ 0       │\n",
       "│ 0           ┆ 137     ┆ 40          ┆ 35          ┆ 168     ┆ 43.1 ┆ 2.288       ┆ 33  ┆ 1       │\n",
       "└─────────────┴─────────┴─────────────┴─────────────┴─────────┴──────┴─────────────┴─────┴─────────┘"
      ]
     },
     "execution_count": 9,
     "metadata": {},
     "output_type": "execute_result"
    }
   ],
   "source": [
    "diabetes_data: pl.DataFrame = pl.read_csv(\"../data/flat_files/diabetes.csv\")\n",
    "diabetes_data.head()"
   ]
  },
  {
   "cell_type": "code",
   "execution_count": 10,
   "metadata": {},
   "outputs": [
    {
     "data": {
      "text/plain": [
       "37.06716417910448"
      ]
     },
     "execution_count": 10,
     "metadata": {},
     "output_type": "execute_result"
    }
   ],
   "source": [
    "query: str = \"What is the average age of people with diabetes?\"\n",
    "\n",
    "diabetes_data.filter(pl.col(\"Outcome\").eq(1)).select(\n",
    "    [\"Age\"]\n",
    ").mean().to_series().to_list()[0]"
   ]
  },
  {
   "cell_type": "code",
   "execution_count": 11,
   "metadata": {},
   "outputs": [
    {
     "name": "stdout",
     "output_type": "stream",
     "text": [
      "[0, 1, 2, 3, 4, 5, 6, 7, 8, 9, 10, 11, 12, 13, 14, 15, 17]\n"
     ]
    },
    {
     "data": {
      "text/plain": [
       "69.43531202435312"
      ]
     },
     "execution_count": 11,
     "metadata": {},
     "output_type": "execute_result"
    }
   ],
   "source": [
    "print(diabetes_data[\"Pregnancies\"].unique().to_list())\n",
    "\n",
    "query: str = \"What is the average blood pressure of pregnant people?\"\n",
    "diabetes_data.filter(pl.col(\"Pregnancies\").ge(1)).select(\n",
    "    [\"BloodPressure\"]\n",
    ").mean().to_series().to_list()[0]"
   ]
  },
  {
   "cell_type": "code",
   "execution_count": null,
   "metadata": {},
   "outputs": [],
   "source": []
  },
  {
   "cell_type": "code",
   "execution_count": null,
   "metadata": {},
   "outputs": [],
   "source": []
  },
  {
   "cell_type": "code",
   "execution_count": 12,
   "metadata": {},
   "outputs": [
    {
     "data": {
      "text/plain": [
       "['Album',\n",
       " 'Artist',\n",
       " 'Customer',\n",
       " 'Employee',\n",
       " 'Genre',\n",
       " 'Invoice',\n",
       " 'InvoiceLine',\n",
       " 'MediaType',\n",
       " 'Playlist',\n",
       " 'PlaylistTrack',\n",
       " 'Track']"
      ]
     },
     "execution_count": 12,
     "metadata": {},
     "output_type": "execute_result"
    }
   ],
   "source": [
    "from sqlalchemy import create_engine\n",
    "\n",
    "\n",
    "db_path: str = \"../data/sql/chinook.db\"\n",
    "conn = create_engine(f\"sqlite:///{db_path}\")\n",
    "query: str = \"SELECT name FROM sqlite_master WHERE type='table';\"\n",
    "pl.read_database(query=query, connection=conn.connect()).to_series().to_list()"
   ]
  },
  {
   "cell_type": "code",
   "execution_count": 13,
   "metadata": {},
   "outputs": [
    {
     "data": {
      "text/html": [
       "<div><style>\n",
       ".dataframe > thead > tr,\n",
       ".dataframe > tbody > tr {\n",
       "  text-align: right;\n",
       "  white-space: pre-wrap;\n",
       "}\n",
       "</style>\n",
       "<small>shape: (10, 9)</small><table border=\"1\" class=\"dataframe\"><thead><tr><th>TrackId</th><th>Name</th><th>AlbumId</th><th>MediaTypeId</th><th>GenreId</th><th>Composer</th><th>Milliseconds</th><th>Bytes</th><th>UnitPrice</th></tr><tr><td>i64</td><td>str</td><td>i64</td><td>i64</td><td>i64</td><td>str</td><td>i64</td><td>i64</td><td>f64</td></tr></thead><tbody><tr><td>1</td><td>&quot;For Those About To Rock (We Salute You)&quot;</td><td>1</td><td>1</td><td>1</td><td>&quot;Angus Young, Malcolm Young, Brian Johnson&quot;</td><td>343719</td><td>11170334</td><td>0.99</td></tr><tr><td>2</td><td>&quot;Balls to the Wall&quot;</td><td>2</td><td>2</td><td>1</td><td>&quot;U. Dirkschneider, W. Hoffmann, H. Frank, P. Baltes, S. Kaufmann, G. Hoffmann&quot;</td><td>342562</td><td>5510424</td><td>0.99</td></tr><tr><td>3</td><td>&quot;Fast As a Shark&quot;</td><td>3</td><td>2</td><td>1</td><td>&quot;F. Baltes, S. Kaufman, U. Dirkscneider &amp; W. Hoffman&quot;</td><td>230619</td><td>3990994</td><td>0.99</td></tr><tr><td>4</td><td>&quot;Restless and Wild&quot;</td><td>3</td><td>2</td><td>1</td><td>&quot;F. Baltes, R.A. Smith-Diesel, S. Kaufman, U. Dirkscneider &amp; W. Hoffman&quot;</td><td>252051</td><td>4331779</td><td>0.99</td></tr><tr><td>5</td><td>&quot;Princess of the Dawn&quot;</td><td>3</td><td>2</td><td>1</td><td>&quot;Deaffy &amp; R.A. Smith-Diesel&quot;</td><td>375418</td><td>6290521</td><td>0.99</td></tr><tr><td>6</td><td>&quot;Put The Finger On You&quot;</td><td>1</td><td>1</td><td>1</td><td>&quot;Angus Young, Malcolm Young, Brian Johnson&quot;</td><td>205662</td><td>6713451</td><td>0.99</td></tr><tr><td>7</td><td>&quot;Let&#x27;s Get It Up&quot;</td><td>1</td><td>1</td><td>1</td><td>&quot;Angus Young, Malcolm Young, Brian Johnson&quot;</td><td>233926</td><td>7636561</td><td>0.99</td></tr><tr><td>8</td><td>&quot;Inject The Venom&quot;</td><td>1</td><td>1</td><td>1</td><td>&quot;Angus Young, Malcolm Young, Brian Johnson&quot;</td><td>210834</td><td>6852860</td><td>0.99</td></tr><tr><td>9</td><td>&quot;Snowballed&quot;</td><td>1</td><td>1</td><td>1</td><td>&quot;Angus Young, Malcolm Young, Brian Johnson&quot;</td><td>203102</td><td>6599424</td><td>0.99</td></tr><tr><td>10</td><td>&quot;Evil Walks&quot;</td><td>1</td><td>1</td><td>1</td><td>&quot;Angus Young, Malcolm Young, Brian Johnson&quot;</td><td>263497</td><td>8611245</td><td>0.99</td></tr></tbody></table></div>"
      ],
      "text/plain": [
       "shape: (10, 9)\n",
       "┌─────────┬───────────┬─────────┬───────────┬─────────┬───────────┬──────────┬──────────┬──────────┐\n",
       "│ TrackId ┆ Name      ┆ AlbumId ┆ MediaType ┆ GenreId ┆ Composer  ┆ Millisec ┆ Bytes    ┆ UnitPric │\n",
       "│ ---     ┆ ---       ┆ ---     ┆ Id        ┆ ---     ┆ ---       ┆ onds     ┆ ---      ┆ e        │\n",
       "│ i64     ┆ str       ┆ i64     ┆ ---       ┆ i64     ┆ str       ┆ ---      ┆ i64      ┆ ---      │\n",
       "│         ┆           ┆         ┆ i64       ┆         ┆           ┆ i64      ┆          ┆ f64      │\n",
       "╞═════════╪═══════════╪═════════╪═══════════╪═════════╪═══════════╪══════════╪══════════╪══════════╡\n",
       "│ 1       ┆ For Those ┆ 1       ┆ 1         ┆ 1       ┆ Angus     ┆ 343719   ┆ 11170334 ┆ 0.99     │\n",
       "│         ┆ About To  ┆         ┆           ┆         ┆ Young,    ┆          ┆          ┆          │\n",
       "│         ┆ Rock (We  ┆         ┆           ┆         ┆ Malcolm   ┆          ┆          ┆          │\n",
       "│         ┆ Salute    ┆         ┆           ┆         ┆ Young,    ┆          ┆          ┆          │\n",
       "│         ┆ You)      ┆         ┆           ┆         ┆ Brian     ┆          ┆          ┆          │\n",
       "│         ┆           ┆         ┆           ┆         ┆ Johnson   ┆          ┆          ┆          │\n",
       "│ 2       ┆ Balls to  ┆ 2       ┆ 2         ┆ 1       ┆ U. Dirksc ┆ 342562   ┆ 5510424  ┆ 0.99     │\n",
       "│         ┆ the Wall  ┆         ┆           ┆         ┆ hneider,  ┆          ┆          ┆          │\n",
       "│         ┆           ┆         ┆           ┆         ┆ W.        ┆          ┆          ┆          │\n",
       "│         ┆           ┆         ┆           ┆         ┆ Hoffmann, ┆          ┆          ┆          │\n",
       "│         ┆           ┆         ┆           ┆         ┆ H. Frank, ┆          ┆          ┆          │\n",
       "│         ┆           ┆         ┆           ┆         ┆ P.        ┆          ┆          ┆          │\n",
       "│         ┆           ┆         ┆           ┆         ┆ Baltes,   ┆          ┆          ┆          │\n",
       "│         ┆           ┆         ┆           ┆         ┆ S.        ┆          ┆          ┆          │\n",
       "│         ┆           ┆         ┆           ┆         ┆ Kaufmann, ┆          ┆          ┆          │\n",
       "│         ┆           ┆         ┆           ┆         ┆ G.        ┆          ┆          ┆          │\n",
       "│         ┆           ┆         ┆           ┆         ┆ Hoffmann  ┆          ┆          ┆          │\n",
       "│ 3       ┆ Fast As a ┆ 3       ┆ 2         ┆ 1       ┆ F.        ┆ 230619   ┆ 3990994  ┆ 0.99     │\n",
       "│         ┆ Shark     ┆         ┆           ┆         ┆ Baltes,   ┆          ┆          ┆          │\n",
       "│         ┆           ┆         ┆           ┆         ┆ S.        ┆          ┆          ┆          │\n",
       "│         ┆           ┆         ┆           ┆         ┆ Kaufman,  ┆          ┆          ┆          │\n",
       "│         ┆           ┆         ┆           ┆         ┆ U. Dirksc ┆          ┆          ┆          │\n",
       "│         ┆           ┆         ┆           ┆         ┆ neider &  ┆          ┆          ┆          │\n",
       "│         ┆           ┆         ┆           ┆         ┆ W.        ┆          ┆          ┆          │\n",
       "│         ┆           ┆         ┆           ┆         ┆ Hoffman   ┆          ┆          ┆          │\n",
       "│ 4       ┆ Restless  ┆ 3       ┆ 2         ┆ 1       ┆ F.        ┆ 252051   ┆ 4331779  ┆ 0.99     │\n",
       "│         ┆ and Wild  ┆         ┆           ┆         ┆ Baltes,   ┆          ┆          ┆          │\n",
       "│         ┆           ┆         ┆           ┆         ┆ R.A. Smit ┆          ┆          ┆          │\n",
       "│         ┆           ┆         ┆           ┆         ┆ h-Diesel, ┆          ┆          ┆          │\n",
       "│         ┆           ┆         ┆           ┆         ┆ S.        ┆          ┆          ┆          │\n",
       "│         ┆           ┆         ┆           ┆         ┆ Kaufman,  ┆          ┆          ┆          │\n",
       "│         ┆           ┆         ┆           ┆         ┆ U. Dirksc ┆          ┆          ┆          │\n",
       "│         ┆           ┆         ┆           ┆         ┆ neider &  ┆          ┆          ┆          │\n",
       "│         ┆           ┆         ┆           ┆         ┆ W.        ┆          ┆          ┆          │\n",
       "│         ┆           ┆         ┆           ┆         ┆ Hoffman   ┆          ┆          ┆          │\n",
       "│ 5       ┆ Princess  ┆ 3       ┆ 2         ┆ 1       ┆ Deaffy &  ┆ 375418   ┆ 6290521  ┆ 0.99     │\n",
       "│         ┆ of the    ┆         ┆           ┆         ┆ R.A. Smit ┆          ┆          ┆          │\n",
       "│         ┆ Dawn      ┆         ┆           ┆         ┆ h-Diesel  ┆          ┆          ┆          │\n",
       "│ 6       ┆ Put The   ┆ 1       ┆ 1         ┆ 1       ┆ Angus     ┆ 205662   ┆ 6713451  ┆ 0.99     │\n",
       "│         ┆ Finger On ┆         ┆           ┆         ┆ Young,    ┆          ┆          ┆          │\n",
       "│         ┆ You       ┆         ┆           ┆         ┆ Malcolm   ┆          ┆          ┆          │\n",
       "│         ┆           ┆         ┆           ┆         ┆ Young,    ┆          ┆          ┆          │\n",
       "│         ┆           ┆         ┆           ┆         ┆ Brian     ┆          ┆          ┆          │\n",
       "│         ┆           ┆         ┆           ┆         ┆ Johnson   ┆          ┆          ┆          │\n",
       "│ 7       ┆ Let's Get ┆ 1       ┆ 1         ┆ 1       ┆ Angus     ┆ 233926   ┆ 7636561  ┆ 0.99     │\n",
       "│         ┆ It Up     ┆         ┆           ┆         ┆ Young,    ┆          ┆          ┆          │\n",
       "│         ┆           ┆         ┆           ┆         ┆ Malcolm   ┆          ┆          ┆          │\n",
       "│         ┆           ┆         ┆           ┆         ┆ Young,    ┆          ┆          ┆          │\n",
       "│         ┆           ┆         ┆           ┆         ┆ Brian     ┆          ┆          ┆          │\n",
       "│         ┆           ┆         ┆           ┆         ┆ Johnson   ┆          ┆          ┆          │\n",
       "│ 8       ┆ Inject    ┆ 1       ┆ 1         ┆ 1       ┆ Angus     ┆ 210834   ┆ 6852860  ┆ 0.99     │\n",
       "│         ┆ The Venom ┆         ┆           ┆         ┆ Young,    ┆          ┆          ┆          │\n",
       "│         ┆           ┆         ┆           ┆         ┆ Malcolm   ┆          ┆          ┆          │\n",
       "│         ┆           ┆         ┆           ┆         ┆ Young,    ┆          ┆          ┆          │\n",
       "│         ┆           ┆         ┆           ┆         ┆ Brian     ┆          ┆          ┆          │\n",
       "│         ┆           ┆         ┆           ┆         ┆ Johnson   ┆          ┆          ┆          │\n",
       "│ 9       ┆ Snowballe ┆ 1       ┆ 1         ┆ 1       ┆ Angus     ┆ 203102   ┆ 6599424  ┆ 0.99     │\n",
       "│         ┆ d         ┆         ┆           ┆         ┆ Young,    ┆          ┆          ┆          │\n",
       "│         ┆           ┆         ┆           ┆         ┆ Malcolm   ┆          ┆          ┆          │\n",
       "│         ┆           ┆         ┆           ┆         ┆ Young,    ┆          ┆          ┆          │\n",
       "│         ┆           ┆         ┆           ┆         ┆ Brian     ┆          ┆          ┆          │\n",
       "│         ┆           ┆         ┆           ┆         ┆ Johnson   ┆          ┆          ┆          │\n",
       "│ 10      ┆ Evil      ┆ 1       ┆ 1         ┆ 1       ┆ Angus     ┆ 263497   ┆ 8611245  ┆ 0.99     │\n",
       "│         ┆ Walks     ┆         ┆           ┆         ┆ Young,    ┆          ┆          ┆          │\n",
       "│         ┆           ┆         ┆           ┆         ┆ Malcolm   ┆          ┆          ┆          │\n",
       "│         ┆           ┆         ┆           ┆         ┆ Young,    ┆          ┆          ┆          │\n",
       "│         ┆           ┆         ┆           ┆         ┆ Brian     ┆          ┆          ┆          │\n",
       "│         ┆           ┆         ┆           ┆         ┆ Johnson   ┆          ┆          ┆          │\n",
       "└─────────┴───────────┴─────────┴───────────┴─────────┴───────────┴──────────┴──────────┴──────────┘"
      ]
     },
     "execution_count": 13,
     "metadata": {},
     "output_type": "execute_result"
    }
   ],
   "source": [
    "query = \"SELECT * FROM Track LIMIT 10\"\n",
    "\n",
    "pl.read_database(query=query, connection=conn.connect())"
   ]
  },
  {
   "cell_type": "code",
   "execution_count": 14,
   "metadata": {},
   "outputs": [
    {
     "data": {
      "text/html": [
       "<div><style>\n",
       ".dataframe > thead > tr,\n",
       ".dataframe > tbody > tr {\n",
       "  text-align: right;\n",
       "  white-space: pre-wrap;\n",
       "}\n",
       "</style>\n",
       "<small>shape: (10, 2)</small><table border=\"1\" class=\"dataframe\"><thead><tr><th>ArtistId</th><th>Name</th></tr><tr><td>i64</td><td>str</td></tr></thead><tbody><tr><td>1</td><td>&quot;AC/DC&quot;</td></tr><tr><td>2</td><td>&quot;Accept&quot;</td></tr><tr><td>3</td><td>&quot;Aerosmith&quot;</td></tr><tr><td>4</td><td>&quot;Alanis Morissette&quot;</td></tr><tr><td>5</td><td>&quot;Alice In Chains&quot;</td></tr><tr><td>6</td><td>&quot;Antônio Carlos Jobim&quot;</td></tr><tr><td>7</td><td>&quot;Apocalyptica&quot;</td></tr><tr><td>8</td><td>&quot;Audioslave&quot;</td></tr><tr><td>9</td><td>&quot;BackBeat&quot;</td></tr><tr><td>10</td><td>&quot;Billy Cobham&quot;</td></tr></tbody></table></div>"
      ],
      "text/plain": [
       "shape: (10, 2)\n",
       "┌──────────┬──────────────────────┐\n",
       "│ ArtistId ┆ Name                 │\n",
       "│ ---      ┆ ---                  │\n",
       "│ i64      ┆ str                  │\n",
       "╞══════════╪══════════════════════╡\n",
       "│ 1        ┆ AC/DC                │\n",
       "│ 2        ┆ Accept               │\n",
       "│ 3        ┆ Aerosmith            │\n",
       "│ 4        ┆ Alanis Morissette    │\n",
       "│ 5        ┆ Alice In Chains      │\n",
       "│ 6        ┆ Antônio Carlos Jobim │\n",
       "│ 7        ┆ Apocalyptica         │\n",
       "│ 8        ┆ Audioslave           │\n",
       "│ 9        ┆ BackBeat             │\n",
       "│ 10       ┆ Billy Cobham         │\n",
       "└──────────┴──────────────────────┘"
      ]
     },
     "execution_count": 14,
     "metadata": {},
     "output_type": "execute_result"
    }
   ],
   "source": [
    "query = \"SELECT * FROM Artist LIMIT 10\"\n",
    "\n",
    "pl.read_database(query=query, connection=conn.connect())"
   ]
  },
  {
   "cell_type": "code",
   "execution_count": null,
   "metadata": {},
   "outputs": [],
   "source": []
  },
  {
   "cell_type": "code",
   "execution_count": 15,
   "metadata": {},
   "outputs": [
    {
     "data": {
      "text/html": [
       "<div><style>\n",
       ".dataframe > thead > tr,\n",
       ".dataframe > tbody > tr {\n",
       "  text-align: right;\n",
       "  white-space: pre-wrap;\n",
       "}\n",
       "</style>\n",
       "<small>shape: (5, 32)</small><table border=\"1\" class=\"dataframe\"><thead><tr><th>id</th><th>diagnosis</th><th>radius_mean</th><th>texture_mean</th><th>perimeter_mean</th><th>area_mean</th><th>smoothness_mean</th><th>compactness_mean</th><th>concavity_mean</th><th>concave points_mean</th><th>symmetry_mean</th><th>fractal_dimension_mean</th><th>radius_se</th><th>texture_se</th><th>perimeter_se</th><th>area_se</th><th>smoothness_se</th><th>compactness_se</th><th>concavity_se</th><th>concave points_se</th><th>symmetry_se</th><th>fractal_dimension_se</th><th>radius_worst</th><th>texture_worst</th><th>perimeter_worst</th><th>area_worst</th><th>smoothness_worst</th><th>compactness_worst</th><th>concavity_worst</th><th>concave points_worst</th><th>symmetry_worst</th><th>fractal_dimension_worst</th></tr><tr><td>i64</td><td>str</td><td>f64</td><td>f64</td><td>f64</td><td>f64</td><td>f64</td><td>f64</td><td>f64</td><td>f64</td><td>f64</td><td>f64</td><td>f64</td><td>f64</td><td>f64</td><td>f64</td><td>f64</td><td>f64</td><td>f64</td><td>f64</td><td>f64</td><td>f64</td><td>f64</td><td>f64</td><td>f64</td><td>f64</td><td>f64</td><td>f64</td><td>f64</td><td>f64</td><td>f64</td><td>f64</td></tr></thead><tbody><tr><td>842302</td><td>&quot;M&quot;</td><td>17.99</td><td>10.38</td><td>122.8</td><td>1001.0</td><td>0.1184</td><td>0.2776</td><td>0.3001</td><td>0.1471</td><td>0.2419</td><td>0.07871</td><td>1.095</td><td>0.9053</td><td>8.589</td><td>153.4</td><td>0.006399</td><td>0.04904</td><td>0.05373</td><td>0.01587</td><td>0.03003</td><td>0.006193</td><td>25.38</td><td>17.33</td><td>184.6</td><td>2019.0</td><td>0.1622</td><td>0.6656</td><td>0.7119</td><td>0.2654</td><td>0.4601</td><td>0.1189</td></tr><tr><td>842517</td><td>&quot;M&quot;</td><td>20.57</td><td>17.77</td><td>132.9</td><td>1326.0</td><td>0.08474</td><td>0.07864</td><td>0.0869</td><td>0.07017</td><td>0.1812</td><td>0.05667</td><td>0.5435</td><td>0.7339</td><td>3.398</td><td>74.08</td><td>0.005225</td><td>0.01308</td><td>0.0186</td><td>0.0134</td><td>0.01389</td><td>0.003532</td><td>24.99</td><td>23.41</td><td>158.8</td><td>1956.0</td><td>0.1238</td><td>0.1866</td><td>0.2416</td><td>0.186</td><td>0.275</td><td>0.08902</td></tr><tr><td>84300903</td><td>&quot;M&quot;</td><td>19.69</td><td>21.25</td><td>130.0</td><td>1203.0</td><td>0.1096</td><td>0.1599</td><td>0.1974</td><td>0.1279</td><td>0.2069</td><td>0.05999</td><td>0.7456</td><td>0.7869</td><td>4.585</td><td>94.03</td><td>0.00615</td><td>0.04006</td><td>0.03832</td><td>0.02058</td><td>0.0225</td><td>0.004571</td><td>23.57</td><td>25.53</td><td>152.5</td><td>1709.0</td><td>0.1444</td><td>0.4245</td><td>0.4504</td><td>0.243</td><td>0.3613</td><td>0.08758</td></tr><tr><td>84348301</td><td>&quot;M&quot;</td><td>11.42</td><td>20.38</td><td>77.58</td><td>386.1</td><td>0.1425</td><td>0.2839</td><td>0.2414</td><td>0.1052</td><td>0.2597</td><td>0.09744</td><td>0.4956</td><td>1.156</td><td>3.445</td><td>27.23</td><td>0.00911</td><td>0.07458</td><td>0.05661</td><td>0.01867</td><td>0.05963</td><td>0.009208</td><td>14.91</td><td>26.5</td><td>98.87</td><td>567.7</td><td>0.2098</td><td>0.8663</td><td>0.6869</td><td>0.2575</td><td>0.6638</td><td>0.173</td></tr><tr><td>84358402</td><td>&quot;M&quot;</td><td>20.29</td><td>14.34</td><td>135.1</td><td>1297.0</td><td>0.1003</td><td>0.1328</td><td>0.198</td><td>0.1043</td><td>0.1809</td><td>0.05883</td><td>0.7572</td><td>0.7813</td><td>5.438</td><td>94.44</td><td>0.01149</td><td>0.02461</td><td>0.05688</td><td>0.01885</td><td>0.01756</td><td>0.005115</td><td>22.54</td><td>16.67</td><td>152.2</td><td>1575.0</td><td>0.1374</td><td>0.205</td><td>0.4</td><td>0.1625</td><td>0.2364</td><td>0.07678</td></tr></tbody></table></div>"
      ],
      "text/plain": [
       "shape: (5, 32)\n",
       "┌─────┬─────┬─────┬─────┬─────┬─────┬─────┬─────┬─────┬─────┬─────┬─────┬─────┬─────┬─────┬─────┬─────┬─────┬─────┬─────┬─────┬─────┬─────┬─────┬─────┬─────┬─────┬─────┬─────┬─────┬─────┬─────┐\n",
       "│ id  ┆ dia ┆ rad ┆ tex ┆ per ┆ are ┆ smo ┆ com ┆ con ┆ con ┆ sym ┆ fra ┆ rad ┆ tex ┆ per ┆ are ┆ smo ┆ com ┆ con ┆ con ┆ sym ┆ fra ┆ rad ┆ tex ┆ per ┆ are ┆ smo ┆ com ┆ con ┆ con ┆ sym ┆ fra │\n",
       "│ --- ┆ gno ┆ ius ┆ tur ┆ ime ┆ a_m ┆ oth ┆ pac ┆ cav ┆ cav ┆ met ┆ cta ┆ ius ┆ tur ┆ ime ┆ a_s ┆ oth ┆ pac ┆ cav ┆ cav ┆ met ┆ cta ┆ ius ┆ tur ┆ ime ┆ a_w ┆ oth ┆ pac ┆ cav ┆ cav ┆ met ┆ cta │\n",
       "│ i64 ┆ sis ┆ _me ┆ e_m ┆ ter ┆ ean ┆ nes ┆ tne ┆ ity ┆ e   ┆ ry_ ┆ l_d ┆ _se ┆ e_s ┆ ter ┆ e   ┆ nes ┆ tne ┆ ity ┆ e   ┆ ry_ ┆ l_d ┆ _wo ┆ e_w ┆ ter ┆ ors ┆ nes ┆ tne ┆ ity ┆ e   ┆ ry_ ┆ l_d │\n",
       "│     ┆ --- ┆ an  ┆ ean ┆ _me ┆ --- ┆ s_m ┆ ss_ ┆ _me ┆ poi ┆ mea ┆ ime ┆ --- ┆ e   ┆ _se ┆ --- ┆ s_s ┆ ss_ ┆ _se ┆ poi ┆ se  ┆ ime ┆ rst ┆ ors ┆ _wo ┆ t   ┆ s_w ┆ ss_ ┆ _wo ┆ poi ┆ wor ┆ ime │\n",
       "│     ┆ str ┆ --- ┆ --- ┆ an  ┆ f64 ┆ ean ┆ mea ┆ an  ┆ nts ┆ n   ┆ nsi ┆ f64 ┆ --- ┆ --- ┆ f64 ┆ e   ┆ se  ┆ --- ┆ nts ┆ --- ┆ nsi ┆ --- ┆ t   ┆ rst ┆ --- ┆ ors ┆ wor ┆ rst ┆ nts ┆ st  ┆ nsi │\n",
       "│     ┆     ┆ f64 ┆ f64 ┆ --- ┆     ┆ --- ┆ n   ┆ --- ┆ _me ┆ --- ┆ on_ ┆     ┆ f64 ┆ f64 ┆     ┆ --- ┆ --- ┆ f64 ┆ _se ┆ f64 ┆ on_ ┆ f64 ┆ --- ┆ --- ┆ f64 ┆ t   ┆ st  ┆ --- ┆ _wo ┆ --- ┆ on_ │\n",
       "│     ┆     ┆     ┆     ┆ f64 ┆     ┆ f64 ┆ --- ┆ f64 ┆ an  ┆ f64 ┆ mea ┆     ┆     ┆     ┆     ┆ f64 ┆ f64 ┆     ┆ --- ┆     ┆ se  ┆     ┆ f64 ┆ f64 ┆     ┆ --- ┆ --- ┆ f64 ┆ rst ┆ f64 ┆ wor │\n",
       "│     ┆     ┆     ┆     ┆     ┆     ┆     ┆ f64 ┆     ┆ --- ┆     ┆ n   ┆     ┆     ┆     ┆     ┆     ┆     ┆     ┆ f64 ┆     ┆ --- ┆     ┆     ┆     ┆     ┆ f64 ┆ f64 ┆     ┆ --- ┆     ┆ st  │\n",
       "│     ┆     ┆     ┆     ┆     ┆     ┆     ┆     ┆     ┆ f64 ┆     ┆ --- ┆     ┆     ┆     ┆     ┆     ┆     ┆     ┆     ┆     ┆ f64 ┆     ┆     ┆     ┆     ┆     ┆     ┆     ┆ f64 ┆     ┆ --- │\n",
       "│     ┆     ┆     ┆     ┆     ┆     ┆     ┆     ┆     ┆     ┆     ┆ f64 ┆     ┆     ┆     ┆     ┆     ┆     ┆     ┆     ┆     ┆     ┆     ┆     ┆     ┆     ┆     ┆     ┆     ┆     ┆     ┆ f64 │\n",
       "╞═════╪═════╪═════╪═════╪═════╪═════╪═════╪═════╪═════╪═════╪═════╪═════╪═════╪═════╪═════╪═════╪═════╪═════╪═════╪═════╪═════╪═════╪═════╪═════╪═════╪═════╪═════╪═════╪═════╪═════╪═════╪═════╡\n",
       "│ 842 ┆ M   ┆ 17. ┆ 10. ┆ 122 ┆ 100 ┆ 0.1 ┆ 0.2 ┆ 0.3 ┆ 0.1 ┆ 0.2 ┆ 0.0 ┆ 1.0 ┆ 0.9 ┆ 8.5 ┆ 153 ┆ 0.0 ┆ 0.0 ┆ 0.0 ┆ 0.0 ┆ 0.0 ┆ 0.0 ┆ 25. ┆ 17. ┆ 184 ┆ 201 ┆ 0.1 ┆ 0.6 ┆ 0.7 ┆ 0.2 ┆ 0.4 ┆ 0.1 │\n",
       "│ 302 ┆     ┆ 99  ┆ 38  ┆ .8  ┆ 1.0 ┆ 184 ┆ 776 ┆ 001 ┆ 471 ┆ 419 ┆ 787 ┆ 95  ┆ 053 ┆ 89  ┆ .4  ┆ 063 ┆ 490 ┆ 537 ┆ 158 ┆ 300 ┆ 061 ┆ 38  ┆ 33  ┆ .6  ┆ 9.0 ┆ 622 ┆ 656 ┆ 119 ┆ 654 ┆ 601 ┆ 189 │\n",
       "│     ┆     ┆     ┆     ┆     ┆     ┆     ┆     ┆     ┆     ┆     ┆ 1   ┆     ┆     ┆     ┆     ┆ 99  ┆ 4   ┆ 3   ┆ 7   ┆ 3   ┆ 93  ┆     ┆     ┆     ┆     ┆     ┆     ┆     ┆     ┆     ┆     │\n",
       "│ 842 ┆ M   ┆ 20. ┆ 17. ┆ 132 ┆ 132 ┆ 0.0 ┆ 0.0 ┆ 0.0 ┆ 0.0 ┆ 0.1 ┆ 0.0 ┆ 0.5 ┆ 0.7 ┆ 3.3 ┆ 74. ┆ 0.0 ┆ 0.0 ┆ 0.0 ┆ 0.0 ┆ 0.0 ┆ 0.0 ┆ 24. ┆ 23. ┆ 158 ┆ 195 ┆ 0.1 ┆ 0.1 ┆ 0.2 ┆ 0.1 ┆ 0.2 ┆ 0.0 │\n",
       "│ 517 ┆     ┆ 57  ┆ 77  ┆ .9  ┆ 6.0 ┆ 847 ┆ 786 ┆ 869 ┆ 701 ┆ 812 ┆ 566 ┆ 435 ┆ 339 ┆ 98  ┆ 08  ┆ 052 ┆ 130 ┆ 186 ┆ 134 ┆ 138 ┆ 035 ┆ 99  ┆ 41  ┆ .8  ┆ 6.0 ┆ 238 ┆ 866 ┆ 416 ┆ 86  ┆ 75  ┆ 890 │\n",
       "│     ┆     ┆     ┆     ┆     ┆     ┆ 4   ┆ 4   ┆     ┆ 7   ┆     ┆ 7   ┆     ┆     ┆     ┆     ┆ 25  ┆ 8   ┆     ┆     ┆ 9   ┆ 32  ┆     ┆     ┆     ┆     ┆     ┆     ┆     ┆     ┆     ┆ 2   │\n",
       "│ 843 ┆ M   ┆ 19. ┆ 21. ┆ 130 ┆ 120 ┆ 0.1 ┆ 0.1 ┆ 0.1 ┆ 0.1 ┆ 0.2 ┆ 0.0 ┆ 0.7 ┆ 0.7 ┆ 4.5 ┆ 94. ┆ 0.0 ┆ 0.0 ┆ 0.0 ┆ 0.0 ┆ 0.0 ┆ 0.0 ┆ 23. ┆ 25. ┆ 152 ┆ 170 ┆ 0.1 ┆ 0.4 ┆ 0.4 ┆ 0.2 ┆ 0.3 ┆ 0.0 │\n",
       "│ 009 ┆     ┆ 69  ┆ 25  ┆ .0  ┆ 3.0 ┆ 096 ┆ 599 ┆ 974 ┆ 279 ┆ 069 ┆ 599 ┆ 456 ┆ 869 ┆ 85  ┆ 03  ┆ 061 ┆ 400 ┆ 383 ┆ 205 ┆ 225 ┆ 045 ┆ 57  ┆ 53  ┆ .5  ┆ 9.0 ┆ 444 ┆ 245 ┆ 504 ┆ 43  ┆ 613 ┆ 875 │\n",
       "│ 03  ┆     ┆     ┆     ┆     ┆     ┆     ┆     ┆     ┆     ┆     ┆ 9   ┆     ┆     ┆     ┆     ┆ 5   ┆ 6   ┆ 2   ┆ 8   ┆     ┆ 71  ┆     ┆     ┆     ┆     ┆     ┆     ┆     ┆     ┆     ┆ 8   │\n",
       "│ 843 ┆ M   ┆ 11. ┆ 20. ┆ 77. ┆ 386 ┆ 0.1 ┆ 0.2 ┆ 0.2 ┆ 0.1 ┆ 0.2 ┆ 0.0 ┆ 0.4 ┆ 1.1 ┆ 3.4 ┆ 27. ┆ 0.0 ┆ 0.0 ┆ 0.0 ┆ 0.0 ┆ 0.0 ┆ 0.0 ┆ 14. ┆ 26. ┆ 98. ┆ 567 ┆ 0.2 ┆ 0.8 ┆ 0.6 ┆ 0.2 ┆ 0.6 ┆ 0.1 │\n",
       "│ 483 ┆     ┆ 42  ┆ 38  ┆ 58  ┆ .1  ┆ 425 ┆ 839 ┆ 414 ┆ 052 ┆ 597 ┆ 974 ┆ 956 ┆ 56  ┆ 45  ┆ 23  ┆ 091 ┆ 745 ┆ 566 ┆ 186 ┆ 596 ┆ 092 ┆ 91  ┆ 5   ┆ 87  ┆ .7  ┆ 098 ┆ 663 ┆ 869 ┆ 575 ┆ 638 ┆ 73  │\n",
       "│ 01  ┆     ┆     ┆     ┆     ┆     ┆     ┆     ┆     ┆     ┆     ┆ 4   ┆     ┆     ┆     ┆     ┆ 1   ┆ 8   ┆ 1   ┆ 7   ┆ 3   ┆ 08  ┆     ┆     ┆     ┆     ┆     ┆     ┆     ┆     ┆     ┆     │\n",
       "│ 843 ┆ M   ┆ 20. ┆ 14. ┆ 135 ┆ 129 ┆ 0.1 ┆ 0.1 ┆ 0.1 ┆ 0.1 ┆ 0.1 ┆ 0.0 ┆ 0.7 ┆ 0.7 ┆ 5.4 ┆ 94. ┆ 0.0 ┆ 0.0 ┆ 0.0 ┆ 0.0 ┆ 0.0 ┆ 0.0 ┆ 22. ┆ 16. ┆ 152 ┆ 157 ┆ 0.1 ┆ 0.2 ┆ 0.4 ┆ 0.1 ┆ 0.2 ┆ 0.0 │\n",
       "│ 584 ┆     ┆ 29  ┆ 34  ┆ .1  ┆ 7.0 ┆ 003 ┆ 328 ┆ 98  ┆ 043 ┆ 809 ┆ 588 ┆ 572 ┆ 813 ┆ 38  ┆ 44  ┆ 114 ┆ 246 ┆ 568 ┆ 188 ┆ 175 ┆ 051 ┆ 54  ┆ 67  ┆ .2  ┆ 5.0 ┆ 374 ┆ 05  ┆     ┆ 625 ┆ 364 ┆ 767 │\n",
       "│ 02  ┆     ┆     ┆     ┆     ┆     ┆     ┆     ┆     ┆     ┆     ┆ 3   ┆     ┆     ┆     ┆     ┆ 9   ┆ 1   ┆ 8   ┆ 5   ┆ 6   ┆ 15  ┆     ┆     ┆     ┆     ┆     ┆     ┆     ┆     ┆     ┆ 8   │\n",
       "└─────┴─────┴─────┴─────┴─────┴─────┴─────┴─────┴─────┴─────┴─────┴─────┴─────┴─────┴─────┴─────┴─────┴─────┴─────┴─────┴─────┴─────┴─────┴─────┴─────┴─────┴─────┴─────┴─────┴─────┴─────┴─────┘"
      ]
     },
     "execution_count": 15,
     "metadata": {},
     "output_type": "execute_result"
    }
   ],
   "source": [
    "fp: str = \"../data/flat_files/breast-cancer.csv\"\n",
    "df: pl.DataFrame = pl.read_csv(fp)\n",
    "\n",
    "df.head()"
   ]
  },
  {
   "cell_type": "code",
   "execution_count": null,
   "metadata": {},
   "outputs": [],
   "source": []
  },
  {
   "cell_type": "code",
   "execution_count": null,
   "metadata": {},
   "outputs": [],
   "source": []
  },
  {
   "cell_type": "code",
   "execution_count": null,
   "metadata": {},
   "outputs": [],
   "source": []
  },
  {
   "cell_type": "code",
   "execution_count": null,
   "metadata": {},
   "outputs": [],
   "source": []
  }
 ],
 "metadata": {
  "kernelspec": {
   "display_name": ".venv",
   "language": "python",
   "name": "python3"
  },
  "language_info": {
   "codemirror_mode": {
    "name": "ipython",
    "version": 3
   },
   "file_extension": ".py",
   "mimetype": "text/x-python",
   "name": "python",
   "nbconvert_exporter": "python",
   "pygments_lexer": "ipython3",
   "version": "3.12.7"
  }
 },
 "nbformat": 4,
 "nbformat_minor": 2
}
